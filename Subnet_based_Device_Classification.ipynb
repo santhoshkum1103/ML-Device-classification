{
  "nbformat": 4,
  "nbformat_minor": 0,
  "metadata": {
    "colab": {
      "name": "Subnet-based-Device_Classification.ipynb",
      "provenance": [],
      "collapsed_sections": []
    },
    "kernelspec": {
      "name": "python3",
      "display_name": "Python 3"
    },
    "language_info": {
      "name": "python"
    }
  },
  "cells": [
    {
      "cell_type": "code",
      "metadata": {
        "id": "tWBvZXF8fZGs"
      },
      "source": [
        "#Import Libraries and Packages\n",
        "import pandas as pd\n",
        "import numpy as np\n",
        "import matplotlib.pyplot as plt\n",
        "import csv\n",
        "import os\n",
        "import sys\n",
        "import time\n",
        "import json\n",
        "import ipaddress\n",
        "import socket, struct\n",
        "import seaborn as sns\n",
        "from numpy import array\n",
        "from random import random\n",
        "from sklearn import svm\n",
        "from sklearn.compose import ColumnTransformer\n",
        "from sklearn.preprocessing import StandardScaler, LabelEncoder, OneHotEncoder\n",
        "from sklearn.model_selection import train_test_split\n",
        "from google.colab import files\n",
        "from sklearn.svm import SVC, LinearSVC\n",
        "from sklearn.ensemble import RandomForestClassifier\n",
        "from sklearn.neighbors import KNeighborsClassifier\n",
        "from sklearn.naive_bayes import GaussianNB\n",
        "from sklearn.linear_model import Perceptron\n",
        "from sklearn.linear_model import SGDClassifier\n",
        "from sklearn.tree import DecisionTreeClassifier\n",
        "from sklearn.linear_model import LogisticRegression\n"
      ],
      "execution_count": null,
      "outputs": []
    },
    {
      "cell_type": "code",
      "metadata": {
        "id": "P3FrWGb2mceD"
      },
      "source": [
        "netflow = pd.read_csv('/content/nfcapd202110062249.csv', usecols=['td','sa','da','sp','dp','pr','ipkt','ibyt','opkt','obyt'])"
      ],
      "execution_count": null,
      "outputs": []
    },
    {
      "cell_type": "code",
      "metadata": {
        "colab": {
          "base_uri": "https://localhost:8080/",
          "height": 677
        },
        "id": "UZfNHD1xmcl7",
        "outputId": "a2edb5b3-7372-4cc1-8c99-66c77ec9be2c"
      },
      "source": [
        "netflow.head(20)"
      ],
      "execution_count": null,
      "outputs": [
        {
          "output_type": "execute_result",
          "data": {
            "text/html": [
              "<div>\n",
              "<style scoped>\n",
              "    .dataframe tbody tr th:only-of-type {\n",
              "        vertical-align: middle;\n",
              "    }\n",
              "\n",
              "    .dataframe tbody tr th {\n",
              "        vertical-align: top;\n",
              "    }\n",
              "\n",
              "    .dataframe thead th {\n",
              "        text-align: right;\n",
              "    }\n",
              "</style>\n",
              "<table border=\"1\" class=\"dataframe\">\n",
              "  <thead>\n",
              "    <tr style=\"text-align: right;\">\n",
              "      <th></th>\n",
              "      <th>td</th>\n",
              "      <th>sa</th>\n",
              "      <th>da</th>\n",
              "      <th>sp</th>\n",
              "      <th>dp</th>\n",
              "      <th>pr</th>\n",
              "      <th>ipkt</th>\n",
              "      <th>ibyt</th>\n",
              "      <th>opkt</th>\n",
              "      <th>obyt</th>\n",
              "    </tr>\n",
              "  </thead>\n",
              "  <tbody>\n",
              "    <tr>\n",
              "      <th>0</th>\n",
              "      <td>0.000</td>\n",
              "      <td>44.149.43.199</td>\n",
              "      <td>44.149.43.193</td>\n",
              "      <td>34241</td>\n",
              "      <td>53.0</td>\n",
              "      <td>UDP</td>\n",
              "      <td>1.0</td>\n",
              "      <td>64.0</td>\n",
              "      <td>0.0</td>\n",
              "      <td>0.0</td>\n",
              "    </tr>\n",
              "    <tr>\n",
              "      <th>1</th>\n",
              "      <td>0.000</td>\n",
              "      <td>44.148.20.57</td>\n",
              "      <td>44.149.43.1</td>\n",
              "      <td>35660</td>\n",
              "      <td>53.0</td>\n",
              "      <td>UDP</td>\n",
              "      <td>1.0</td>\n",
              "      <td>64.0</td>\n",
              "      <td>0.0</td>\n",
              "      <td>0.0</td>\n",
              "    </tr>\n",
              "    <tr>\n",
              "      <th>2</th>\n",
              "      <td>0.000</td>\n",
              "      <td>44.149.43.1</td>\n",
              "      <td>44.148.20.57</td>\n",
              "      <td>53</td>\n",
              "      <td>35660.0</td>\n",
              "      <td>UDP</td>\n",
              "      <td>1.0</td>\n",
              "      <td>80.0</td>\n",
              "      <td>0.0</td>\n",
              "      <td>0.0</td>\n",
              "    </tr>\n",
              "    <tr>\n",
              "      <th>3</th>\n",
              "      <td>0.000</td>\n",
              "      <td>44.149.43.193</td>\n",
              "      <td>44.149.43.199</td>\n",
              "      <td>53</td>\n",
              "      <td>34241.0</td>\n",
              "      <td>UDP</td>\n",
              "      <td>1.0</td>\n",
              "      <td>216.0</td>\n",
              "      <td>0.0</td>\n",
              "      <td>0.0</td>\n",
              "    </tr>\n",
              "    <tr>\n",
              "      <th>4</th>\n",
              "      <td>0.000</td>\n",
              "      <td>44.149.43.199</td>\n",
              "      <td>168.235.104.115</td>\n",
              "      <td>44182</td>\n",
              "      <td>80.0</td>\n",
              "      <td>TCP</td>\n",
              "      <td>1.0</td>\n",
              "      <td>60.0</td>\n",
              "      <td>0.0</td>\n",
              "      <td>0.0</td>\n",
              "    </tr>\n",
              "    <tr>\n",
              "      <th>5</th>\n",
              "      <td>0.000</td>\n",
              "      <td>168.235.104.115</td>\n",
              "      <td>44.149.43.199</td>\n",
              "      <td>80</td>\n",
              "      <td>44182.0</td>\n",
              "      <td>TCP</td>\n",
              "      <td>1.0</td>\n",
              "      <td>88.0</td>\n",
              "      <td>0.0</td>\n",
              "      <td>0.0</td>\n",
              "    </tr>\n",
              "    <tr>\n",
              "      <th>6</th>\n",
              "      <td>5.370</td>\n",
              "      <td>50.235.87.130</td>\n",
              "      <td>44.149.43.210</td>\n",
              "      <td>80</td>\n",
              "      <td>55522.0</td>\n",
              "      <td>TCP</td>\n",
              "      <td>6.0</td>\n",
              "      <td>581.0</td>\n",
              "      <td>0.0</td>\n",
              "      <td>0.0</td>\n",
              "    </tr>\n",
              "    <tr>\n",
              "      <th>7</th>\n",
              "      <td>5.480</td>\n",
              "      <td>44.149.43.210</td>\n",
              "      <td>50.235.87.130</td>\n",
              "      <td>55522</td>\n",
              "      <td>80.0</td>\n",
              "      <td>TCP</td>\n",
              "      <td>7.0</td>\n",
              "      <td>658.0</td>\n",
              "      <td>0.0</td>\n",
              "      <td>0.0</td>\n",
              "    </tr>\n",
              "    <tr>\n",
              "      <th>8</th>\n",
              "      <td>0.000</td>\n",
              "      <td>44.149.16.139</td>\n",
              "      <td>44.225.41.134</td>\n",
              "      <td>56506</td>\n",
              "      <td>8080.0</td>\n",
              "      <td>TCP</td>\n",
              "      <td>1.0</td>\n",
              "      <td>60.0</td>\n",
              "      <td>0.0</td>\n",
              "      <td>0.0</td>\n",
              "    </tr>\n",
              "    <tr>\n",
              "      <th>9</th>\n",
              "      <td>0.000</td>\n",
              "      <td>44.149.16.139</td>\n",
              "      <td>44.225.41.134</td>\n",
              "      <td>41014</td>\n",
              "      <td>81.0</td>\n",
              "      <td>TCP</td>\n",
              "      <td>1.0</td>\n",
              "      <td>60.0</td>\n",
              "      <td>0.0</td>\n",
              "      <td>0.0</td>\n",
              "    </tr>\n",
              "    <tr>\n",
              "      <th>10</th>\n",
              "      <td>0.000</td>\n",
              "      <td>44.132.28.65</td>\n",
              "      <td>44.149.43.132</td>\n",
              "      <td>4520</td>\n",
              "      <td>4520.0</td>\n",
              "      <td>UDP</td>\n",
              "      <td>1.0</td>\n",
              "      <td>36.0</td>\n",
              "      <td>0.0</td>\n",
              "      <td>0.0</td>\n",
              "    </tr>\n",
              "    <tr>\n",
              "      <th>11</th>\n",
              "      <td>0.000</td>\n",
              "      <td>44.149.43.132</td>\n",
              "      <td>44.132.28.65</td>\n",
              "      <td>4520</td>\n",
              "      <td>4520.0</td>\n",
              "      <td>UDP</td>\n",
              "      <td>1.0</td>\n",
              "      <td>36.0</td>\n",
              "      <td>0.0</td>\n",
              "      <td>0.0</td>\n",
              "    </tr>\n",
              "    <tr>\n",
              "      <th>12</th>\n",
              "      <td>0.000</td>\n",
              "      <td>44.225.41.134</td>\n",
              "      <td>44.149.16.139</td>\n",
              "      <td>8080</td>\n",
              "      <td>56506.0</td>\n",
              "      <td>TCP</td>\n",
              "      <td>1.0</td>\n",
              "      <td>40.0</td>\n",
              "      <td>0.0</td>\n",
              "      <td>0.0</td>\n",
              "    </tr>\n",
              "    <tr>\n",
              "      <th>13</th>\n",
              "      <td>0.000</td>\n",
              "      <td>44.132.28.65</td>\n",
              "      <td>44.149.43.21</td>\n",
              "      <td>4520</td>\n",
              "      <td>4520.0</td>\n",
              "      <td>UDP</td>\n",
              "      <td>1.0</td>\n",
              "      <td>36.0</td>\n",
              "      <td>0.0</td>\n",
              "      <td>0.0</td>\n",
              "    </tr>\n",
              "    <tr>\n",
              "      <th>14</th>\n",
              "      <td>0.000</td>\n",
              "      <td>44.149.43.21</td>\n",
              "      <td>44.132.28.65</td>\n",
              "      <td>4520</td>\n",
              "      <td>4520.0</td>\n",
              "      <td>UDP</td>\n",
              "      <td>1.0</td>\n",
              "      <td>36.0</td>\n",
              "      <td>0.0</td>\n",
              "      <td>0.0</td>\n",
              "    </tr>\n",
              "    <tr>\n",
              "      <th>15</th>\n",
              "      <td>0.000</td>\n",
              "      <td>44.225.41.134</td>\n",
              "      <td>44.149.16.139</td>\n",
              "      <td>81</td>\n",
              "      <td>41014.0</td>\n",
              "      <td>TCP</td>\n",
              "      <td>1.0</td>\n",
              "      <td>40.0</td>\n",
              "      <td>0.0</td>\n",
              "      <td>0.0</td>\n",
              "    </tr>\n",
              "    <tr>\n",
              "      <th>16</th>\n",
              "      <td>0.000</td>\n",
              "      <td>44.224.20.42</td>\n",
              "      <td>255.255.255.255</td>\n",
              "      <td>5678</td>\n",
              "      <td>5678.0</td>\n",
              "      <td>UDP</td>\n",
              "      <td>1.0</td>\n",
              "      <td>148.0</td>\n",
              "      <td>0.0</td>\n",
              "      <td>0.0</td>\n",
              "    </tr>\n",
              "    <tr>\n",
              "      <th>17</th>\n",
              "      <td>1799.930</td>\n",
              "      <td>137.226.79.98</td>\n",
              "      <td>44.149.43.21</td>\n",
              "      <td>4520</td>\n",
              "      <td>4520.0</td>\n",
              "      <td>UDP</td>\n",
              "      <td>892.0</td>\n",
              "      <td>32112.0</td>\n",
              "      <td>0.0</td>\n",
              "      <td>0.0</td>\n",
              "    </tr>\n",
              "    <tr>\n",
              "      <th>18</th>\n",
              "      <td>1799.940</td>\n",
              "      <td>137.226.79.98</td>\n",
              "      <td>44.149.43.132</td>\n",
              "      <td>4520</td>\n",
              "      <td>4520.0</td>\n",
              "      <td>UDP</td>\n",
              "      <td>891.0</td>\n",
              "      <td>32076.0</td>\n",
              "      <td>0.0</td>\n",
              "      <td>0.0</td>\n",
              "    </tr>\n",
              "    <tr>\n",
              "      <th>19</th>\n",
              "      <td>1799.940</td>\n",
              "      <td>44.149.43.132</td>\n",
              "      <td>137.226.79.98</td>\n",
              "      <td>4520</td>\n",
              "      <td>4520.0</td>\n",
              "      <td>UDP</td>\n",
              "      <td>891.0</td>\n",
              "      <td>32076.0</td>\n",
              "      <td>0.0</td>\n",
              "      <td>0.0</td>\n",
              "    </tr>\n",
              "  </tbody>\n",
              "</table>\n",
              "</div>"
            ],
            "text/plain": [
              "          td               sa               da  ...     ibyt  opkt obyt\n",
              "0      0.000    44.149.43.199    44.149.43.193  ...     64.0   0.0  0.0\n",
              "1      0.000     44.148.20.57      44.149.43.1  ...     64.0   0.0  0.0\n",
              "2      0.000      44.149.43.1     44.148.20.57  ...     80.0   0.0  0.0\n",
              "3      0.000    44.149.43.193    44.149.43.199  ...    216.0   0.0  0.0\n",
              "4      0.000    44.149.43.199  168.235.104.115  ...     60.0   0.0  0.0\n",
              "5      0.000  168.235.104.115    44.149.43.199  ...     88.0   0.0  0.0\n",
              "6      5.370    50.235.87.130    44.149.43.210  ...    581.0   0.0  0.0\n",
              "7      5.480    44.149.43.210    50.235.87.130  ...    658.0   0.0  0.0\n",
              "8      0.000    44.149.16.139    44.225.41.134  ...     60.0   0.0  0.0\n",
              "9      0.000    44.149.16.139    44.225.41.134  ...     60.0   0.0  0.0\n",
              "10     0.000     44.132.28.65    44.149.43.132  ...     36.0   0.0  0.0\n",
              "11     0.000    44.149.43.132     44.132.28.65  ...     36.0   0.0  0.0\n",
              "12     0.000    44.225.41.134    44.149.16.139  ...     40.0   0.0  0.0\n",
              "13     0.000     44.132.28.65     44.149.43.21  ...     36.0   0.0  0.0\n",
              "14     0.000     44.149.43.21     44.132.28.65  ...     36.0   0.0  0.0\n",
              "15     0.000    44.225.41.134    44.149.16.139  ...     40.0   0.0  0.0\n",
              "16     0.000     44.224.20.42  255.255.255.255  ...    148.0   0.0  0.0\n",
              "17  1799.930    137.226.79.98     44.149.43.21  ...  32112.0   0.0  0.0\n",
              "18  1799.940    137.226.79.98    44.149.43.132  ...  32076.0   0.0  0.0\n",
              "19  1799.940    44.149.43.132    137.226.79.98  ...  32076.0   0.0  0.0\n",
              "\n",
              "[20 rows x 10 columns]"
            ]
          },
          "metadata": {},
          "execution_count": 3
        }
      ]
    },
    {
      "cell_type": "code",
      "metadata": {
        "id": "chvsCxj9mcrw"
      },
      "source": [
        "netflow.drop(netflow.tail(3).index,inplace=True)"
      ],
      "execution_count": null,
      "outputs": []
    },
    {
      "cell_type": "code",
      "metadata": {
        "colab": {
          "base_uri": "https://localhost:8080/",
          "height": 363
        },
        "id": "2LIXO-59mco5",
        "outputId": "8eac96cc-2c9e-40f5-8943-29c9377ef982"
      },
      "source": [
        "netflow.tail(10)"
      ],
      "execution_count": null,
      "outputs": [
        {
          "output_type": "execute_result",
          "data": {
            "text/html": [
              "<div>\n",
              "<style scoped>\n",
              "    .dataframe tbody tr th:only-of-type {\n",
              "        vertical-align: middle;\n",
              "    }\n",
              "\n",
              "    .dataframe tbody tr th {\n",
              "        vertical-align: top;\n",
              "    }\n",
              "\n",
              "    .dataframe thead th {\n",
              "        text-align: right;\n",
              "    }\n",
              "</style>\n",
              "<table border=\"1\" class=\"dataframe\">\n",
              "  <thead>\n",
              "    <tr style=\"text-align: right;\">\n",
              "      <th></th>\n",
              "      <th>td</th>\n",
              "      <th>sa</th>\n",
              "      <th>da</th>\n",
              "      <th>sp</th>\n",
              "      <th>dp</th>\n",
              "      <th>pr</th>\n",
              "      <th>ipkt</th>\n",
              "      <th>ibyt</th>\n",
              "      <th>opkt</th>\n",
              "      <th>obyt</th>\n",
              "    </tr>\n",
              "  </thead>\n",
              "  <tbody>\n",
              "    <tr>\n",
              "      <th>2840</th>\n",
              "      <td>0.000</td>\n",
              "      <td>44.149.16.139</td>\n",
              "      <td>44.225.41.134</td>\n",
              "      <td>46682</td>\n",
              "      <td>81.0</td>\n",
              "      <td>TCP</td>\n",
              "      <td>1.0</td>\n",
              "      <td>60.0</td>\n",
              "      <td>0.0</td>\n",
              "      <td>0.0</td>\n",
              "    </tr>\n",
              "    <tr>\n",
              "      <th>2841</th>\n",
              "      <td>0.000</td>\n",
              "      <td>44.225.41.134</td>\n",
              "      <td>44.149.16.139</td>\n",
              "      <td>81</td>\n",
              "      <td>46682.0</td>\n",
              "      <td>TCP</td>\n",
              "      <td>1.0</td>\n",
              "      <td>40.0</td>\n",
              "      <td>0.0</td>\n",
              "      <td>0.0</td>\n",
              "    </tr>\n",
              "    <tr>\n",
              "      <th>2842</th>\n",
              "      <td>0.000</td>\n",
              "      <td>44.149.16.139</td>\n",
              "      <td>44.225.41.134</td>\n",
              "      <td>33946</td>\n",
              "      <td>8080.0</td>\n",
              "      <td>TCP</td>\n",
              "      <td>1.0</td>\n",
              "      <td>60.0</td>\n",
              "      <td>0.0</td>\n",
              "      <td>0.0</td>\n",
              "    </tr>\n",
              "    <tr>\n",
              "      <th>2843</th>\n",
              "      <td>0.000</td>\n",
              "      <td>44.225.41.134</td>\n",
              "      <td>44.149.16.139</td>\n",
              "      <td>8080</td>\n",
              "      <td>33946.0</td>\n",
              "      <td>TCP</td>\n",
              "      <td>1.0</td>\n",
              "      <td>40.0</td>\n",
              "      <td>0.0</td>\n",
              "      <td>0.0</td>\n",
              "    </tr>\n",
              "    <tr>\n",
              "      <th>2844</th>\n",
              "      <td>14.040</td>\n",
              "      <td>44.143.102.147</td>\n",
              "      <td>44.149.43.132</td>\n",
              "      <td>5060</td>\n",
              "      <td>5060.0</td>\n",
              "      <td>UDP</td>\n",
              "      <td>4.0</td>\n",
              "      <td>2450.0</td>\n",
              "      <td>0.0</td>\n",
              "      <td>0.0</td>\n",
              "    </tr>\n",
              "    <tr>\n",
              "      <th>2845</th>\n",
              "      <td>14.030</td>\n",
              "      <td>44.149.43.132</td>\n",
              "      <td>44.143.102.147</td>\n",
              "      <td>5060</td>\n",
              "      <td>5060.0</td>\n",
              "      <td>UDP</td>\n",
              "      <td>4.0</td>\n",
              "      <td>2328.0</td>\n",
              "      <td>0.0</td>\n",
              "      <td>0.0</td>\n",
              "    </tr>\n",
              "    <tr>\n",
              "      <th>2846</th>\n",
              "      <td>0.000</td>\n",
              "      <td>44.132.28.65</td>\n",
              "      <td>44.149.43.132</td>\n",
              "      <td>4520</td>\n",
              "      <td>4520.0</td>\n",
              "      <td>UDP</td>\n",
              "      <td>1.0</td>\n",
              "      <td>36.0</td>\n",
              "      <td>0.0</td>\n",
              "      <td>0.0</td>\n",
              "    </tr>\n",
              "    <tr>\n",
              "      <th>2847</th>\n",
              "      <td>0.000</td>\n",
              "      <td>44.149.43.132</td>\n",
              "      <td>44.132.28.65</td>\n",
              "      <td>4520</td>\n",
              "      <td>4520.0</td>\n",
              "      <td>UDP</td>\n",
              "      <td>1.0</td>\n",
              "      <td>36.0</td>\n",
              "      <td>0.0</td>\n",
              "      <td>0.0</td>\n",
              "    </tr>\n",
              "    <tr>\n",
              "      <th>2848</th>\n",
              "      <td>0.000</td>\n",
              "      <td>44.132.28.65</td>\n",
              "      <td>44.149.43.21</td>\n",
              "      <td>4520</td>\n",
              "      <td>4520.0</td>\n",
              "      <td>UDP</td>\n",
              "      <td>1.0</td>\n",
              "      <td>36.0</td>\n",
              "      <td>0.0</td>\n",
              "      <td>0.0</td>\n",
              "    </tr>\n",
              "    <tr>\n",
              "      <th>2849</th>\n",
              "      <td>0.000</td>\n",
              "      <td>44.149.43.21</td>\n",
              "      <td>44.132.28.65</td>\n",
              "      <td>4520</td>\n",
              "      <td>4520.0</td>\n",
              "      <td>UDP</td>\n",
              "      <td>1.0</td>\n",
              "      <td>36.0</td>\n",
              "      <td>0.0</td>\n",
              "      <td>0.0</td>\n",
              "    </tr>\n",
              "  </tbody>\n",
              "</table>\n",
              "</div>"
            ],
            "text/plain": [
              "          td              sa              da     sp  ...  ipkt    ibyt  opkt  obyt\n",
              "2840   0.000   44.149.16.139   44.225.41.134  46682  ...   1.0    60.0   0.0   0.0\n",
              "2841   0.000   44.225.41.134   44.149.16.139     81  ...   1.0    40.0   0.0   0.0\n",
              "2842   0.000   44.149.16.139   44.225.41.134  33946  ...   1.0    60.0   0.0   0.0\n",
              "2843   0.000   44.225.41.134   44.149.16.139   8080  ...   1.0    40.0   0.0   0.0\n",
              "2844  14.040  44.143.102.147   44.149.43.132   5060  ...   4.0  2450.0   0.0   0.0\n",
              "2845  14.030   44.149.43.132  44.143.102.147   5060  ...   4.0  2328.0   0.0   0.0\n",
              "2846   0.000    44.132.28.65   44.149.43.132   4520  ...   1.0    36.0   0.0   0.0\n",
              "2847   0.000   44.149.43.132    44.132.28.65   4520  ...   1.0    36.0   0.0   0.0\n",
              "2848   0.000    44.132.28.65    44.149.43.21   4520  ...   1.0    36.0   0.0   0.0\n",
              "2849   0.000    44.149.43.21    44.132.28.65   4520  ...   1.0    36.0   0.0   0.0\n",
              "\n",
              "[10 rows x 10 columns]"
            ]
          },
          "metadata": {},
          "execution_count": 5
        }
      ]
    },
    {
      "cell_type": "code",
      "metadata": {
        "id": "q0GW_QPlmcuw"
      },
      "source": [
        "netflow = netflow.dropna()"
      ],
      "execution_count": null,
      "outputs": []
    },
    {
      "cell_type": "code",
      "metadata": {
        "colab": {
          "base_uri": "https://localhost:8080/"
        },
        "id": "J0drBFqymcw_",
        "outputId": "3495d232-0baa-4f9d-f7a4-62e57ddd8bf8"
      },
      "source": [
        "netflow.shape\n"
      ],
      "execution_count": null,
      "outputs": [
        {
          "output_type": "execute_result",
          "data": {
            "text/plain": [
              "(2850, 10)"
            ]
          },
          "metadata": {},
          "execution_count": 7
        }
      ]
    },
    {
      "cell_type": "code",
      "metadata": {
        "id": "erFsOEthpjJD"
      },
      "source": [
        "netflow['sp'] = netflow.sp.astype(float)\n",
        "netflow['td'] = netflow.sp.astype(float)"
      ],
      "execution_count": null,
      "outputs": []
    },
    {
      "cell_type": "code",
      "metadata": {
        "id": "uBOa3_d1mc0O"
      },
      "source": [
        "#Import Port Numbers dataset\n",
        "port_values = pd.read_csv('/content/Port numbers 1.csv')\n",
        "Host_names = pd.read_csv('/content/Sorted_Host.csv')"
      ],
      "execution_count": null,
      "outputs": []
    },
    {
      "cell_type": "code",
      "metadata": {
        "colab": {
          "base_uri": "https://localhost:8080/"
        },
        "id": "E0YifjaVmc2V",
        "outputId": "deffa8c1-8072-438a-9b5d-dbb223bfa43c"
      },
      "source": [
        "#Converting Port numbers and description into a dictionary\n",
        "port2value = zip(port_values['Port'], port_values['Description'])\n",
        "port_description = list(port2value)\n",
        "Port_value = dict(port_description)\n",
        "Port_value"
      ],
      "execution_count": null,
      "outputs": [
        {
          "output_type": "execute_result",
          "data": {
            "text/plain": [
              "{0: 'In programming APIs- requests a system-allocated (dynamic) port',\n",
              " 1: 'TCP Port Service Multiplexer (TCPMUX)',\n",
              " 2: 'CompressNET Management Utility(official)',\n",
              " 3: 'CompressNET Compression Process(Official)',\n",
              " 5: 'Remote Job Entry',\n",
              " 7: 'Echo Protocol',\n",
              " 9: 'Discard Protocol',\n",
              " 10: 'Wake-on-LAN',\n",
              " 11: 'Active Users (systat service)',\n",
              " 13: 'Daytime Protocol',\n",
              " 15: 'Previously netstat service',\n",
              " 17: 'Quote of the Day (QOTD)',\n",
              " 18: 'Message Send Protocol',\n",
              " 19: 'Character Generator Protocol (CHARGEN)',\n",
              " 20: 'File Transfer Protocol (FTP) data transfer',\n",
              " 21: 'File Transfer Protocol (FTP) control (command)',\n",
              " 22: 'Secure Shell (SSH)',\n",
              " 23: 'Telnet protocol—unencrypted text communications',\n",
              " 25: 'Simple Mail Transfer Protocol (SMTP)',\n",
              " 28: \"Palo Alto Networks' Panorama High Availability (HA)\",\n",
              " 37: 'Time Protocol',\n",
              " 42: 'Host Name Server Protocol',\n",
              " 43: 'WHOIS protocol',\n",
              " 49: 'TACACS Login Host protocol',\n",
              " 51: 'Historically used for Interface Message Processor ',\n",
              " 52: 'Xerox Network Systems (XNS) Time Protocol',\n",
              " 53: 'Domain Name System (DNS)',\n",
              " 54: 'Xerox Network Systems (XNS) Clearinghouse (Name Server).',\n",
              " 56: 'Xerox Network Systems (XNS) Authentication Protocol.',\n",
              " 58: 'Xerox Network Systems (XNS) Mail.',\n",
              " 61: 'Historically assigned to the NIFTP-Based Mail protocol',\n",
              " 67: 'Bootstrap Protocol (BOOTP) server; also used by Dynamic Host Configuration Protocol (DHCP)',\n",
              " 68: 'Bootstrap Protocol (BOOTP) client;also used by Dynamic Host Configuration Protocol (DHCP)',\n",
              " 69: 'Trivial File Transfer Protocol (TFTP)',\n",
              " 70: 'Gopher protocol',\n",
              " 79: 'Finger protocol',\n",
              " 80: 'Hypertext Transfer Protocol (HTTP)',\n",
              " 81: 'TorPark onion routing',\n",
              " 82: 'TorPark control',\n",
              " 83: 'MIT ML Device, networking file system',\n",
              " 88: 'Kerberos authentication system',\n",
              " 90: 'PointCast (dotcom)',\n",
              " 95: 'SUPDUP, terminal-independent remote login',\n",
              " 101: 'NIC host name',\n",
              " 102: 'ISO Transport Service Access Point (TSAP)',\n",
              " 104: 'Digital Imaging and Communications in Medicine (DICOM; also port 11112)',\n",
              " 105: 'CCSO Nameserver',\n",
              " 107: 'Remote User Telnet Service (RTelnet)',\n",
              " 108: 'IBM Systems Network Architecture (SNA) gateway access server',\n",
              " 109: 'Post Office Protocol, version 2 (POP2)',\n",
              " 110: 'Post Office Protocol, version 3 (POP3)',\n",
              " 111: 'Open Network Computing Remote Procedure Call (ONC RPC, sometimes referred to as Sun RPC)',\n",
              " 113: 'Ident, authentication service/identification protocol',\n",
              " 115: 'Simple File Transfer Protocol',\n",
              " 117: 'UUCP Mapping Project (path service)',\n",
              " 118: 'Structured Query Language (SQL) Services',\n",
              " 119: 'Network News Transfer Protocol (NNTP)',\n",
              " 123: 'Network Time Protocol (NTP)',\n",
              " 126: 'Formerly Unisys Unitary Login, renamed by Unisys to NXEdit',\n",
              " 135: 'DCE endpoint resolution',\n",
              " 137: 'NetBIOS Name Service, used for name registration and resolution',\n",
              " 138: 'NetBIOS Datagram Service',\n",
              " 139: 'NetBIOS Session Service',\n",
              " 143: 'Internet Message Access Protocol (IMAP)',\n",
              " 152: 'Background File Transfer Program (BFTP)',\n",
              " 153: 'Simple Gateway Monitoring Protocol (SGMP)',\n",
              " 156: 'Structured Query Language (SQL) Service',\n",
              " 158: 'Distributed Mail System Protocol (DMSP, sometimes referred to as Pcmail)',\n",
              " 161: 'Simple Network Management Protocol (SNMP)[75]',\n",
              " 162: 'Simple Network Management Protocol Trap (SNMPTRAP)',\n",
              " 170: 'Network PostScript print server',\n",
              " 177: 'X Display Manager Control Protocol (XDMCP)',\n",
              " 179: 'Border Gateway Protocol (BGP)',\n",
              " 194: 'Internet Relay Chat (IRC)',\n",
              " 199: ' SNMP Unix Multiplexer (SMUX)',\n",
              " 201: 'AppleTalk Routing Maintenance',\n",
              " 210: 'ANSI Z39.50',\n",
              " 213: 'Internetwork Packet Exchange (IPX)',\n",
              " 259: 'Efficient Short Remote Operations (ESRO)',\n",
              " 262: 'Arcisdms',\n",
              " 264: 'Border Gateway Multicast Protocol (BGMP)',\n",
              " 280: 'http-mgmt',\n",
              " 300: 'ThinLinc Web Access',\n",
              " 308: 'Novastor Online Backup',\n",
              " 311: 'macOS Server Admin',\n",
              " 318: 'PKIX Time Stamp Protocol (TSP)',\n",
              " 319: 'Precision Time Protocol (PTP) event messages',\n",
              " 320: 'Precision Time Protocol (PTP) general messages',\n",
              " 350: 'Mapping of Airline Traffic over Internet Protocol (MATIP) type A',\n",
              " 351: 'MATIP type B',\n",
              " 356: 'cloanto-net-1 (used by Cloanto Amiga Explorer and VMs)',\n",
              " 366: 'On-Demand Mail Relay (ODMR)',\n",
              " 369: 'Rpc2portmap',\n",
              " 370: 'codaauth2, Coda authentication server',\n",
              " 371: 'ClearCase albd',\n",
              " 376: 'Amiga Envoy Network Inquiry Protocol',\n",
              " 383: 'HP data alarm manager',\n",
              " 384: 'A Remote Network Server System',\n",
              " 387: 'AURP (AppleTalk Update-based Routing Protocol)',\n",
              " 388: 'Unidata LDM near real-time data distribution protocol',\n",
              " 389: 'Lightweight Directory Access Protocol (LDAP)',\n",
              " 399: 'Digital Equipment Corporation DECnet+ (Phase V) over TCP/IP (RFC1859)',\n",
              " 401: 'Uninterruptible power supply (UPS)',\n",
              " 427: 'Service Location Protocol (SLP)',\n",
              " 433: 'NNTP, part of Network News Transfer Protocol',\n",
              " 434: 'Mobile IP Agent (RFC 5944)',\n",
              " 443: 'Hypertext Transfer Protocol Secure (HTTPS)',\n",
              " 444: 'Simple Network Paging Protocol (SNPP), RFC 1568',\n",
              " 445: 'Microsoft-DS (Directory Services) Active Directory',\n",
              " 464: 'Kerberos Change/Set password',\n",
              " 465: 'URL Rendezvous Directory for SSM (Cisco protocol)',\n",
              " 475: 'tcpnethaspsrv, Aladdin Knowledge Systems Hasp services',\n",
              " 491: 'GO-Global remote access and application publishing software',\n",
              " 497: 'Retrospect',\n",
              " 500: 'Internet Security Association and Key Management Protocol (ISAKMP) / Internet Key Exchange (IKE)',\n",
              " 502: 'Modbus Protocol',\n",
              " 504: 'Citadel, multiservice protocol for dedicated clients for the Citadel groupware system',\n",
              " 510: 'FirstClass Protocol (FCP), used by FirstClass client/server groupware system',\n",
              " 512: 'Rexec, Remote Process Execution',\n",
              " 513: 'rlogin',\n",
              " 514: 'Remote Shell',\n",
              " 515: 'Line Printer Daemon (LPD) print service',\n",
              " 517: 'Talk',\n",
              " 518: 'NTalk',\n",
              " 520: 'efs, extended file name server',\n",
              " 521: 'Routing Information Protocol Next Generation (RIPng)',\n",
              " 524: 'NetWare Core Protocol (NCP) ',\n",
              " 525: 'Timed, Timeserver',\n",
              " 530: 'Remote procedure call (RPC)',\n",
              " 532: 'netnews',\n",
              " 533: 'netwall, For Emergency Broadcasts',\n",
              " 540: 'Unix-to-Unix Copy Protocol (UUCP)',\n",
              " 542: 'commerce (Commerce Applications)',\n",
              " 543: 'klogin, Kerberos login',\n",
              " 544: 'kshell, Kerberos Remote shell',\n",
              " 546: 'DHCPv6 client',\n",
              " 547: 'DHCPv6 server',\n",
              " 548: 'Apple Filing Protocol (AFP) over TCP',\n",
              " 550: 'new-rwho, new-who',\n",
              " 554: 'Real Time Streaming Protocol (RTSP)',\n",
              " 556: 'Remotefs, RFS, rfs_server',\n",
              " 560: 'rmonitor, Remote Monitor',\n",
              " 561: 'monitor',\n",
              " 563: 'NNTP over TLS/SSL (NNTPS)',\n",
              " 564: '9P (Plan 9)',\n",
              " 585: 'Previously assigned for use of Internet Message Access Protocol over TLS/SSL (IMAPS)',\n",
              " 587: 'email message submission (SMTP)',\n",
              " 591: 'FileMaker 6.0 (and later) Web Sharing (HTTP Alternate, also see port 80)',\n",
              " 593: 'HTTP RPC Ep Map, Remote procedure call over Hypertext Transfer Protocol',\n",
              " 601: 'Reliable Syslog Service — used for system logging',\n",
              " 604: 'TUNNEL profile,a protocol for BEEP peers to form an application layer tunnel',\n",
              " 623: 'ASF Remote Management and Control Protocol (ASF-RMCP) & IPMI Remote Management Protocol',\n",
              " 625: 'Open Directory Proxy (ODProxy)',\n",
              " 631: 'Internet Printing Protocol (IPP)',\n",
              " 635: 'RLZ DBase',\n",
              " 636: 'Lightweight Directory Access Protocol over TLS/SSL (LDAPS)',\n",
              " 639: 'Multicast Source Discovery Protocol, MSDP',\n",
              " 641: 'SupportSoft Nexus Remote Command (control/listening), a proxy gateway connecting remote control traffic',\n",
              " 643: 'SANity',\n",
              " 646: 'Label Distribution Protocol (LDP), a routing protocol used in MPLS networks',\n",
              " 647: 'DHCP Failover protocol',\n",
              " 648: 'Registry Registrar Protocol (RRP)',\n",
              " 651: 'IEEE-MMS',\n",
              " 653: 'SupportSoft Nexus Remote Command (data), a proxy gateway connecting remote control traffic',\n",
              " 654: 'Media Management System (MMS) Media Management Protocol (MMP)',\n",
              " 655: 'Tinc VPN daemon',\n",
              " 657: 'IBM RMC (Remote monitoring and Control) protocol',\n",
              " 660: 'macOS Server administration',\n",
              " 666: 'Doom, first online first-person shooter',\n",
              " 674: 'Application Configuration Access Protocol (ACAP)',\n",
              " 688: 'REALM-RUSD (ApplianceWare Server Appliance Management Protocol)',\n",
              " 690: 'Velneo Application Transfer Protocol (VATP)',\n",
              " 691: 'MS Exchange Routing',\n",
              " 694: 'Linux-HA high-availability heartbeat',\n",
              " 695: 'IEEE Media Management System over SSL (IEEE-MMS-SSL)',\n",
              " 698: 'Optimized Link State Routing (OLSR)',\n",
              " 700: 'Extensible Provisioning Protocol (EPP)',\n",
              " 701: 'Link Management Protocol (LMP)',\n",
              " 702: 'IRIS (Internet Registry Information Service) ',\n",
              " 706: 'Secure Internet Live Conferencing (SILC)',\n",
              " 711: 'Cisco Tag Distribution Protocol',\n",
              " 712: 'Topology Broadcast based on Reverse-Path Forwarding routing protocol (TBRPF; RFC 3684)',\n",
              " 749: 'Kerberos (protocol) administration',\n",
              " 750: 'kerberos-iv, Kerberos version IV',\n",
              " 751: 'kerberos_master, Kerberos authentication',\n",
              " 752: 'passwd_server, Kerberos password (kpasswd) server',\n",
              " 753: 'Reverse Routing Header (RRH)',\n",
              " 754: 'tell send',\n",
              " 760: 'krbupdate, Kerberos registration',\n",
              " 782: 'Conserver serial-console management server',\n",
              " 783: 'SpamAssassin spamd daemon',\n",
              " 800: 'mdbs-daemon',\n",
              " 802: 'MODBUS/TCP Security',\n",
              " 808: 'Microsoft Net.TCP Port Sharing Service',\n",
              " 829: 'Certificate Management Protocol',\n",
              " 830: 'NETCONF over SSH',\n",
              " 831: 'NETCONF over BEEP',\n",
              " 832: 'NETCONF for SOAP over HTTPS',\n",
              " 833: 'NETCONF for SOAP over BEEP',\n",
              " 843: 'Adobe Flash',\n",
              " 847: 'DHCP Failover protocol',\n",
              " 848: 'Group Domain Of Interpretation (GDOI) protocol',\n",
              " 853: 'DNS over TLS (RFC 7858)',\n",
              " 860: 'iSCSI (RFC 3720)',\n",
              " 861: 'OWAMP control (RFC 4656)',\n",
              " 862: 'TWAMP control (RFC 5357)',\n",
              " 873: 'rsync file synchronization protocol',\n",
              " 888: 'cddbp, CD DataBase (CDDB) protocol (CDDBP)',\n",
              " 897: 'Brocade SMI-S RPC',\n",
              " 898: 'Brocade SMI-S RPC SSL',\n",
              " 902: 'VMware ESXi',\n",
              " 903: 'VMware ESXi',\n",
              " 953: 'BIND remote name daemon control (RNDC)',\n",
              " 981: 'Remote HTTPS management for firewall devices running embedded Check Point VPN-1 software',\n",
              " 987: 'Sony PlayStation Wake On Lan',\n",
              " 989: 'FTPS Protocol (data), FTP over TLS/SSL',\n",
              " 990: 'FTPS Protocol (control), FTP over TLS/SSL',\n",
              " 991: 'Netnews Administration System (NAS)',\n",
              " 992: 'Telnet protocol over TLS/SSL',\n",
              " 993: 'Internet Message Access Protocol over TLS/SSL (IMAPS)',\n",
              " 994: 'Previously assigned to Internet Relay Chat over TLS/SSL (IRCS), but was not used in common practice.',\n",
              " 995: 'Post Office Protocol 3 over TLS/SSL (POP3S)',\n",
              " 1024: 'Reserved',\n",
              " 1027: 'Reserved',\n",
              " 1029: 'Microsoft DCOM services',\n",
              " 1058: 'nim, IBM AIX Network Installation Manager (NIM)',\n",
              " 1059: 'nimreg, IBM AIX Network Installation Manager (NIM)',\n",
              " 1080: 'SOCKS proxy',\n",
              " 1085: 'WebObjects',\n",
              " 1098: 'rmiactivation, Java remote method invocation (RMI) activation',\n",
              " 1099: 'rmiregistry, Java remote method invocation (RMI) registry',\n",
              " 1109: 'Reserved',\n",
              " 1113: 'Licklider Transmission Protocol (LTP) delay tolerant networking protocol',\n",
              " 1119: \"Battle.net chat/game protocol, used by Blizzard's games\",\n",
              " 1167: 'Cisco IP SLA (Service Assurance Agent)',\n",
              " 1194: 'OpenVPN',\n",
              " 1198: 'The cajo project Free dynamic transparent distributed computing in Java',\n",
              " 1214: 'Kazaa',\n",
              " 1220: 'QuickTime Streaming Server administration',\n",
              " 1234: 'Infoseek search agent',\n",
              " 1241: 'Nessus Security Scanner',\n",
              " 1270: 'Microsoft System Center Operations Manager (SCOM)',\n",
              " 1293: 'Internet Protocol Security (IPSec)',\n",
              " 1311: 'Windows RxMon.exe',\n",
              " 1314: 'Festival Speech Synthesis System server',\n",
              " 1319: 'AMX ICSP (Protocol for communications with AMX control systems devices)',\n",
              " 1337: 'Men&Mice DNS',\n",
              " 1341: 'Qubes (Manufacturing Execution System)',\n",
              " 1344: 'Internet Content Adaptation Protocol',\n",
              " 1352: 'IBM Lotus Notes/Domino (RPC) protocol',\n",
              " 1360: 'Mimer SQL',\n",
              " 1414: 'IBM WebSphere MQ (formerly known as MQSeries)',\n",
              " 1417: 'Timbuktu Service 1 Port',\n",
              " 1418: 'Timbuktu Service 2 Port',\n",
              " 1419: 'Timbuktu Service 3 Port',\n",
              " 1420: 'Timbuktu Service 4 Port',\n",
              " 1431: 'Reverse Gossip Transport Protocol (RGTP)',\n",
              " 1433: 'Microsoft SQL Server database management system (MSSQL) server',\n",
              " 1434: 'Microsoft SQL Server database management system (MSSQL) monitor',\n",
              " 1481: 'AIRS data interchange.',\n",
              " 1492: \"Sid Meier's CivNet\",\n",
              " 1494: 'Citrix Independent Computing Architecture (ICA)',\n",
              " 1500: 'IBM Tivoli Storage Manager server',\n",
              " 1501: 'IBM Tivoli Storage Manager client scheduler',\n",
              " 1512: \"Microsoft's Windows Internet Name Service (WINS)\",\n",
              " 1513: 'Garena game client',\n",
              " 1521: 'nCUBE License Manager',\n",
              " 1524: 'ingreslock, ingres',\n",
              " 1527: 'Oracle Net Services, formerly known as SQL*Net',\n",
              " 1533: 'IBM Sametime Virtual Places Chat',\n",
              " 1534: 'Eclipse Target Communication Framework',\n",
              " 1540: '1C:Enterprise server agent (ragent)',\n",
              " 1541: '1C:Enterprise master cluster manager (rmngr)',\n",
              " 1542: '1C:Enterprise configuration repository server',\n",
              " 1545: '1C:Enterprise cluster administration server (RAS)',\n",
              " 1547: 'Laplink',\n",
              " 1550: '1C:Enterprise debug server',\n",
              " 1581: 'MIL STD 2045-47001 VMF',\n",
              " 1583: 'Pervasive PSQL',\n",
              " 1589: 'Cisco VLAN Query Protocol (VQP)',\n",
              " 1604: 'DarkComet remote administration tool (RAT)',\n",
              " 1626: 'iSketch',\n",
              " 1627: 'iSketch',\n",
              " 1628: 'LonTalk normal',\n",
              " 1629: 'LonTalk urgent',\n",
              " 1646: 'Old radacct port',\n",
              " 1666: 'Perforce',\n",
              " 1677: 'Novell GroupWise clients in client/server access mode',\n",
              " 1688: 'Microsoft Key Management Service (KMS) for Windows Activation',\n",
              " 1701: 'Layer 2 Forwarding Protocol (L2F)',\n",
              " 1707: 'Windward Studios games (vdmplay)',\n",
              " 1716: \"America's Army, a massively multiplayer online game (MMO)\",\n",
              " 1719: 'H.323 registration and alternate communication',\n",
              " 1720: 'H.323 call signaling',\n",
              " 1723: 'Point-to-Point Tunneling Protocol (PPTP)',\n",
              " 1755: 'Microsoft Media Services (MMS, ms-streaming)',\n",
              " 1761: 'Novell ZENworks',\n",
              " 1776: 'Federal Emergency Management Information System',\n",
              " 1783: '\"Decomissioned [sic] Port 04/14/00, ms\"',\n",
              " 1801: 'Microsoft Message Queuing',\n",
              " 1812: 'RADIUS authentication protocol, radius',\n",
              " 1813: 'RADIUS accounting protocol, radius-acct',\n",
              " 1863: 'Microsoft Notification Protocol (MSNP), used by the Microsoft Messenger service and a number of instant messaging Messenger clients',\n",
              " 1880: 'Node-RED',\n",
              " 1883: 'MQTT (formerly MQ Telemetry Transport)',\n",
              " 1900: 'Simple Service Discovery Protocol (SSDP)',\n",
              " 1935: 'Macromedia Flash Communications Server MX',\n",
              " 1965: 'Gemini, a lightweight, collaboratively designed protocol',\n",
              " 1967: 'Cisco IOS IP Service Level Agreements (IP SLAs) Control Protocol',\n",
              " 1970: 'Netop Remote Control',\n",
              " 1972: 'InterSystems Caché',\n",
              " 1984: 'Big Brother',\n",
              " 1985: 'Cisco Hot Standby Router Protocol (HSRP)',\n",
              " 1998: 'Cisco X.25 over TCP (XOT) service',\n",
              " 2000: 'Cisco Skinny Client Control Protocol (SCCP)',\n",
              " 2010: 'Artemis: Spaceship Bridge Simulator',\n",
              " 2033: 'Civilization IV multiplayer',\n",
              " 2049: 'Network File System (NFS)',\n",
              " 2056: 'Civilization IV multiplayer',\n",
              " 2080: 'Autodesk NLM (FLEXlm)',\n",
              " 2082: 'cPanel default',\n",
              " 2083: 'Secure RADIUS Service (radsec)',\n",
              " 2086: 'GNUnet',\n",
              " 2087: 'WebHost Manager default SSL',\n",
              " 2095: 'cPanel default web mail',\n",
              " 2096: 'cPanel default SSL web mail',\n",
              " 2100: 'Warzone 2100 multiplayer',\n",
              " 2101: 'Networked Transport of RTCM via Internet Protocol (NTRIP)',\n",
              " 2102: 'Zephyr Notification Service server',\n",
              " 2103: 'Zephyr Notification Service serv-hm connection',\n",
              " 2104: 'Zephyr Notification Service hostmanager',\n",
              " 2123: 'GTP control messages (GTP-C)',\n",
              " 2142: 'TDMoIP (TDM over IP)',\n",
              " 2152: 'GTP user data messages (GTP-U)',\n",
              " 2159: 'GDB remote debug port',\n",
              " 2181: 'EForward-document transport system',\n",
              " 2195: 'Apple Push Notification Service',\n",
              " 2196: 'Apple Push Notification Service, feedback service',\n",
              " 2210: 'NOAAPORT Broadcast Network',\n",
              " 2211: 'EMWIN',\n",
              " 2221: 'ESET anti-virus update',\n",
              " 2222: 'EtherNet/IP implicit messaging for IO data',\n",
              " 2240: 'General Dynamics Remote Encryptor Configuration Information Protocol (RECIPe)',\n",
              " 2261: 'CoMotion master',\n",
              " 2262: 'CoMotion backup',\n",
              " 2302: 'ArmA multiplayer',\n",
              " 2303: 'ArmA multiplayer (default port for game +1)',\n",
              " 2305: 'ArmA multiplayer (default port for game +3)',\n",
              " 2351: 'AIM game LAN network port[citation needed]',\n",
              " 2368: 'Ghost (blogging platform)',\n",
              " 2369: 'Default for BMC Control-M/Server Configuration Agent',\n",
              " 2370: 'Default for BMC Control-M/Server',\n",
              " 2372: 'Default for K9 Web Protection/parental controls',\n",
              " 2375: 'Docker REST API (plain)',\n",
              " 2376: 'Docker REST API (SSL)',\n",
              " 2377: 'Docker Swarm cluster management communications',\n",
              " 2379: 'CoreOS etcd client communication',\n",
              " 2380: 'CoreOS etcd server communication',\n",
              " 2389: 'OpenView Session Mgr',\n",
              " 2399: 'FileMaker Data Access Layer (ODBC/JDBC)',\n",
              " 2401: 'CVS version control system password-based server',\n",
              " 2404: 'IEC 60870-5-104',\n",
              " 2424: 'OrientDB database listening for binary client connections',\n",
              " 2427: 'Media Gateway Control Protocol (MGCP) media gateway',\n",
              " 2447: 'ovwdb—OpenView Network Node Manager (NNM) daemon',\n",
              " 2459: 'XRPL',\n",
              " 2480: 'OrientDB database listening for HTTP client connections',\n",
              " 2483: 'Oracle database listening for insecure client connections to the listener',\n",
              " 2484: 'Oracle database listening for SSL client connections to the listener',\n",
              " 2500: 'NetFS communication',\n",
              " 2501: 'NetFS probe',\n",
              " 2535: 'Multicast Address Dynamic Client Allocation Protocol (MADCAP)',\n",
              " 2541: 'LonTalk/IP',\n",
              " 2593: 'Ultima Online servers',\n",
              " 2598: 'Citrix Independent Computing Architecture (ICA) with Session Reliability',\n",
              " 2599: 'Ultima Online servers',\n",
              " 2628: 'DICT',\n",
              " 2638: 'SQL Anywhere database server',\n",
              " 2710: 'XBT Tracker UDP tracker extension is considered experimental.',\n",
              " 2727: 'Media Gateway Control Protocol (MGCP) media gateway controller (call agent)',\n",
              " 2775: 'Short Message Peer-to-Peer (SMPP)',\n",
              " 2809: 'corbaloc:iiop URL, per the CORBA 3.0.3 specification',\n",
              " 2811: 'gsi ftp, per the GridFTP specification',\n",
              " 2827: 'I2P BOB Bridge',\n",
              " 2944: 'Megaco text H.248',\n",
              " 2945: 'Megaco binary (ASN.1) H.248',\n",
              " 2947: 'gpsd, GPS daemon',\n",
              " 2948: 'WAP push Multimedia Messaging Service (MMS)',\n",
              " 2949: 'WAP push secure (MMS)',\n",
              " 2967: 'Symantec System Center agent (SSC-AGENT)',\n",
              " 3000: 'Cloud9 IDE server',\n",
              " 3004: 'iSync',\n",
              " 3020: 'Common Internet File System (CIFS)',\n",
              " 3050: 'gds-db (Interbase/Firebird databases)',\n",
              " 3052: 'APC PowerChute Network',\n",
              " 3074: 'Xbox LIVE and Games for Windows – Live',\n",
              " 3101: 'BlackBerry Enterprise Server communication protocol',\n",
              " 3128: 'Squid caching web proxy',\n",
              " 3225: 'Fibre Channel over IP (FCIP)',\n",
              " 3233: 'WhiskerControl research control protocol',\n",
              " 3260: 'iSCSI',\n",
              " 3268: 'msft-gc, Microsoft Global Catalog (LDAP service which contains data from Active Directory forests)',\n",
              " 3269: 'msft-gc-ssl, Microsoft Global Catalog over SSL (similar to port 3268, LDAP over SSL)',\n",
              " 3283: 'Net Assistant',\n",
              " 3290: 'Virtual Air Traffic Simulation (VATSIM) network voice communication',\n",
              " 3305: 'Odette File Transfer Protocol (OFTP)',\n",
              " 3306: 'MySQL database system',\n",
              " 3323: 'DECE GEODI Server',\n",
              " 3332: 'Thundercloud DataPath Overlay Control',\n",
              " 3333: 'Eggdrop, an IRC bot default port',\n",
              " 3351: 'Pervasive PSQL',\n",
              " 3386: \"GTP' 3GPP GSM/UMTS CDR logging protocol\",\n",
              " 3389: 'Microsoft Terminal Server (RDP) officially registered as Windows Based Terminal (WBT)',\n",
              " 3396: 'Novell NDPS Printer Agent',\n",
              " 3412: 'xmlBlaster',\n",
              " 3423: 'Xware xTrm Communication Protocol',\n",
              " 3424: 'Xware xTrm Communication Protocol over SSL',\n",
              " 3455: 'Resource Reservation Protocol (RSVP)',\n",
              " 3478: 'STUN, a protocol for NAT traversal',\n",
              " 3479: 'PlayStation Network',\n",
              " 3480: 'PlayStation Network',\n",
              " 3483: 'Slim Devices discovery protocol',\n",
              " 3493: 'Network UPS Tools (NUT)',\n",
              " 3503: 'MPLS LSP-echo Port',\n",
              " 3516: 'Smartcard Port',\n",
              " 3527: 'Microsoft Message Queuing',\n",
              " 3535: 'SMTP alternate',\n",
              " 3544: 'Teredo tunneling',\n",
              " 3551: 'Apcupsd Information Port ',\n",
              " 3601: 'SAP Message Server Port',\n",
              " 3632: 'Distcc, distributed compiler',\n",
              " 3645: 'Cyc',\n",
              " 3659: 'Apple SASL, used by macOS Server Password Server',\n",
              " 3667: 'Information Exchange',\n",
              " 3689: \"Digital Audio Access Protocol (DAAP), used by Apple's iTunes and AirPlay\",\n",
              " 3690: 'Subversion (SVN)version control system',\n",
              " 3702: 'Web Services Dynamic Discovery (WS-Discovery)',\n",
              " 3724: 'Some Blizzard games',\n",
              " 3725: 'Netia NA-ER Port',\n",
              " 3749: 'CimTrak registered port',\n",
              " 3768: 'RBLcheckd server daemon',\n",
              " 3784: 'Bidirectional Forwarding Detection (BFD)for IPv4 and IPv6 (Single Hop) (RFC 5881)',\n",
              " 3785: 'VoIP program used by Ventrilo',\n",
              " 3799: 'RADIUS change of authorization',\n",
              " 3804: 'Harman Professional HiQnet protocol',\n",
              " 3825: 'RedSeal Networks client/server connection',\n",
              " 3826: 'WarMUX game server',\n",
              " 3835: 'RedSeal Networks client/server connection',\n",
              " 3830: 'System Management Agent',\n",
              " 3856: 'ERP Server Application used by F10 Software',\n",
              " 3880: 'IGRS',\n",
              " 3868: 'Diameter base protocol (RFC 3588)',\n",
              " 3872: 'Oracle Enterprise Manager Remote Agent',\n",
              " 3900: 'udt_os, IBM UniData UDT OS',\n",
              " 3960: 'Warframe online interaction',\n",
              " 3962: 'Warframe online interaction',\n",
              " 3978: \"Palo Alto Networks' Panorama management of firewalls and log collectors\",\n",
              " 3979: 'OpenTTD game',\n",
              " 3999: 'Norman distributed scanning service',\n",
              " 4000: 'Diablo II game',\n",
              " 4001: 'Microsoft Ants game',\n",
              " 4018: 'Protocol information and warnings[clarification needed]',\n",
              " 4035: 'IBM Rational Developer for System z Remote System Explorer Daemon',\n",
              " 4045: 'Solaris lockd NFS lock daemon/manager',\n",
              " 4050: 'Mud Master Chat protocol (MMCP) - Peer-to-peer communications between MUD clients',\n",
              " 4069: 'Minger Email Address Verification Protocol',\n",
              " 4070: 'Amazon Echo Dot (Amazon Alexa) streaming connection with Spotify',\n",
              " 4089: 'OpenCORE Remote Control Service',\n",
              " 4090: 'Kerio',\n",
              " 4093: 'PxPlus Client server interface ProvideX',\n",
              " 4096: 'Ascom Timeplex Bridge Relay Element (BRE)',\n",
              " 4105: 'Shofar (ShofarNexus)',\n",
              " 4111: 'Xgrid',\n",
              " 4116: 'Smartcard-TLS',\n",
              " 4125: 'Microsoft Remote Web Workplace administration',\n",
              " 4172: 'Teradici PCoIP',\n",
              " 4190: 'ManageSieve',\n",
              " 4195: 'AWS protocol for cloud remoting solution',\n",
              " 4198: 'Couch Potato Android app',\n",
              " 4201: 'TinyMUD and various derivatives',\n",
              " 4222: 'NATS server default port',\n",
              " 4226: 'Aleph One, a computer game',\n",
              " 4242: 'Orthanc – DICOM server',\n",
              " 4243: 'Docker implementations, redistributions, and setups default',\n",
              " 4244: 'Viber',\n",
              " 4303: 'Simple Railroad Command Protocol (SRCP)',\n",
              " 4307: 'TrueConf Client - TrueConf Server media data exchange',\n",
              " 4321: 'Referral Whois (RWhois) Protocol',\n",
              " 4444: 'Oracle WebCenter Content: Content Server—Intradoc Socket port',\n",
              " 4486: 'Integrated Client Message Service (ICMS)',\n",
              " 4488: 'Apple Wide Area Connectivity Service, used by Back to My Mac',\n",
              " 4500: 'IPSec NAT Traversal(RFC 3947, RFC 4306)',\n",
              " 4534: 'Armagetron Advanced server default',\n",
              " 4560: 'default Log4j socketappender port',\n",
              " 4567: 'Sinatra default server port in development mode (HTTP)',\n",
              " 4569: 'Inter-Asterisk eXchange (IAX2)',\n",
              " 4604: 'Identity Registration Protocol',\n",
              " 4605: 'Direct End to End Secure Chat Protocol',\n",
              " 4662: 'OrbitNet Message Service',\n",
              " 4664: 'Google Desktop Search',\n",
              " 4672: 'Default for older versions of eMule',\n",
              " 4711: 'eMule optional web interface',\n",
              " 4713: 'PulseAudio sound server',\n",
              " 4728: 'Computer Associates Desktop and Server Management (DMP)/Port Multiplexer',\n",
              " 4730: \"Gearman's job server\",\n",
              " 4739: 'IP Flow Information Export',\n",
              " 4747: 'Apprentice',\n",
              " 4753: 'SIMON (service and discovery)',\n",
              " 4789: 'Virtual eXtensible Local Area Network (VXLAN)',\n",
              " 4791: 'IP Routable RocE (RoCEv2)',\n",
              " 4840: 'OPC UA Connection Protocol (TCP) and OPC UA Multicast Datagram Protocol (UDP)',\n",
              " 4843: 'OPC UA TCP Protocol over TLS/SSL for OPC Unified Architecture from OPC Foundation',\n",
              " 4847: 'Web Fresh Communication, Quadrion Software & Odorless Entertainment',\n",
              " 4848: 'Java, Glassfish Application Server administration default',\n",
              " 4894: 'LysKOM Protocol A',\n",
              " 4949: 'Munin Resource Monitoring Tool',\n",
              " 4950: 'Cylon Controls UC32 Communications Port',\n",
              " 5000: 'UPnP—Windows network device interoperability',\n",
              " 5001: 'Slingbox and Slingplayer',\n",
              " 5002: 'ASSA ARX access control system',\n",
              " 5003: 'FileMaker – name binding and transport',\n",
              " 5004: 'Real-time Transport Protocol media data (RTP) (RFC 3551, RFC 4571)',\n",
              " 5005: 'Real-time Transport Protocol control protocol (RTCP) (RFC 3551, RFC 4571)',\n",
              " 5007: 'Palo Alto Networks - User-ID agent',\n",
              " 5010: 'Registered to: TelePath (the IBM FlowMark workflow-management system messaging platform)',\n",
              " 5011: 'TelePath (the IBM FlowMark workflow-management system messaging platform)',\n",
              " 5025: 'scpi-raw Standard Commands for Programmable Instruments',\n",
              " 5029: 'Sonic Robo Blast 2 and Sonic Robo Blast 2 Kart servers',\n",
              " 5031: 'AVM CAPI-over-TCP (ISDN over Ethernet tunneling)[citation needed]',\n",
              " 5037: 'Android ADB server',\n",
              " 5044: 'Standard port in Filebeats/Logstash implementation of Lumberjack protocol.',\n",
              " 5048: 'Texai Message Service',\n",
              " 5050: 'Yahoo! Messenger',\n",
              " 5051: 'ita-agent Symantec Intruder Alert',\n",
              " 5060: 'Session Initiation Protocol (SIP)',\n",
              " 5061: 'Session Initiation Protocol (SIP) over TLS',\n",
              " 5062: 'Localisation access',\n",
              " 5064: 'EPICS Channel Access server',\n",
              " 5065: 'EPICS Channel Access repeater beacon',\n",
              " 5070: 'Binary Floor Control Protocol (BFCP)',\n",
              " 5084: 'EPCglobal Low Level Reader Protocol (LLRP)',\n",
              " 5085: 'EPCglobal Low Level Reader Protocol (LLRP) over TLS',\n",
              " 5090: '3CX Phone System 3CX Tunnel Protocol, 3CX App API, 3CX Session Border Controller',\n",
              " 5093: 'SafeNet, Inc Sentinel LM, Sentinel RMS, License Manager, client-to-server',\n",
              " 5099: 'SafeNet, Inc Sentinel LM, Sentinel RMS, License Manager, server-to-server',\n",
              " 5104: 'IBM Tivoli Framework NetCOOL/Impact HTTP Service',\n",
              " 5121: 'Neverwinter Nights',\n",
              " 5124: 'TorgaNET (Micronational Darknet)',\n",
              " 5125: 'TorgaNET (Micronational Intelligence Darknet)',\n",
              " 5150: 'ATMP Ascend Tunnel Management Protocol',\n",
              " 5151: 'ESRI SDE Instance',\n",
              " 5154: 'BZFlag',\n",
              " 5172: 'PC over IP Endpoint Management',\n",
              " 5190: 'AOL Instant Messenger protocol.',\n",
              " 5198: 'EchoLink VoIP Amateur Radio Software (Voice)',\n",
              " 5199: 'EchoLink VoIP Amateur Radio Software (Voice)',\n",
              " 5200: 'EchoLink VoIP Amateur Radio Software (Information)',\n",
              " 5201: 'Iperf3 (Tool for measuring TCP and UDP bandwidth performance)',\n",
              " 5222: 'Extensible Messaging and Presence Protocol (XMPP) client connection',\n",
              " 5223: 'Apple Push Notification Service',\n",
              " 5228: 'HP Virtual Room Service',\n",
              " 5242: 'Viber',\n",
              " 5243: 'Viber',\n",
              " 5246: 'Control And Provisioning of Wireless Access Points (CAPWAP) CAPWAP control',\n",
              " 5247: 'Control And Provisioning of Wireless Access Points (CAPWAP) CAPWAP data',\n",
              " 5269: 'Extensible Messaging and Presence Protocol (XMPP) server-to-server connection',\n",
              " 5280: 'Extensible Messaging and Presence Protocol (XMPP)',\n",
              " 5281: 'Extensible Messaging and Presence Protocol (XMPP)',\n",
              " 5298: 'Extensible Messaging and Presence Protocol (XMPP)',\n",
              " 5310: 'Outlaws, a 1997 first-person shooter video game',\n",
              " 5318: 'Certificate Management over CMS',\n",
              " 5349: 'STUN over TLS/DTLS, a protocol for NAT traversal',\n",
              " 5351: 'NAT Port Mapping Protocol and Port Control Protocol',\n",
              " 5353: 'Multicast DNS (mDNS)',\n",
              " 5355: 'Link-Local Multicast Name Resolution (LLMNR)',\n",
              " 5357: 'Web Services for Devices (WSDAPI) ',\n",
              " 5358: 'WSDAPI Applications to Use a Secure Channel',\n",
              " 5394: 'Kega Fusion, a Sega multi-console emulator',\n",
              " 5402: 'Multicast File Transfer Protocol (MFTP)',\n",
              " 5405: 'NetSupport Manager',\n",
              " 5412: 'IBM Rational Synergy (Telelogic Synergy) (Continuus CM) Message Router',\n",
              " 5413: 'Wonderware SuiteLink service',\n",
              " 5417: 'SNS Agent',\n",
              " 5421: 'NetSupport Manager',\n",
              " 5432: 'PostgreSQL database system',\n",
              " 5433: 'Bouwsoft file/webserver',\n",
              " 5445: 'Cisco Unified Video Advantage',\n",
              " 5450: 'OSIsoft PI Server Client Access ',\n",
              " 5457: 'OSIsoft PI Asset Framework Client Access ',\n",
              " 5458: 'OSIsoft PI Notifications Client Access ',\n",
              " 5480: 'VMware VAMI (Virtual Appliance Management Infrastructure)',\n",
              " 5481: \"Schneider Electric's ClearSCADA (SCADA implementation for Windows) \",\n",
              " 5495: 'IBM Cognos TM1 Admin server',\n",
              " 5498: 'Hotline tracker server connection',\n",
              " 5499: 'Hotline tracker server discovery',\n",
              " 5500: 'Hotline control connection',\n",
              " 5501: 'Hotline file transfer connection',\n",
              " 5517: 'Setiqueue Proxy server client for SETI@Home project',\n",
              " 5550: 'Hewlett-Packard Data Protector',\n",
              " 5554: 'Fastboot default wireless port',\n",
              " 5555: 'Oracle WebCenter Content: Inbound Refinery—Intradoc Socket port',\n",
              " 5556: 'Freeciv, Oracle WebLogic Server Node Manager',\n",
              " 5568: 'Session Data Transport (SDT), a part of Architecture for Control Networks (CAN)',\n",
              " 5601: 'Kibana',\n",
              " 5631: 'pcANYWHEREdata, Symantec pcAnywhere ',\n",
              " 5632: 'pcANYWHEREstat, Symantec pcAnywhere (version 7.52 and later) status',\n",
              " 5656: 'IBM Lotus Sametime p2p file transfer',\n",
              " 5666: 'NRPE (Nagios)',\n",
              " 5667: 'NSCA (Nagios)',\n",
              " 5670: 'FILEMQ ZeroMQ File Message Queuing Protocol',\n",
              " 5671: 'Advanced Message Queuing Protocol (AMQP)',\n",
              " 5672: 'Advanced Message Queuing Protocol (AMQP)',\n",
              " 5683: 'Constrained Application Protocol (CoAP)',\n",
              " 5684: 'Constrained Application Protocol Secure (CoAPs)',\n",
              " 5693: 'Nagios Cross Platform Agent (NCPA)',\n",
              " 5701: 'Hazelcast default communication port[',\n",
              " 5718: 'Microsoft DPM Data Channel (with the agent coordinator)',\n",
              " 5719: 'Microsoft DPM Data Channel (with the protection agent)',\n",
              " 5722: 'Microsoft RPC, DFSR (SYSVOL) Replication Service',\n",
              " 5723: 'System Center Operations Manager',\n",
              " 5724: 'Operations Manager Console',\n",
              " 5741: 'IDA Discover Port 1',\n",
              " 5742: 'IDA Discover Port 2',\n",
              " 5800: 'VNC Remote Frame Buffer RFB protocol over HTTP',\n",
              " 5900: 'Remote Frame Buffer protocol (RFB)',\n",
              " 5905: 'Windows service ',\n",
              " 5931: 'AMMYY admin Remote Control',\n",
              " 5938: 'TeamViewer remote desktop protocol',\n",
              " 5984: 'CouchDB database server',\n",
              " 5985: 'Windows PowerShell Default psSession Port',\n",
              " 5986: 'Windows PowerShell Default psSession Port',\n",
              " 6005: 'Default for BMC Software Control-M/Server',\n",
              " 6009: 'JD Edwards EnterpriseOne ERP system JDENet messaging client listener',\n",
              " 6050: 'Arcserve backup',\n",
              " 6051: 'Arcserve backup',\n",
              " 6086: 'Peer Distributed Transfer Protocol (PDTP), FTP like file server in a P2P network',\n",
              " 6100: 'Vizrt System',\n",
              " 6101: 'Backup Exec Agent Browser',\n",
              " 6110: 'softcm, HP Softbench CM',\n",
              " 6111: 'spc, HP Softbench Sub-Process Control',\n",
              " 6112: 'dtspcd, execute commands and launch applications remotely',\n",
              " 6113: 'Club Penguin Disney online game for kids, Used by some Blizzard games',\n",
              " 6136: 'ObjectDB database server',\n",
              " 6159: 'ARINC 840 EFB Application Control Interface',\n",
              " 6200: 'Oracle WebCenter Content Portable: Content Server (With Native UI) and Inbound Refinery',\n",
              " 6201: 'Thermo-Calc Software AB: Management of service nodes in a processing grid for thermodynamic calculations',\n",
              " 6225: 'Oracle WebCenter Content Portable: Content Server Web UI',\n",
              " 6227: 'Oracle WebCenter Content Portable: JavaDB',\n",
              " 6240: 'Oracle WebCenter Content Portable: Capture',\n",
              " 6244: 'Oracle WebCenter Content Portable: Content Server—Intradoc Socket port',\n",
              " 6255: 'Oracle WebCenter Content Portable: Inbound Refinery—Intradoc Socket port',\n",
              " 6257: 'WinMX (see also 6699)',\n",
              " 6260: 'planet M.U.L.E.',\n",
              " 6262: 'Sybase Advantage Database Server',\n",
              " 6343: 'SFlow, sFlow traffic monitoring',\n",
              " 6346: 'gnutella-svc, gnutella (FrostWire, Limewire, Shareaza, etc.)',\n",
              " 6347: 'gnutella-rtr, Gnutella alternate',\n",
              " 6350: 'App Discovery and Access Protocol',\n",
              " 6379: 'Redis key-value data store',\n",
              " 6389: 'EMC CLARiiON',\n",
              " 6432: 'PgBouncer—A connection pooler for PostgreSQL',\n",
              " 6436: 'Leap Motion Websocket Server TLS',\n",
              " 6437: 'Leap Motion Websocket Server',\n",
              " 6444: 'Sun Grid Engine Qmaster Service',\n",
              " 6445: 'Sun Grid Engine Execution Service',\n",
              " 6464: 'Port assignment for medical device communication in accordance to IEEE 11073-20701',\n",
              " 6502: 'Netop Remote Control',\n",
              " 6513: 'NETCONF over TLS',\n",
              " 6514: 'Syslog over TLS',\n",
              " 6515: 'Elipse RPC Protocol (REC)',\n",
              " 6516: 'Windows Admin Center',\n",
              " 6543: 'Pylons project#Pyramid Default Pylons Pyramid web service port',\n",
              " 6556: 'Check MK Agent',\n",
              " 6566: 'SANE (Scanner Access Now Easy)—SANE network scanner daemon',\n",
              " 6571: 'Windows Live FolderShare client',\n",
              " 6600: 'Microsoft Hyper-V Live',\n",
              " 6601: 'Microsoft Forefront Threat Management Gateway',\n",
              " 6602: 'Microsoft Windows WSS Communication',\n",
              " 6619: 'odette-ftps, Odette File Transfer Protocol (OFTP) over TLS/SSL',\n",
              " 6622: 'Multicast FTP',\n",
              " 6653: 'OpenFlow',\n",
              " 6679: 'Osorno Automation Protocol (OSAUT)',\n",
              " 6690: 'Synology Cloud station',\n",
              " 6697: 'IRC SSL (Secure Internet Relay Chat)—often used',\n",
              " 6699: 'WinMX (see also 6257)',\n",
              " 6715: 'AberMUD and derivatives default port',\n",
              " 6771: 'BitTorrent Local Peer Discovery',\n",
              " 6801: 'ACNET Control System Protocol',\n",
              " 6888: 'MUSE',\n",
              " 6901: 'Windows Live Messenger (Voice)',\n",
              " 6924: 'split-ping, ping with RX/TX latency/loss split',\n",
              " 6969: 'acmsoda',\n",
              " 7000: \"Default for Vuze's built-in HTTPS Bittorrent Tracker\",\n",
              " 7001: 'Avira Server Management Console',\n",
              " 7002: \"Default for BEA WebLogic Server's HTTPS server, though often changed during installation\",\n",
              " 7005: 'Default for BMC Software Control-M/Server and Control-M/Agent for Agent-to-Server',\n",
              " 7006: 'Default for BMC Software Control-M/Server and Control-M/Agent for Server-to-Agent',\n",
              " 7010: 'Default for Cisco AON AMC (AON Management Console)',\n",
              " 7022: 'Database mirroring endpoints',\n",
              " 7023: 'Bryan Wilcutt T2-NMCS Protocol for SatCom Modems',\n",
              " 7025: 'Zimbra LMTP mailbox—local mail delivery',\n",
              " 7047: 'Zimbra conversion server',\n",
              " 7070: 'Real Time Streaming Protocol (RTSP)',\n",
              " 7133: 'Enemy Territory: Quake Wars',\n",
              " 7144: 'Peercast',\n",
              " 7145: 'Peercast',\n",
              " 7171: 'Tibia',\n",
              " 7262: 'CNAP (Calypso Network Access Protocol)',\n",
              " 7272: 'WatchMe - WatchMe Monitoring',\n",
              " 7306: 'Zimbra mysql mailbox',\n",
              " 7307: 'Zimbra mysql logger',\n",
              " 7312: 'Sibelius License Server',\n",
              " 7396: 'Web control interface for Folding@home v7.3.6 and later',\n",
              " 7400: 'RTPS (Real Time Publish Subscribe) DDS Discovery',\n",
              " 7401: 'RTPS (Real Time Publish Subscribe) DDS User-Traffic',\n",
              " 7402: 'RTPS (Real Time Publish Subscribe) DDS Meta-Traffic',\n",
              " 7471: 'Stateless Transport Tunneling (STT)',\n",
              " 7473: 'Rise: The Vieneo Province',\n",
              " 7474: 'Neo4J Server webadmin',\n",
              " 7478: 'Default port used by Open iT Server.',\n",
              " 7542: 'Saratoga file transfer protocol',\n",
              " 7547: 'CPE WAN Management Protocol (CWMP) Technical Report 069',\n",
              " 7575: 'Populous: The Beginning server',\n",
              " 7624: 'Instrument Neutral Distributed Interface',\n",
              " 7631: 'ERLPhase',\n",
              " 7634: 'hddtemp—Utility to monitor hard drive temperature',\n",
              " 7655: 'I2P SAM Bridge Socket API',\n",
              " 7670: 'BrettspielWelt BSW Boardgame Portal',\n",
              " 7680: 'Delivery Optimization for Windows 10',\n",
              " 7687: 'Bolt database connection',\n",
              " 7717: 'Killing Floor',\n",
              " 7777: 'iChat server file transfer proxy',\n",
              " 7831: 'Default used by Smartlaunch Internet Cafe Administration',\n",
              " 7880: 'PowerSchool Gradebook Server',\n",
              " 7890: 'Default that will be used by the iControl Internet Cafe Suite Administration software',\n",
              " 7915: 'Default for YSFlight server',\n",
              " 7935: 'Fixed port used for Adobe Flash Debug Player to communicate with a debugger',\n",
              " 7946: 'Docker Swarm communication among nodes',\n",
              " 7979: 'Used by SilverBluff Studios for communication between servers and clients',\n",
              " 7990: 'Atlassian Bitbucket (default port)',\n",
              " 8000: 'Commonly used for Internet radio streams such as SHOUTcast',\n",
              " 8005: 'Tomcat remote shutdown',\n",
              " 8006: 'Quest AppAssure 5 API',\n",
              " 8007: 'Proxmox Backup Server admin web interface',\n",
              " 8008: 'Alternative port for HTTP. See also ports 80 and 8080.',\n",
              " 8009: 'Apache JServ Protocol (ajp13)',\n",
              " 8010: 'Buildbot web status page',\n",
              " 8042: 'Orthanc – REST API over HTTP',\n",
              " 8069: 'OpenERP 5.0 XML-RPC protocol',\n",
              " 8070: 'OpenERP 5.0 NET-RPC protocol',\n",
              " 8074: 'Gadu-Gadu',\n",
              " 8075: 'Killing Floor web administration interface',\n",
              " 8080: 'Alternative port for HTTP. See also ports 80 and 8008.',\n",
              " 8088: 'Asterisk management access via HTTP',\n",
              " 8089: 'Splunk daemon management',\n",
              " 8090: 'Atlassian Confluence',\n",
              " 8091: 'CouchBase web administration',\n",
              " 8092: 'CouchBase API',\n",
              " 8096: 'Jellyfin HTTP port',\n",
              " 8111: 'JOSM Remote Control',\n",
              " 8112: 'PAC Pacifica Coin',\n",
              " 8116: 'Check Point Cluster Control Protocol',\n",
              " 8118: 'Privoxy—advertisement-filtering Web proxy',\n",
              " 8123: 'Polipo Web proxy',\n",
              " 8124: 'Standard BURST Mining Pool Software Port',\n",
              " 8125: 'BURST Web Interface',\n",
              " 8139: 'Puppet (software) Client agent',\n",
              " 8140: 'Puppet (software) Master server',\n",
              " 8172: 'Microsoft Remote Administration for IIS Manager',\n",
              " 8184: 'NCSA Brown Dog Data Access Proxy',\n",
              " 8200: 'GoToMyPC',\n",
              " 8222: 'VMware VI Web Access via HTTP',\n",
              " 8243: 'HTTPS listener for Apache Synapse',\n",
              " 8245: 'Dynamic DNS for at least No-IP and DynDNS',\n",
              " 8280: 'HTTP listener for Apache Synapse',\n",
              " 8281: 'HTTP Listener for Gatecraft Plugin',\n",
              " 8291: 'Winbox',\n",
              " 8303: 'Teeworlds Server',\n",
              " 8332: 'Bitcoin JSON-RPC server',\n",
              " 8333: 'Bitcoin',\n",
              " 8334: 'Filestash server (default) ',\n",
              " 8337: 'VisualSVN Distributed File System Service (VDFS)',\n",
              " 8384: 'Syncthing web GUI',\n",
              " 8388: 'Shadowsocks proxy server',\n",
              " 8400: 'Commvault Communications Service (GxCVD, found in all client computers)',\n",
              " 8401: 'Commvault Server Event Manager (GxEvMgrS, available in CommServe)',\n",
              " 8403: 'Commvault Firewall (GxFWD, tunnel port for HTTP/HTTPS)',\n",
              " 8443: 'SW Soft Plesk Control Panel',\n",
              " 8444: 'Bitmessage',\n",
              " 8448: 'Matrix homeserver federation over HTTPS',\n",
              " 8484: 'MapleStory Login Server',\n",
              " 8500: 'Adobe ColdFusion built-in web server',\n",
              " 8530: 'Windows Server Update Services over HTTP',\n",
              " 8531: 'Windows Server Update Services over HTTPS',\n",
              " 8555: 'Symantec DLP OCR Engine ',\n",
              " 8580: 'Freegate, an Internet anonymizer and proxy tool',\n",
              " 8629: 'Tibero database',\n",
              " 8642: 'Lotus Notes Traveler auto synchronization for Windows Mobile and Nokia devices',\n",
              " 8691: 'Ultra Fractal, a fractal generation and rendering software application',\n",
              " 8765: 'Default port of a local GUN relay peer',\n",
              " 8767: 'Voice channel of TeamSpeak 2',\n",
              " 8834: 'Nessus, a vulnerability scanner',\n",
              " 8840: 'Opera Unite, an extensible framework for web applications',\n",
              " 8880: 'Alternate port of CDDB (Compact Disc Database) protocol',\n",
              " 8883: 'Secure MQTT (MQTT over TLS)',\n",
              " 8887: 'HyperVM over HTTP',\n",
              " 8888: 'HyperVM over HTTPS',\n",
              " 8889: 'MAMP',\n",
              " 8920: 'Jellyfin HTTPS port',\n",
              " 8983: 'Apache Solr',\n",
              " 8997: 'Alternate port for I2P Monotone Proxy',\n",
              " 8998: 'I2P Monotone Proxy',\n",
              " 8999: 'Alternate port for I2P Monotone Proxy',\n",
              " 9000: 'SonarQube Web Server',\n",
              " 9001: 'ETL Service Manager',\n",
              " 9030: 'Tor often used',\n",
              " 9042: 'Apache Cassandra native protocol clients',\n",
              " 9043: 'WebSphere Application Server Administration Console secure',\n",
              " 9060: 'WebSphere Application Server Administration Console',\n",
              " 9080: 'glrpc, Groove Collaboration software GLRPC',\n",
              " 9081: 'Zerto ZVM to ZVM communication',\n",
              " 9090: 'Prometheus metrics server',\n",
              " 9091: 'Openfire Administration Console (SSL Secured)',\n",
              " 9092: 'H2 (DBMS) Database Server',\n",
              " 9100: 'PDL Data Stream, used for printing to certain network printers',\n",
              " 9101: 'Bacula Director',\n",
              " 9102: 'Bacula File Daemon',\n",
              " 9103: 'Bacula Storage Daemon',\n",
              " 9119: 'MXit Instant Messenger',\n",
              " 9150: 'Tor Browser',\n",
              " 9191: 'Sierra Wireless Airlink',\n",
              " 9199: 'Avtex LLC—qStats',\n",
              " 9200: 'Elasticsearch—default Elasticsearch port',\n",
              " 9217: 'iPass Platform Service',\n",
              " 9293: 'Sony PlayStation RemotePlay',\n",
              " 9295: 'Sony PlayStation Remote Play Session creation communication port',\n",
              " 9296: 'Sony PlayStation Remote Play',\n",
              " 9897: 'Sony PlayStation Remote Play Video stream',\n",
              " 9300: 'IBM Cognos BI',\n",
              " 9303: 'D-Link Shareport Share storage and MFP printers',\n",
              " 9306: 'Sphinx Native API',\n",
              " 9309: 'Sony PlayStation Vita Host Collaboration WiFi Data Transfer',\n",
              " 9312: 'Sphinx SphinxQL',\n",
              " 9332: 'Litecoin JSON-RPC server',\n",
              " 9333: 'Litecoin',\n",
              " 9339: 'Used by all Supercell games such as Brawl Stars and Clash of Clans',\n",
              " 9389: 'adws, Microsoft AD DS Web Services, Powershell uses this port',\n",
              " 9392: 'OpenVAS Greenbone Security Assistant web interface',\n",
              " 9418: 'git, Git pack transfer service',\n",
              " 9419: 'MooseFS distributed file system – master control port',\n",
              " 9420: 'MooseFS distributed file system – master command port',\n",
              " 9421: 'MooseFS distributed file system – master client port',\n",
              " 9422: 'MooseFS distributed file system – Chunkservers',\n",
              " 9425: 'MooseFS distributed file system – CGI server',\n",
              " 9443: 'VMware Websense Triton console ',\n",
              " 9535: 'mngsuite, LANDesk Management Suite Remote Control',\n",
              " 9536: 'laes-bf, IP Fabrics Surveillance buffering function',\n",
              " 9600: 'Factory Interface Network Service (FINS)',\n",
              " 9669: 'VGG Image Search Engine VISE',\n",
              " 9675: 'Spiceworks Desktop, IT Helpdesk Software',\n",
              " 9676: 'Spiceworks Desktop, IT Helpdesk Software',\n",
              " 9695: 'Content centric networking (CCN, CCNx)',\n",
              " 9785: 'Viber',\n",
              " 9800: 'WebDAV Source',\n",
              " 9875: 'Club Penguin Disney online game for kids',\n",
              " 9898: 'Tripwire—File Integrity Monitoring Software',\n",
              " 9899: 'SCTP tunneling (port number used in SCTP packets encapsulated in UDP, RFC 6951)',\n",
              " 9901: 'Banana for Apache Solr',\n",
              " 9981: 'Tvheadend HTTP server (web interface)',\n",
              " 9982: 'Tvheadend HTSP server (Streaming protocol)',\n",
              " 9987: 'TeamSpeak 3 server default (voice) port (for the conflicting service see the IANA list)',\n",
              " 9993: 'ZeroTier Default port for ZeroTier',\n",
              " 9997: 'Splunk port for communication between the forwarders and indexers',\n",
              " 9999: 'Dash (cryptocurrency)',\n",
              " 10000: 'Network Data Management Protocol',\n",
              " 10001: 'Ubiquiti UniFi access points broadcast to 255.255.255.255:10001 (UDP) to locate the controller(s)',\n",
              " 10009: 'CrossFire, a multiplayer online First Person Shooter',\n",
              " 10011: 'TeamSpeak 3 ServerQuery',\n",
              " 10024: 'Zimbra smtp mta—to amavis from postfix',\n",
              " 10025: 'Zimbra smtp mta—back to postfix from amavis',\n",
              " 10042: 'Mathoid server ',\n",
              " 10050: 'Zabbix agent',\n",
              " 10051: 'Zabbix trapper',\n",
              " 10110: 'NMEA 0183 Navigational Data.',\n",
              " 10172: 'Intuit Quickbooks client',\n",
              " 10200: \"FRISK Software International's fpscand virus scanning daemon for Unix platforms\",\n",
              " 10212: 'GE Intelligent Platforms Proficy HMI/SCADA – CIMPLICITY WebView',\n",
              " 10308: 'Lock On: Modern Air Combat',\n",
              " 10480: 'SWAT 4 Dedicated Server',\n",
              " 10505: 'BlueStacks (android simulator) broadcast',\n",
              " 10514: 'TLS-enabled Rsyslog (default by convention)',\n",
              " 10800: 'Touhou fight games ',\n",
              " 10823: 'Farming Simulator 2011',\n",
              " 10891: 'Jungle Disk (this port is opened by the Jungle Disk Monitor service on the localhost)',\n",
              " 10933: 'Octopus Deploy Tentacle deployment agent',\n",
              " 11001: 'metasys ( Johnson Controls Metasys java AC control environment )',\n",
              " 11100: 'Risk of Rain multiplayer server',\n",
              " 11111: 'RiCcI, Remote Configuration Interface (Redhat Linux)',\n",
              " 11112: 'ACR/NEMA Digital Imaging and Communications in Medicine (DICOM)',\n",
              " 11211: 'memcached',\n",
              " 11214: 'memcached incoming SSL proxy',\n",
              " 11215: 'memcached internal outgoing SSL proxy',\n",
              " 11235: 'XCOMPUTE numerical systems messaging (Xplicit Computing)',\n",
              " 11311: 'Robot Operating System master',\n",
              " 11371: 'OpenPGP HTTP key server',\n",
              " 11753: 'OpenRCT2 multiplayer',\n",
              " 12000: 'CubeForm, Multiplayer SandBox Game',\n",
              " 12012: 'Audition Online Dance Battle, Korea Server—Status/Version Check',\n",
              " 12013: 'Audition Online Dance Battle, Korea Server',\n",
              " 12035: 'Second Life, used for server UDP in-bound',\n",
              " 12043: 'Second Life, used for LSL HTTPS in-bound',\n",
              " 12046: 'Second Life, used for LSL HTTP in-bound',\n",
              " 12201: 'Graylog Extended Log Format (GELF)',\n",
              " 12222: 'Light Weight Access Point Protocol (LWAPP) LWAPP data (RFC 5412)',\n",
              " 12223: 'Light Weight Access Point Protocol (LWAPP) LWAPP control (RFC 5412)',\n",
              " 12307: 'Makerbot UDP Broadcast (client to printer) (JSON-RPC)',\n",
              " 12308: 'Makerbot UDP Broadcast (printer to client) (JSON-RPC)',\n",
              " 12345: 'Cube World',\n",
              " 12443: 'IBM HMC web browser management access over HTTPS instead of default port 443',\n",
              " 12489: 'NSClient/NSClient++/NC_Net (Nagios)',\n",
              " 12975: 'LogMeIn Hamachi (VPN tunnel software; also port 32976)',\n",
              " 13008: 'CrossFire, a multiplayer online First Person Shooter',\n",
              " 13075: 'Default for BMC Software Control-M/Enterprise Manager Corba communication',\n",
              " 13400: 'ISO 13400 Road vehicles — Diagnostic communication over Internet Protocol(DoIP)',\n",
              " 13720: 'Symantec NetBackup—bprd (formerly VERITAS)',\n",
              " 13721: 'Symantec NetBackup—bpdbm (formerly VERITAS)',\n",
              " 13724: 'Symantec Network Utility—vnetd (formerly VERITAS)',\n",
              " 13782: 'Symantec NetBackup—bpcd (formerly VERITAS)',\n",
              " 13783: 'Symantec VOPIED protocol (formerly VERITAS)',\n",
              " 13785: 'Symantec NetBackup Database—nbdb (formerly VERITAS)',\n",
              " 13786: 'Symantec nomdb (formerly VERITAS)',\n",
              " 14550: 'MAVLink Ground Station Port',\n",
              " 14567: 'Battlefield 1942 and mods',\n",
              " 14800: 'Age of Wonders III p2p port',\n",
              " 15000: 'psyBNC',\n",
              " 15009: 'Teltonika networks remote management system (RMS)',\n",
              " 15010: 'Teltonika networks remote management system (RMS)',\n",
              " 15441: 'ZeroNet fileserver',\n",
              " 15567: 'Battlefield Vietnam and mods',\n",
              " 15345: 'XPilot Contact',\n",
              " 15672: 'RabbitMQ management plugin',\n",
              " 16000: 'Oracle WebCenter Content: Imaging',\n",
              " 16080: 'macOS Server Web (HTTP) service with performance cache',\n",
              " 16200: 'Oracle WebCenter Content: Content Server',\n",
              " 16225: 'Oracle WebCenter Content: Content Server Web UI',\n",
              " 16250: 'Oracle WebCenter Content: Inbound Refinery ',\n",
              " 16261: 'Project Zomboid multiplayer.',\n",
              " 16300: 'Oracle WebCenter Content: Records Management ',\n",
              " 16384: 'CISCO Default RTP MIN',\n",
              " 16400: 'Oracle WebCenter Content: Capture',\n",
              " 16567: 'Battlefield 2 and mods',\n",
              " 16666: 'SITC Port for mobile web traffic',\n",
              " 16677: 'SITC Port for mobile web traffic',\n",
              " 17011: 'Worms multiplayer',\n",
              " 17224: 'Train Realtime Data Protocol (TRDP) Process Data',\n",
              " 17225: 'Train Realtime Data Protocol (TRDP) Message Data',\n",
              " 17333: 'CS Server (CSMS), default binary protocol port',\n",
              " 17472: 'Tanium Communication Port',\n",
              " 17475: 'DMXControl 3 Network Broker',\n",
              " 17500: 'Dropbox LanSync Protocol (db-lsp)',\n",
              " 17777: 'SITC Port for mobile web traffic',\n",
              " 18080: 'Monero P2P network communications',\n",
              " 18081: 'Monero incoming RPC calls',\n",
              " 18091: 'memcached Internal REST HTTPS for SSL',\n",
              " 18092: 'memcached Internal CAPI HTTPS for SSL',\n",
              " 18104: 'RAD PDF Service',\n",
              " 18200: 'Audition Online Dance Battle, AsiaSoft Thailand Server status/version check',\n",
              " 18201: 'Audition Online Dance Battle, AsiaSoft Thailand Server',\n",
              " 18206: 'Audition Online Dance Battle, AsiaSoft Thailand Server FAM database',\n",
              " 18300: 'Audition Online Dance Battle, AsiaSoft SEA Server status/version check',\n",
              " 18301: 'Audition Online Dance Battle, AsiaSoft SEA Server',\n",
              " 18306: 'Audition Online Dance Battle, AsiaSoft SEA Server FAM database',\n",
              " 18333: 'Bitcoin testnet',\n",
              " 18400: 'Audition Online Dance Battle, KAIZEN Brazil Server status/version check',\n",
              " 18401: 'Audition Online Dance Battle, KAIZEN Brazil Server',\n",
              " 18505: 'Audition Online Dance Battle R4p3 Server, Nexon Server status/version check',\n",
              " 18506: 'Audition Online Dance Battle, Nexon Server',\n",
              " 18605: 'X-BEAT status/version check',\n",
              " 18606: 'X-BEAT',\n",
              " 18676: 'YouView',\n",
              " 19000: 'Audition Online Dance Battle, G10/alaplaya Server status/version check',\n",
              " 19001: 'Audition Online Dance Battle, G10/alaplaya Server',\n",
              " 19132: 'Minecraft: Bedrock Edition multiplayer server',\n",
              " 19133: 'Minecraft: Bedrock Edition IPv6 multiplayer server',\n",
              " 19150: 'Gkrellm Server',\n",
              " 19226: 'Panda Software AdminSecure Communication Agent',\n",
              " 19294: 'Google Talk Voice and Video connections',\n",
              " 19295: 'Google Talk Voice and Video connections',\n",
              " 19302: 'Google Talk Voice and Video connections',\n",
              " 19531: 'systemd-journal-gatewayd',\n",
              " 19532: 'systemd-journal-remote',\n",
              " 19812: '4D database SQL Communication',\n",
              " 19813: '4D database Client Server Communication',\n",
              " 19814: '4D database DB4D Communication',\n",
              " 19999: 'Distributed Network Protocol—Secure (DNP—Secure)',\n",
              " 20000: 'Distributed Network Protocol (DNP)',\n",
              " 20560: 'Killing Floor',\n",
              " 20582: 'HW Development IoT comms',\n",
              " 20583: 'HW Development IoT comms',\n",
              " 20595: '0 A.D. Empires Ascendant',\n",
              " ...}"
            ]
          },
          "metadata": {},
          "execution_count": 10
        }
      ]
    },
    {
      "cell_type": "code",
      "metadata": {
        "id": "46t_pqPBmc5T"
      },
      "source": [
        "#Mapping Values\n",
        "netflow['Src_value'] = netflow['sp'].map(Port_value)\n",
        "netflow['Dst_value'] = netflow['dp'].map(Port_value)\n",
        "netflow.Src_value = netflow.Src_value.fillna(\"Unassigned\")\n",
        "netflow.Dst_value = netflow.Dst_value.fillna(\"Unassigned\")"
      ],
      "execution_count": null,
      "outputs": []
    },
    {
      "cell_type": "code",
      "metadata": {
        "id": "i3lW5gcVmc7z"
      },
      "source": [
        "#Converting Host_Names and description into a dictionary\n",
        "host2value = zip(Host_names['Ip'], Host_names['Name'])\n",
        "Host_description = list(host2value)\n",
        "host_value = dict(Host_description)\n",
        "host_value"
      ],
      "execution_count": null,
      "outputs": []
    },
    {
      "cell_type": "code",
      "metadata": {
        "id": "NYVJ6IjXmc-w"
      },
      "source": [
        "netflow['Device_Src'] = netflow['sa'].map(host_value)\n",
        "netflow['Device_Dst'] = netflow['da'].map(host_value)\n",
        "netflow['Device_Src'] = netflow['Device_Src'].fillna(\"Unknown_Device\")\n",
        "netflow['Device_Dst'] = netflow['Device_Dst'].fillna(\"Unknown_Device\")"
      ],
      "execution_count": null,
      "outputs": []
    },
    {
      "cell_type": "code",
      "metadata": {
        "id": "eOcVeosZmdBz"
      },
      "source": [
        "netflow.head(50)"
      ],
      "execution_count": null,
      "outputs": []
    },
    {
      "cell_type": "code",
      "metadata": {
        "colab": {
          "base_uri": "https://localhost:8080/",
          "height": 1000
        },
        "id": "hBrZUZaCbfpo",
        "outputId": "2d67ca2a-9486-4d34-c50e-90a47ff73517"
      },
      "source": [
        "sns.pairplot(netflow)"
      ],
      "execution_count": null,
      "outputs": [
        {
          "output_type": "execute_result",
          "data": {
            "text/plain": [
              "<seaborn.axisgrid.PairGrid at 0x7f7ad9221e50>"
            ]
          },
          "metadata": {},
          "execution_count": 15
        },
        {
          "output_type": "display_data",
          "data": {
            "image/png": "[encoded data removed]",
            "text/plain": [
              "<Figure size 1260x1260 with 56 Axes>"
            ]
          },
          "metadata": {
            "needs_background": "light"
          }
        }
      ]
    },
    {
      "cell_type": "code",
      "metadata": {
        "colab": {
          "base_uri": "https://localhost:8080/",
          "height": 286
        },
        "id": "fzeZnr2xbktT",
        "outputId": "04dc8da7-4cd4-4d37-de51-b61115b1c674"
      },
      "source": [
        "sns.heatmap(netflow.corr())"
      ],
      "execution_count": null,
      "outputs": [
        {
          "output_type": "execute_result",
          "data": {
            "text/plain": [
              "<matplotlib.axes._subplots.AxesSubplot at 0x7f7a96ec1090>"
            ]
          },
          "metadata": {},
          "execution_count": 16
        },
        {
          "output_type": "display_data",
          "data": {
            "image/png": "[encoded data removed]",
            "text/plain": [
              "<Figure size 432x288 with 2 Axes>"
            ]
          },
          "metadata": {
            "needs_background": "light"
          }
        }
      ]
    },
    {
      "cell_type": "code",
      "metadata": {
        "id": "0kwXGPM0b0b0"
      },
      "source": [
        "plt.figure(figsize=(10,5))\n",
        "sns.countplot(netflow['Device_Src'])\n",
        "plt.xticks(rotation=90)"
      ],
      "execution_count": null,
      "outputs": []
    },
    {
      "cell_type": "code",
      "metadata": {
        "id": "tYbYOixccKH7"
      },
      "source": [
        "sns.boxplot(netflow['ipkt'],netflow['sa'])"
      ],
      "execution_count": null,
      "outputs": []
    },
    {
      "cell_type": "code",
      "metadata": {
        "id": "3ZXLIhXZmdEd"
      },
      "source": [
        "import plotly.graph_objects as go\n",
        "\n",
        "def plot_distribution(pd_series):\n",
        "    labels = pd_series.value_counts().index.tolist()\n",
        "    counts = pd_series.value_counts().values.tolist()\n",
        "    \n",
        "    pie_plot = go.Pie(labels=labels, values=counts, hole=.3)\n",
        "    fig = go.Figure(data=[pie_plot])\n",
        "    fig.update_layout(title_text='Distribution for %s' % pd_series.name)\n",
        "    \n",
        "    fig.show()\n",
        "plot_distribution(netflow['Device_Src'])"
      ],
      "execution_count": null,
      "outputs": []
    },
    {
      "cell_type": "code",
      "metadata": {
        "id": "M7MrGBUImdHg"
      },
      "source": [
        "plot_distribution(netflow['Device_Dst'])"
      ],
      "execution_count": null,
      "outputs": []
    },
    {
      "cell_type": "code",
      "metadata": {
        "colab": {
          "base_uri": "https://localhost:8080/"
        },
        "id": "RLIbjM7JmdKX",
        "outputId": "6d901a7a-6892-4a0b-96fe-5c204ed8a426"
      },
      "source": [
        "netflow.sa.nunique()\n"
      ],
      "execution_count": null,
      "outputs": [
        {
          "output_type": "execute_result",
          "data": {
            "text/plain": [
              "169"
            ]
          },
          "metadata": {},
          "execution_count": 21
        }
      ]
    },
    {
      "cell_type": "code",
      "metadata": {
        "colab": {
          "base_uri": "https://localhost:8080/"
        },
        "id": "5hEWobO3o94c",
        "outputId": "9d080d3a-6989-4774-c904-407794302460"
      },
      "source": [
        "netflow.sa.value_counts()"
      ],
      "execution_count": null,
      "outputs": [
        {
          "output_type": "execute_result",
          "data": {
            "text/plain": [
              "44.149.43.22     399\n",
              "44.225.41.134    275\n",
              "44.149.16.139    275\n",
              "44.149.43.210    162\n",
              "44.149.43.132    110\n",
              "                ... \n",
              "44.143.230.2       1\n",
              "44.155.254.4       1\n",
              "176.9.166.35       1\n",
              "44.149.102.80      1\n",
              "44.149.43.3        1\n",
              "Name: sa, Length: 169, dtype: int64"
            ]
          },
          "metadata": {},
          "execution_count": 22
        }
      ]
    },
    {
      "cell_type": "code",
      "metadata": {
        "colab": {
          "base_uri": "https://localhost:8080/"
        },
        "id": "u929dZIimdNR",
        "outputId": "01a72196-39f7-41e7-f4e4-93c38adc72a0"
      },
      "source": [
        "netflow.Device_Src.nunique()"
      ],
      "execution_count": null,
      "outputs": [
        {
          "output_type": "execute_result",
          "data": {
            "text/plain": [
              "104"
            ]
          },
          "metadata": {},
          "execution_count": 23
        }
      ]
    },
    {
      "cell_type": "code",
      "metadata": {
        "id": "ExXRydQQmdQI"
      },
      "source": [
        "netflow.Device_Src.value_counts()"
      ],
      "execution_count": null,
      "outputs": []
    },
    {
      "cell_type": "code",
      "metadata": {
        "colab": {
          "base_uri": "https://localhost:8080/"
        },
        "id": "P0dywY0uqJdE",
        "outputId": "5cc160c1-ae6b-4a61-9345-12fbddfb9d37"
      },
      "source": [
        "pip install pySankey"
      ],
      "execution_count": null,
      "outputs": [
        {
          "output_type": "stream",
          "name": "stdout",
          "text": [
            "Requirement already satisfied: pySankey in /usr/local/lib/python3.7/dist-packages (0.0.1)\n"
          ]
        }
      ]
    },
    {
      "cell_type": "code",
      "metadata": {
        "id": "R7KsiQ1pmdTi"
      },
      "source": [
        "import pandas as pd\n",
        "from pySankey import sankey"
      ],
      "execution_count": null,
      "outputs": []
    },
    {
      "cell_type": "code",
      "metadata": {
        "colab": {
          "base_uri": "https://localhost:8080/",
          "height": 357
        },
        "id": "HTTEOEZDqOi7",
        "outputId": "a03bf04f-b341-49c2-84b9-58c46f52db72"
      },
      "source": [
        "sankey.sankey(left=netflow['Device_Src'], right=netflow['Device_Dst'], aspect=20,fontsize=4)"
      ],
      "execution_count": null,
      "outputs": [
        {
          "output_type": "display_data",
          "data": {
            "image/png": "[encoded data removed]",
            "text/plain": [
              "<Figure size 432x432 with 1 Axes>"
            ]
          },
          "metadata": {
            "needs_background": "light"
          }
        }
      ]
    },
    {
      "cell_type": "code",
      "metadata": {
        "colab": {
          "base_uri": "https://localhost:8080/"
        },
        "id": "e3RldxZimdWF",
        "outputId": "e6320852-5c04-4e70-f80c-fe9fe3d9dbb4"
      },
      "source": [
        "#CIDR ranges\n",
        "ClassA_range = ipaddress.ip_network('44.149.43.192/26')\n",
        "for x in ClassA_range.hosts():\n",
        "  print(x)"
      ],
      "execution_count": null,
      "outputs": [
        {
          "output_type": "stream",
          "name": "stdout",
          "text": [
            "44.149.43.193\n",
            "44.149.43.194\n",
            "44.149.43.195\n",
            "44.149.43.196\n",
            "44.149.43.197\n",
            "44.149.43.198\n",
            "44.149.43.199\n",
            "44.149.43.200\n",
            "44.149.43.201\n",
            "44.149.43.202\n",
            "44.149.43.203\n",
            "44.149.43.204\n",
            "44.149.43.205\n",
            "44.149.43.206\n",
            "44.149.43.207\n",
            "44.149.43.208\n",
            "44.149.43.209\n",
            "44.149.43.210\n",
            "44.149.43.211\n",
            "44.149.43.212\n",
            "44.149.43.213\n",
            "44.149.43.214\n",
            "44.149.43.215\n",
            "44.149.43.216\n",
            "44.149.43.217\n",
            "44.149.43.218\n",
            "44.149.43.219\n",
            "44.149.43.220\n",
            "44.149.43.221\n",
            "44.149.43.222\n",
            "44.149.43.223\n",
            "44.149.43.224\n",
            "44.149.43.225\n",
            "44.149.43.226\n",
            "44.149.43.227\n",
            "44.149.43.228\n",
            "44.149.43.229\n",
            "44.149.43.230\n",
            "44.149.43.231\n",
            "44.149.43.232\n",
            "44.149.43.233\n",
            "44.149.43.234\n",
            "44.149.43.235\n",
            "44.149.43.236\n",
            "44.149.43.237\n",
            "44.149.43.238\n",
            "44.149.43.239\n",
            "44.149.43.240\n",
            "44.149.43.241\n",
            "44.149.43.242\n",
            "44.149.43.243\n",
            "44.149.43.244\n",
            "44.149.43.245\n",
            "44.149.43.246\n",
            "44.149.43.247\n",
            "44.149.43.248\n",
            "44.149.43.249\n",
            "44.149.43.250\n",
            "44.149.43.251\n",
            "44.149.43.252\n",
            "44.149.43.253\n",
            "44.149.43.254\n"
          ]
        }
      ]
    },
    {
      "cell_type": "code",
      "metadata": {
        "colab": {
          "base_uri": "https://localhost:8080/"
        },
        "id": "xmIO4Sa3mdZF",
        "outputId": "4eee3095-54ff-4e92-aab7-31fe5c714975"
      },
      "source": [
        "ClassB_range = ipaddress.ip_network('44.149.43.128/26')\n",
        "for x in ClassB_range.hosts():\n",
        "  print(x)"
      ],
      "execution_count": null,
      "outputs": [
        {
          "output_type": "stream",
          "name": "stdout",
          "text": [
            "44.149.43.129\n",
            "44.149.43.130\n",
            "44.149.43.131\n",
            "44.149.43.132\n",
            "44.149.43.133\n",
            "44.149.43.134\n",
            "44.149.43.135\n",
            "44.149.43.136\n",
            "44.149.43.137\n",
            "44.149.43.138\n",
            "44.149.43.139\n",
            "44.149.43.140\n",
            "44.149.43.141\n",
            "44.149.43.142\n",
            "44.149.43.143\n",
            "44.149.43.144\n",
            "44.149.43.145\n",
            "44.149.43.146\n",
            "44.149.43.147\n",
            "44.149.43.148\n",
            "44.149.43.149\n",
            "44.149.43.150\n",
            "44.149.43.151\n",
            "44.149.43.152\n",
            "44.149.43.153\n",
            "44.149.43.154\n",
            "44.149.43.155\n",
            "44.149.43.156\n",
            "44.149.43.157\n",
            "44.149.43.158\n",
            "44.149.43.159\n",
            "44.149.43.160\n",
            "44.149.43.161\n",
            "44.149.43.162\n",
            "44.149.43.163\n",
            "44.149.43.164\n",
            "44.149.43.165\n",
            "44.149.43.166\n",
            "44.149.43.167\n",
            "44.149.43.168\n",
            "44.149.43.169\n",
            "44.149.43.170\n",
            "44.149.43.171\n",
            "44.149.43.172\n",
            "44.149.43.173\n",
            "44.149.43.174\n",
            "44.149.43.175\n",
            "44.149.43.176\n",
            "44.149.43.177\n",
            "44.149.43.178\n",
            "44.149.43.179\n",
            "44.149.43.180\n",
            "44.149.43.181\n",
            "44.149.43.182\n",
            "44.149.43.183\n",
            "44.149.43.184\n",
            "44.149.43.185\n",
            "44.149.43.186\n",
            "44.149.43.187\n",
            "44.149.43.188\n",
            "44.149.43.189\n",
            "44.149.43.190\n"
          ]
        }
      ]
    },
    {
      "cell_type": "code",
      "metadata": {
        "id": "vfuVc2IFmdb7"
      },
      "source": [
        "#Convert Ip addresses datatype from String to Integer\n",
        "netflow['sa'] = netflow.sa.str.replace(\".\",\"\")\n",
        "netflow['da'] = netflow.da.str.replace(\".\",\"\")\n",
        "netflow['sa'] = netflow.sa.astype(int)\n",
        "netflow['da'] = netflow.da.astype(int)"
      ],
      "execution_count": null,
      "outputs": []
    },
    {
      "cell_type": "code",
      "metadata": {
        "colab": {
          "base_uri": "https://localhost:8080/"
        },
        "id": "BIkutQtomdfB",
        "outputId": "9d03cdb3-7d3b-4344-889e-634a71b0c1f7"
      },
      "source": [
        "netflow.dtypes"
      ],
      "execution_count": null,
      "outputs": [
        {
          "output_type": "execute_result",
          "data": {
            "text/plain": [
              "td            float64\n",
              "sa              int64\n",
              "da              int64\n",
              "sp            float64\n",
              "dp            float64\n",
              "pr             object\n",
              "ipkt          float64\n",
              "ibyt          float64\n",
              "opkt          float64\n",
              "obyt          float64\n",
              "Src_value      object\n",
              "Dst_value      object\n",
              "Device_Src     object\n",
              "Device_Dst     object\n",
              "dtype: object"
            ]
          },
          "metadata": {},
          "execution_count": 31
        }
      ]
    },
    {
      "cell_type": "code",
      "metadata": {
        "colab": {
          "base_uri": "https://localhost:8080/",
          "height": 476
        },
        "id": "oI1XRItDmdh5",
        "outputId": "8c17a7e4-1b19-4182-c1aa-7ae283e3a51f"
      },
      "source": [
        "#Classifying into classes\n",
        "#Class A - source OR destination (or both) in 44.149.43.192/26   (Site network of DB0TVP in HAMNETDB)\n",
        "Class_A = netflow[((netflow['sa'] > 4414943192) & (netflow['sa'] < 4414943255)) | ((netflow['da'] > 4414943192) & (netflow['da'] < 4414943255)) ]\n",
        "Class_A"
      ],
      "execution_count": null,
      "outputs": [
        {
          "output_type": "execute_result",
          "data": {
            "text/html": [
              "<div>\n",
              "<style scoped>\n",
              "    .dataframe tbody tr th:only-of-type {\n",
              "        vertical-align: middle;\n",
              "    }\n",
              "\n",
              "    .dataframe tbody tr th {\n",
              "        vertical-align: top;\n",
              "    }\n",
              "\n",
              "    .dataframe thead th {\n",
              "        text-align: right;\n",
              "    }\n",
              "</style>\n",
              "<table border=\"1\" class=\"dataframe\">\n",
              "  <thead>\n",
              "    <tr style=\"text-align: right;\">\n",
              "      <th></th>\n",
              "      <th>td</th>\n",
              "      <th>sa</th>\n",
              "      <th>da</th>\n",
              "      <th>sp</th>\n",
              "      <th>dp</th>\n",
              "      <th>pr</th>\n",
              "      <th>ipkt</th>\n",
              "      <th>ibyt</th>\n",
              "      <th>opkt</th>\n",
              "      <th>obyt</th>\n",
              "      <th>Src_value</th>\n",
              "      <th>Dst_value</th>\n",
              "      <th>Device_Src</th>\n",
              "      <th>Device_Dst</th>\n",
              "    </tr>\n",
              "  </thead>\n",
              "  <tbody>\n",
              "    <tr>\n",
              "      <th>0</th>\n",
              "      <td>34241.0</td>\n",
              "      <td>4414943199</td>\n",
              "      <td>4414943193</td>\n",
              "      <td>34241.0</td>\n",
              "      <td>53.0</td>\n",
              "      <td>UDP</td>\n",
              "      <td>1.0</td>\n",
              "      <td>64.0</td>\n",
              "      <td>0.0</td>\n",
              "      <td>0.0</td>\n",
              "      <td>Unassigned</td>\n",
              "      <td>Domain Name System (DNS)</td>\n",
              "      <td>Linux_Debian</td>\n",
              "      <td>Mikrotik_BGP_router.db0tvp</td>\n",
              "    </tr>\n",
              "    <tr>\n",
              "      <th>3</th>\n",
              "      <td>53.0</td>\n",
              "      <td>4414943193</td>\n",
              "      <td>4414943199</td>\n",
              "      <td>53.0</td>\n",
              "      <td>34241.0</td>\n",
              "      <td>UDP</td>\n",
              "      <td>1.0</td>\n",
              "      <td>216.0</td>\n",
              "      <td>0.0</td>\n",
              "      <td>0.0</td>\n",
              "      <td>Domain Name System (DNS)</td>\n",
              "      <td>Unassigned</td>\n",
              "      <td>Mikrotik_BGP_router.db0tvp</td>\n",
              "      <td>Linux_Debian</td>\n",
              "    </tr>\n",
              "    <tr>\n",
              "      <th>4</th>\n",
              "      <td>44182.0</td>\n",
              "      <td>4414943199</td>\n",
              "      <td>168235104115</td>\n",
              "      <td>44182.0</td>\n",
              "      <td>80.0</td>\n",
              "      <td>TCP</td>\n",
              "      <td>1.0</td>\n",
              "      <td>60.0</td>\n",
              "      <td>0.0</td>\n",
              "      <td>0.0</td>\n",
              "      <td>Unassigned</td>\n",
              "      <td>Hypertext Transfer Protocol (HTTP)</td>\n",
              "      <td>Linux_Debian</td>\n",
              "      <td>Unknown_Device</td>\n",
              "    </tr>\n",
              "    <tr>\n",
              "      <th>5</th>\n",
              "      <td>80.0</td>\n",
              "      <td>168235104115</td>\n",
              "      <td>4414943199</td>\n",
              "      <td>80.0</td>\n",
              "      <td>44182.0</td>\n",
              "      <td>TCP</td>\n",
              "      <td>1.0</td>\n",
              "      <td>88.0</td>\n",
              "      <td>0.0</td>\n",
              "      <td>0.0</td>\n",
              "      <td>Hypertext Transfer Protocol (HTTP)</td>\n",
              "      <td>Unassigned</td>\n",
              "      <td>Unknown_Device</td>\n",
              "      <td>Linux_Debian</td>\n",
              "    </tr>\n",
              "    <tr>\n",
              "      <th>6</th>\n",
              "      <td>80.0</td>\n",
              "      <td>5023587130</td>\n",
              "      <td>4414943210</td>\n",
              "      <td>80.0</td>\n",
              "      <td>55522.0</td>\n",
              "      <td>TCP</td>\n",
              "      <td>6.0</td>\n",
              "      <td>581.0</td>\n",
              "      <td>0.0</td>\n",
              "      <td>0.0</td>\n",
              "      <td>Hypertext Transfer Protocol (HTTP)</td>\n",
              "      <td>Unassigned</td>\n",
              "      <td>Unknown_Device</td>\n",
              "      <td>Windows</td>\n",
              "    </tr>\n",
              "    <tr>\n",
              "      <th>...</th>\n",
              "      <td>...</td>\n",
              "      <td>...</td>\n",
              "      <td>...</td>\n",
              "      <td>...</td>\n",
              "      <td>...</td>\n",
              "      <td>...</td>\n",
              "      <td>...</td>\n",
              "      <td>...</td>\n",
              "      <td>...</td>\n",
              "      <td>...</td>\n",
              "      <td>...</td>\n",
              "      <td>...</td>\n",
              "      <td>...</td>\n",
              "      <td>...</td>\n",
              "    </tr>\n",
              "    <tr>\n",
              "      <th>2828</th>\n",
              "      <td>51359.0</td>\n",
              "      <td>4414943210</td>\n",
              "      <td>4414943223</td>\n",
              "      <td>51359.0</td>\n",
              "      <td>1024.0</td>\n",
              "      <td>UDP</td>\n",
              "      <td>1.0</td>\n",
              "      <td>91.0</td>\n",
              "      <td>0.0</td>\n",
              "      <td>0.0</td>\n",
              "      <td>Unassigned</td>\n",
              "      <td>Reserved</td>\n",
              "      <td>Windows</td>\n",
              "      <td>Unknown_Device</td>\n",
              "    </tr>\n",
              "    <tr>\n",
              "      <th>2829</th>\n",
              "      <td>5060.0</td>\n",
              "      <td>4414943132</td>\n",
              "      <td>4414943203</td>\n",
              "      <td>5060.0</td>\n",
              "      <td>5062.0</td>\n",
              "      <td>UDP</td>\n",
              "      <td>1.0</td>\n",
              "      <td>602.0</td>\n",
              "      <td>0.0</td>\n",
              "      <td>0.0</td>\n",
              "      <td>Session Initiation Protocol (SIP)</td>\n",
              "      <td>Localisation access</td>\n",
              "      <td>Linux_Ubuntu/raspi.db0pas</td>\n",
              "      <td>VOIP/ipphone-dl0pf.db0tvp</td>\n",
              "    </tr>\n",
              "    <tr>\n",
              "      <th>2830</th>\n",
              "      <td>5062.0</td>\n",
              "      <td>4414943203</td>\n",
              "      <td>4414943132</td>\n",
              "      <td>5062.0</td>\n",
              "      <td>5060.0</td>\n",
              "      <td>UDP</td>\n",
              "      <td>2.0</td>\n",
              "      <td>401.0</td>\n",
              "      <td>0.0</td>\n",
              "      <td>0.0</td>\n",
              "      <td>Localisation access</td>\n",
              "      <td>Session Initiation Protocol (SIP)</td>\n",
              "      <td>VOIP/ipphone-dl0pf.db0tvp</td>\n",
              "      <td>Linux_Ubuntu/raspi.db0pas</td>\n",
              "    </tr>\n",
              "    <tr>\n",
              "      <th>2838</th>\n",
              "      <td>5060.0</td>\n",
              "      <td>4414943132</td>\n",
              "      <td>4414943203</td>\n",
              "      <td>5060.0</td>\n",
              "      <td>5062.0</td>\n",
              "      <td>UDP</td>\n",
              "      <td>1.0</td>\n",
              "      <td>602.0</td>\n",
              "      <td>0.0</td>\n",
              "      <td>0.0</td>\n",
              "      <td>Session Initiation Protocol (SIP)</td>\n",
              "      <td>Localisation access</td>\n",
              "      <td>Linux_Ubuntu/raspi.db0pas</td>\n",
              "      <td>VOIP/ipphone-dl0pf.db0tvp</td>\n",
              "    </tr>\n",
              "    <tr>\n",
              "      <th>2839</th>\n",
              "      <td>5062.0</td>\n",
              "      <td>4414943203</td>\n",
              "      <td>4414943132</td>\n",
              "      <td>5062.0</td>\n",
              "      <td>5060.0</td>\n",
              "      <td>UDP</td>\n",
              "      <td>2.0</td>\n",
              "      <td>401.0</td>\n",
              "      <td>0.0</td>\n",
              "      <td>0.0</td>\n",
              "      <td>Localisation access</td>\n",
              "      <td>Session Initiation Protocol (SIP)</td>\n",
              "      <td>VOIP/ipphone-dl0pf.db0tvp</td>\n",
              "      <td>Linux_Ubuntu/raspi.db0pas</td>\n",
              "    </tr>\n",
              "  </tbody>\n",
              "</table>\n",
              "<p>859 rows × 14 columns</p>\n",
              "</div>"
            ],
            "text/plain": [
              "           td  ...                  Device_Dst\n",
              "0     34241.0  ...  Mikrotik_BGP_router.db0tvp\n",
              "3        53.0  ...                Linux_Debian\n",
              "4     44182.0  ...              Unknown_Device\n",
              "5        80.0  ...                Linux_Debian\n",
              "6        80.0  ...                     Windows\n",
              "...       ...  ...                         ...\n",
              "2828  51359.0  ...              Unknown_Device\n",
              "2829   5060.0  ...   VOIP/ipphone-dl0pf.db0tvp\n",
              "2830   5062.0  ...   Linux_Ubuntu/raspi.db0pas\n",
              "2838   5060.0  ...   VOIP/ipphone-dl0pf.db0tvp\n",
              "2839   5062.0  ...   Linux_Ubuntu/raspi.db0pas\n",
              "\n",
              "[859 rows x 14 columns]"
            ]
          },
          "metadata": {},
          "execution_count": 32
        }
      ]
    },
    {
      "cell_type": "code",
      "metadata": {
        "colab": {
          "base_uri": "https://localhost:8080/"
        },
        "id": "SOxvE0rTmdk_",
        "outputId": "0a053551-967c-4304-ace6-01555b71a1c3"
      },
      "source": [
        "Class_A.shape"
      ],
      "execution_count": null,
      "outputs": [
        {
          "output_type": "execute_result",
          "data": {
            "text/plain": [
              "(859, 14)"
            ]
          },
          "metadata": {},
          "execution_count": 33
        }
      ]
    },
    {
      "cell_type": "code",
      "metadata": {
        "id": "_WUqzivCmdoH"
      },
      "source": [
        "plot_distribution(Class_A['Device_Src'])"
      ],
      "execution_count": null,
      "outputs": []
    },
    {
      "cell_type": "code",
      "metadata": {
        "id": "ViMBHZPdmdqt"
      },
      "source": [
        "plot_distribution(Class_A['Device_Dst'])"
      ],
      "execution_count": null,
      "outputs": []
    },
    {
      "cell_type": "code",
      "metadata": {
        "colab": {
          "base_uri": "https://localhost:8080/",
          "height": 542
        },
        "id": "nw9yEcXKmdt7",
        "outputId": "fc864f51-8aa7-440c-d054-bee43a0f8fac"
      },
      "source": [
        "plot_distribution(Class_A['Src_value'])"
      ],
      "execution_count": null,
      "outputs": [
        {
          "output_type": "display_data",
          "data": {
            "text/html": [
              "<html>\n",
              "<head><meta charset=\"utf-8\" /></head>\n",
              "<body>\n",
              "    <div>\n",
              "            <script src=\"https://cdnjs.cloudflare.com/ajax/libs/mathjax/2.7.5/MathJax.js?config=TeX-AMS-MML_SVG\"></script><script type=\"text/javascript\">if (window.MathJax) {MathJax.Hub.Config({SVG: {font: \"STIX-Web\"}});}</script>\n",
              "                <script type=\"text/javascript\">window.PlotlyConfig = {MathJaxConfig: 'local'};</script>\n",
              "        <script src=\"https://cdn.plot.ly/plotly-latest.min.js\"></script>    \n",
              "            <div id=\"1b1ab731-34e2-4846-ad70-6c6780a1c60f\" class=\"plotly-graph-div\" style=\"height:525px; width:100%;\"></div>\n",
              "            <script type=\"text/javascript\">\n",
              "                \n",
              "                    window.PLOTLYENV=window.PLOTLYENV || {};\n",
              "                    \n",
              "                if (document.getElementById(\"1b1ab731-34e2-4846-ad70-6c6780a1c60f\")) {\n",
              "                    Plotly.newPlot(\n",
              "                        '1b1ab731-34e2-4846-ad70-6c6780a1c60f',\n",
              "                        [{\"hole\": 0.3, \"labels\": [\"Unassigned\", \"In programming APIs- requests a system-allocated (dynamic) port\", \"Quest AppAssure 5 API\", \"Hypertext Transfer Protocol (HTTP)\", \"Domain Name System (DNS)\", \"Port used by Linksys (and other) Cable/DSL Routers Remote Administration\", \"Big Brother\", \"Localisation access\", \"IP Flow Information Export\", \"Secure Shell (SSH)\", \"Session Initiation Protocol (SIP)\", \"Hypertext Transfer Protocol Secure (HTTPS)\", \"Network Time Protocol (NTP)\", \"Reserved\", \"Simple Network Management Protocol (SNMP)[75]\", \"Squid caching web proxy\", \"Microsoft Terminal Server (RDP) officially registered as Windows Based Terminal (WBT)\", \"CMIP/TCP Manager\", \"Dynamic / Private ports, Xsan Filesystem Access\", \"NetBIOS Datagram Service\"], \"type\": \"pie\", \"values\": [343, 216, 62, 55, 32, 25, 21, 20, 18, 17, 17, 10, 7, 5, 3, 3, 2, 1, 1, 1]}],\n",
              "                        {\"template\": {\"data\": {\"bar\": [{\"error_x\": {\"color\": \"#2a3f5f\"}, \"error_y\": {\"color\": \"#2a3f5f\"}, \"marker\": {\"line\": {\"color\": \"#E5ECF6\", \"width\": 0.5}}, \"type\": \"bar\"}], \"barpolar\": [{\"marker\": {\"line\": {\"color\": \"#E5ECF6\", \"width\": 0.5}}, \"type\": \"barpolar\"}], \"carpet\": [{\"aaxis\": {\"endlinecolor\": \"#2a3f5f\", \"gridcolor\": \"white\", \"linecolor\": \"white\", \"minorgridcolor\": \"white\", \"startlinecolor\": \"#2a3f5f\"}, \"baxis\": {\"endlinecolor\": \"#2a3f5f\", \"gridcolor\": \"white\", \"linecolor\": \"white\", \"minorgridcolor\": \"white\", \"startlinecolor\": \"#2a3f5f\"}, \"type\": \"carpet\"}], \"choropleth\": [{\"colorbar\": {\"outlinewidth\": 0, \"ticks\": \"\"}, \"type\": \"choropleth\"}], \"contour\": [{\"colorbar\": {\"outlinewidth\": 0, \"ticks\": \"\"}, \"colorscale\": [[0.0, \"#0d0887\"], [0.1111111111111111, \"#46039f\"], [0.2222222222222222, \"#7201a8\"], [0.3333333333333333, \"#9c179e\"], [0.4444444444444444, \"#bd3786\"], [0.5555555555555556, \"#d8576b\"], [0.6666666666666666, \"#ed7953\"], [0.7777777777777778, \"#fb9f3a\"], [0.8888888888888888, \"#fdca26\"], [1.0, \"#f0f921\"]], \"type\": \"contour\"}], \"contourcarpet\": [{\"colorbar\": {\"outlinewidth\": 0, \"ticks\": \"\"}, \"type\": \"contourcarpet\"}], \"heatmap\": [{\"colorbar\": {\"outlinewidth\": 0, \"ticks\": \"\"}, \"colorscale\": [[0.0, \"#0d0887\"], [0.1111111111111111, \"#46039f\"], [0.2222222222222222, \"#7201a8\"], [0.3333333333333333, \"#9c179e\"], [0.4444444444444444, \"#bd3786\"], [0.5555555555555556, \"#d8576b\"], [0.6666666666666666, \"#ed7953\"], [0.7777777777777778, \"#fb9f3a\"], [0.8888888888888888, \"#fdca26\"], [1.0, \"#f0f921\"]], \"type\": \"heatmap\"}], \"heatmapgl\": [{\"colorbar\": {\"outlinewidth\": 0, \"ticks\": \"\"}, \"colorscale\": [[0.0, \"#0d0887\"], [0.1111111111111111, \"#46039f\"], [0.2222222222222222, \"#7201a8\"], [0.3333333333333333, \"#9c179e\"], [0.4444444444444444, \"#bd3786\"], [0.5555555555555556, \"#d8576b\"], [0.6666666666666666, \"#ed7953\"], [0.7777777777777778, \"#fb9f3a\"], [0.8888888888888888, \"#fdca26\"], [1.0, \"#f0f921\"]], \"type\": \"heatmapgl\"}], \"histogram\": [{\"marker\": {\"colorbar\": {\"outlinewidth\": 0, \"ticks\": \"\"}}, \"type\": \"histogram\"}], \"histogram2d\": [{\"colorbar\": {\"outlinewidth\": 0, \"ticks\": \"\"}, \"colorscale\": [[0.0, \"#0d0887\"], [0.1111111111111111, \"#46039f\"], [0.2222222222222222, \"#7201a8\"], [0.3333333333333333, \"#9c179e\"], [0.4444444444444444, \"#bd3786\"], [0.5555555555555556, \"#d8576b\"], [0.6666666666666666, \"#ed7953\"], [0.7777777777777778, \"#fb9f3a\"], [0.8888888888888888, \"#fdca26\"], [1.0, \"#f0f921\"]], \"type\": \"histogram2d\"}], \"histogram2dcontour\": [{\"colorbar\": {\"outlinewidth\": 0, \"ticks\": \"\"}, \"colorscale\": [[0.0, \"#0d0887\"], [0.1111111111111111, \"#46039f\"], [0.2222222222222222, \"#7201a8\"], [0.3333333333333333, \"#9c179e\"], [0.4444444444444444, \"#bd3786\"], [0.5555555555555556, \"#d8576b\"], [0.6666666666666666, \"#ed7953\"], [0.7777777777777778, \"#fb9f3a\"], [0.8888888888888888, \"#fdca26\"], [1.0, \"#f0f921\"]], \"type\": \"histogram2dcontour\"}], \"mesh3d\": [{\"colorbar\": {\"outlinewidth\": 0, \"ticks\": \"\"}, \"type\": \"mesh3d\"}], \"parcoords\": [{\"line\": {\"colorbar\": {\"outlinewidth\": 0, \"ticks\": \"\"}}, \"type\": \"parcoords\"}], \"pie\": [{\"automargin\": true, \"type\": \"pie\"}], \"scatter\": [{\"marker\": {\"colorbar\": {\"outlinewidth\": 0, \"ticks\": \"\"}}, \"type\": \"scatter\"}], \"scatter3d\": [{\"line\": {\"colorbar\": {\"outlinewidth\": 0, \"ticks\": \"\"}}, \"marker\": {\"colorbar\": {\"outlinewidth\": 0, \"ticks\": \"\"}}, \"type\": \"scatter3d\"}], \"scattercarpet\": [{\"marker\": {\"colorbar\": {\"outlinewidth\": 0, \"ticks\": \"\"}}, \"type\": \"scattercarpet\"}], \"scattergeo\": [{\"marker\": {\"colorbar\": {\"outlinewidth\": 0, \"ticks\": \"\"}}, \"type\": \"scattergeo\"}], \"scattergl\": [{\"marker\": {\"colorbar\": {\"outlinewidth\": 0, \"ticks\": \"\"}}, \"type\": \"scattergl\"}], \"scattermapbox\": [{\"marker\": {\"colorbar\": {\"outlinewidth\": 0, \"ticks\": \"\"}}, \"type\": \"scattermapbox\"}], \"scatterpolar\": [{\"marker\": {\"colorbar\": {\"outlinewidth\": 0, \"ticks\": \"\"}}, \"type\": \"scatterpolar\"}], \"scatterpolargl\": [{\"marker\": {\"colorbar\": {\"outlinewidth\": 0, \"ticks\": \"\"}}, \"type\": \"scatterpolargl\"}], \"scatterternary\": [{\"marker\": {\"colorbar\": {\"outlinewidth\": 0, \"ticks\": \"\"}}, \"type\": \"scatterternary\"}], \"surface\": [{\"colorbar\": {\"outlinewidth\": 0, \"ticks\": \"\"}, \"colorscale\": [[0.0, \"#0d0887\"], [0.1111111111111111, \"#46039f\"], [0.2222222222222222, \"#7201a8\"], [0.3333333333333333, \"#9c179e\"], [0.4444444444444444, \"#bd3786\"], [0.5555555555555556, \"#d8576b\"], [0.6666666666666666, \"#ed7953\"], [0.7777777777777778, \"#fb9f3a\"], [0.8888888888888888, \"#fdca26\"], [1.0, \"#f0f921\"]], \"type\": \"surface\"}], \"table\": [{\"cells\": {\"fill\": {\"color\": \"#EBF0F8\"}, \"line\": {\"color\": \"white\"}}, \"header\": {\"fill\": {\"color\": \"#C8D4E3\"}, \"line\": {\"color\": \"white\"}}, \"type\": \"table\"}]}, \"layout\": {\"annotationdefaults\": {\"arrowcolor\": \"#2a3f5f\", \"arrowhead\": 0, \"arrowwidth\": 1}, \"coloraxis\": {\"colorbar\": {\"outlinewidth\": 0, \"ticks\": \"\"}}, \"colorscale\": {\"diverging\": [[0, \"#8e0152\"], [0.1, \"#c51b7d\"], [0.2, \"#de77ae\"], [0.3, \"#f1b6da\"], [0.4, \"#fde0ef\"], [0.5, \"#f7f7f7\"], [0.6, \"#e6f5d0\"], [0.7, \"#b8e186\"], [0.8, \"#7fbc41\"], [0.9, \"#4d9221\"], [1, \"#276419\"]], \"sequential\": [[0.0, \"#0d0887\"], [0.1111111111111111, \"#46039f\"], [0.2222222222222222, \"#7201a8\"], [0.3333333333333333, \"#9c179e\"], [0.4444444444444444, \"#bd3786\"], [0.5555555555555556, \"#d8576b\"], [0.6666666666666666, \"#ed7953\"], [0.7777777777777778, \"#fb9f3a\"], [0.8888888888888888, \"#fdca26\"], [1.0, \"#f0f921\"]], \"sequentialminus\": [[0.0, \"#0d0887\"], [0.1111111111111111, \"#46039f\"], [0.2222222222222222, \"#7201a8\"], [0.3333333333333333, \"#9c179e\"], [0.4444444444444444, \"#bd3786\"], [0.5555555555555556, \"#d8576b\"], [0.6666666666666666, \"#ed7953\"], [0.7777777777777778, \"#fb9f3a\"], [0.8888888888888888, \"#fdca26\"], [1.0, \"#f0f921\"]]}, \"colorway\": [\"#636efa\", \"#EF553B\", \"#00cc96\", \"#ab63fa\", \"#FFA15A\", \"#19d3f3\", \"#FF6692\", \"#B6E880\", \"#FF97FF\", \"#FECB52\"], \"font\": {\"color\": \"#2a3f5f\"}, \"geo\": {\"bgcolor\": \"white\", \"lakecolor\": \"white\", \"landcolor\": \"#E5ECF6\", \"showlakes\": true, \"showland\": true, \"subunitcolor\": \"white\"}, \"hoverlabel\": {\"align\": \"left\"}, \"hovermode\": \"closest\", \"mapbox\": {\"style\": \"light\"}, \"paper_bgcolor\": \"white\", \"plot_bgcolor\": \"#E5ECF6\", \"polar\": {\"angularaxis\": {\"gridcolor\": \"white\", \"linecolor\": \"white\", \"ticks\": \"\"}, \"bgcolor\": \"#E5ECF6\", \"radialaxis\": {\"gridcolor\": \"white\", \"linecolor\": \"white\", \"ticks\": \"\"}}, \"scene\": {\"xaxis\": {\"backgroundcolor\": \"#E5ECF6\", \"gridcolor\": \"white\", \"gridwidth\": 2, \"linecolor\": \"white\", \"showbackground\": true, \"ticks\": \"\", \"zerolinecolor\": \"white\"}, \"yaxis\": {\"backgroundcolor\": \"#E5ECF6\", \"gridcolor\": \"white\", \"gridwidth\": 2, \"linecolor\": \"white\", \"showbackground\": true, \"ticks\": \"\", \"zerolinecolor\": \"white\"}, \"zaxis\": {\"backgroundcolor\": \"#E5ECF6\", \"gridcolor\": \"white\", \"gridwidth\": 2, \"linecolor\": \"white\", \"showbackground\": true, \"ticks\": \"\", \"zerolinecolor\": \"white\"}}, \"shapedefaults\": {\"line\": {\"color\": \"#2a3f5f\"}}, \"ternary\": {\"aaxis\": {\"gridcolor\": \"white\", \"linecolor\": \"white\", \"ticks\": \"\"}, \"baxis\": {\"gridcolor\": \"white\", \"linecolor\": \"white\", \"ticks\": \"\"}, \"bgcolor\": \"#E5ECF6\", \"caxis\": {\"gridcolor\": \"white\", \"linecolor\": \"white\", \"ticks\": \"\"}}, \"title\": {\"x\": 0.05}, \"xaxis\": {\"automargin\": true, \"gridcolor\": \"white\", \"linecolor\": \"white\", \"ticks\": \"\", \"title\": {\"standoff\": 15}, \"zerolinecolor\": \"white\", \"zerolinewidth\": 2}, \"yaxis\": {\"automargin\": true, \"gridcolor\": \"white\", \"linecolor\": \"white\", \"ticks\": \"\", \"title\": {\"standoff\": 15}, \"zerolinecolor\": \"white\", \"zerolinewidth\": 2}}}, \"title\": {\"text\": \"Distribution for Src_value\"}},\n",
              "                        {\"responsive\": true}\n",
              "                    ).then(function(){\n",
              "                            \n",
              "var gd = document.getElementById('1b1ab731-34e2-4846-ad70-6c6780a1c60f');\n",
              "var x = new MutationObserver(function (mutations, observer) {{\n",
              "        var display = window.getComputedStyle(gd).display;\n",
              "        if (!display || display === 'none') {{\n",
              "            console.log([gd, 'removed!']);\n",
              "            Plotly.purge(gd);\n",
              "            observer.disconnect();\n",
              "        }}\n",
              "}});\n",
              "\n",
              "// Listen for the removal of the full notebook cells\n",
              "var notebookContainer = gd.closest('#notebook-container');\n",
              "if (notebookContainer) {{\n",
              "    x.observe(notebookContainer, {childList: true});\n",
              "}}\n",
              "\n",
              "// Listen for the clearing of the current output cell\n",
              "var outputEl = gd.closest('.output');\n",
              "if (outputEl) {{\n",
              "    x.observe(outputEl, {childList: true});\n",
              "}}\n",
              "\n",
              "                        })\n",
              "                };\n",
              "                \n",
              "            </script>\n",
              "        </div>\n",
              "</body>\n",
              "</html>"
            ]
          },
          "metadata": {}
        }
      ]
    },
    {
      "cell_type": "code",
      "metadata": {
        "colab": {
          "base_uri": "https://localhost:8080/",
          "height": 542
        },
        "id": "X29cLslbmdw5",
        "outputId": "3bb19c79-e5cd-4844-d5d6-0c28334e75a1"
      },
      "source": [
        "plot_distribution(Class_A['Dst_value'])"
      ],
      "execution_count": null,
      "outputs": [
        {
          "output_type": "display_data",
          "data": {
            "text/html": [
              "<html>\n",
              "<head><meta charset=\"utf-8\" /></head>\n",
              "<body>\n",
              "    <div>\n",
              "            <script src=\"https://cdnjs.cloudflare.com/ajax/libs/mathjax/2.7.5/MathJax.js?config=TeX-AMS-MML_SVG\"></script><script type=\"text/javascript\">if (window.MathJax) {MathJax.Hub.Config({SVG: {font: \"STIX-Web\"}});}</script>\n",
              "                <script type=\"text/javascript\">window.PlotlyConfig = {MathJaxConfig: 'local'};</script>\n",
              "        <script src=\"https://cdn.plot.ly/plotly-latest.min.js\"></script>    \n",
              "            <div id=\"b79a3f4c-fc4b-468c-babd-9cafa222d1b6\" class=\"plotly-graph-div\" style=\"height:525px; width:100%;\"></div>\n",
              "            <script type=\"text/javascript\">\n",
              "                \n",
              "                    window.PLOTLYENV=window.PLOTLYENV || {};\n",
              "                    \n",
              "                if (document.getElementById(\"b79a3f4c-fc4b-468c-babd-9cafa222d1b6\")) {\n",
              "                    Plotly.newPlot(\n",
              "                        'b79a3f4c-fc4b-468c-babd-9cafa222d1b6',\n",
              "                        [{\"hole\": 0.3, \"labels\": [\"Unassigned\", \"In programming APIs- requests a system-allocated (dynamic) port\", \"Reserved\", \"Quest AppAssure 5 API\", \"Hypertext Transfer Protocol (HTTP)\", \"Domain Name System (DNS)\", \"Session Initiation Protocol (SIP)\", \"Port used by Linksys (and other) Cable/DSL Routers Remote Administration\", \"Big Brother\", \"IP Flow Information Export\", \"Secure Shell (SSH)\", \"Localisation access\", \"Hypertext Transfer Protocol Secure (HTTPS)\", \"Network Time Protocol (NTP)\", \"Squid caching web proxy\", \"Simple Network Management Protocol (SNMP)[75]\", \"Dynamic / Private ports, Xsan Filesystem Access\", \"CMIP/TCP Manager\", \"NetBIOS Datagram Service\"], \"type\": \"pie\", \"values\": [244, 216, 102, 62, 55, 32, 28, 25, 21, 18, 17, 12, 10, 8, 3, 3, 1, 1, 1]}],\n",
              "                        {\"template\": {\"data\": {\"bar\": [{\"error_x\": {\"color\": \"#2a3f5f\"}, \"error_y\": {\"color\": \"#2a3f5f\"}, \"marker\": {\"line\": {\"color\": \"#E5ECF6\", \"width\": 0.5}}, \"type\": \"bar\"}], \"barpolar\": [{\"marker\": {\"line\": {\"color\": \"#E5ECF6\", \"width\": 0.5}}, \"type\": \"barpolar\"}], \"carpet\": [{\"aaxis\": {\"endlinecolor\": \"#2a3f5f\", \"gridcolor\": \"white\", \"linecolor\": \"white\", \"minorgridcolor\": \"white\", \"startlinecolor\": \"#2a3f5f\"}, \"baxis\": {\"endlinecolor\": \"#2a3f5f\", \"gridcolor\": \"white\", \"linecolor\": \"white\", \"minorgridcolor\": \"white\", \"startlinecolor\": \"#2a3f5f\"}, \"type\": \"carpet\"}], \"choropleth\": [{\"colorbar\": {\"outlinewidth\": 0, \"ticks\": \"\"}, \"type\": \"choropleth\"}], \"contour\": [{\"colorbar\": {\"outlinewidth\": 0, \"ticks\": \"\"}, \"colorscale\": [[0.0, \"#0d0887\"], [0.1111111111111111, \"#46039f\"], [0.2222222222222222, \"#7201a8\"], [0.3333333333333333, \"#9c179e\"], [0.4444444444444444, \"#bd3786\"], [0.5555555555555556, \"#d8576b\"], [0.6666666666666666, \"#ed7953\"], [0.7777777777777778, \"#fb9f3a\"], [0.8888888888888888, \"#fdca26\"], [1.0, \"#f0f921\"]], \"type\": \"contour\"}], \"contourcarpet\": [{\"colorbar\": {\"outlinewidth\": 0, \"ticks\": \"\"}, \"type\": \"contourcarpet\"}], \"heatmap\": [{\"colorbar\": {\"outlinewidth\": 0, \"ticks\": \"\"}, \"colorscale\": [[0.0, \"#0d0887\"], [0.1111111111111111, \"#46039f\"], [0.2222222222222222, \"#7201a8\"], [0.3333333333333333, \"#9c179e\"], [0.4444444444444444, \"#bd3786\"], [0.5555555555555556, \"#d8576b\"], [0.6666666666666666, \"#ed7953\"], [0.7777777777777778, \"#fb9f3a\"], [0.8888888888888888, \"#fdca26\"], [1.0, \"#f0f921\"]], \"type\": \"heatmap\"}], \"heatmapgl\": [{\"colorbar\": {\"outlinewidth\": 0, \"ticks\": \"\"}, \"colorscale\": [[0.0, \"#0d0887\"], [0.1111111111111111, \"#46039f\"], [0.2222222222222222, \"#7201a8\"], [0.3333333333333333, \"#9c179e\"], [0.4444444444444444, \"#bd3786\"], [0.5555555555555556, \"#d8576b\"], [0.6666666666666666, \"#ed7953\"], [0.7777777777777778, \"#fb9f3a\"], [0.8888888888888888, \"#fdca26\"], [1.0, \"#f0f921\"]], \"type\": \"heatmapgl\"}], \"histogram\": [{\"marker\": {\"colorbar\": {\"outlinewidth\": 0, \"ticks\": \"\"}}, \"type\": \"histogram\"}], \"histogram2d\": [{\"colorbar\": {\"outlinewidth\": 0, \"ticks\": \"\"}, \"colorscale\": [[0.0, \"#0d0887\"], [0.1111111111111111, \"#46039f\"], [0.2222222222222222, \"#7201a8\"], [0.3333333333333333, \"#9c179e\"], [0.4444444444444444, \"#bd3786\"], [0.5555555555555556, \"#d8576b\"], [0.6666666666666666, \"#ed7953\"], [0.7777777777777778, \"#fb9f3a\"], [0.8888888888888888, \"#fdca26\"], [1.0, \"#f0f921\"]], \"type\": \"histogram2d\"}], \"histogram2dcontour\": [{\"colorbar\": {\"outlinewidth\": 0, \"ticks\": \"\"}, \"colorscale\": [[0.0, \"#0d0887\"], [0.1111111111111111, \"#46039f\"], [0.2222222222222222, \"#7201a8\"], [0.3333333333333333, \"#9c179e\"], [0.4444444444444444, \"#bd3786\"], [0.5555555555555556, \"#d8576b\"], [0.6666666666666666, \"#ed7953\"], [0.7777777777777778, \"#fb9f3a\"], [0.8888888888888888, \"#fdca26\"], [1.0, \"#f0f921\"]], \"type\": \"histogram2dcontour\"}], \"mesh3d\": [{\"colorbar\": {\"outlinewidth\": 0, \"ticks\": \"\"}, \"type\": \"mesh3d\"}], \"parcoords\": [{\"line\": {\"colorbar\": {\"outlinewidth\": 0, \"ticks\": \"\"}}, \"type\": \"parcoords\"}], \"pie\": [{\"automargin\": true, \"type\": \"pie\"}], \"scatter\": [{\"marker\": {\"colorbar\": {\"outlinewidth\": 0, \"ticks\": \"\"}}, \"type\": \"scatter\"}], \"scatter3d\": [{\"line\": {\"colorbar\": {\"outlinewidth\": 0, \"ticks\": \"\"}}, \"marker\": {\"colorbar\": {\"outlinewidth\": 0, \"ticks\": \"\"}}, \"type\": \"scatter3d\"}], \"scattercarpet\": [{\"marker\": {\"colorbar\": {\"outlinewidth\": 0, \"ticks\": \"\"}}, \"type\": \"scattercarpet\"}], \"scattergeo\": [{\"marker\": {\"colorbar\": {\"outlinewidth\": 0, \"ticks\": \"\"}}, \"type\": \"scattergeo\"}], \"scattergl\": [{\"marker\": {\"colorbar\": {\"outlinewidth\": 0, \"ticks\": \"\"}}, \"type\": \"scattergl\"}], \"scattermapbox\": [{\"marker\": {\"colorbar\": {\"outlinewidth\": 0, \"ticks\": \"\"}}, \"type\": \"scattermapbox\"}], \"scatterpolar\": [{\"marker\": {\"colorbar\": {\"outlinewidth\": 0, \"ticks\": \"\"}}, \"type\": \"scatterpolar\"}], \"scatterpolargl\": [{\"marker\": {\"colorbar\": {\"outlinewidth\": 0, \"ticks\": \"\"}}, \"type\": \"scatterpolargl\"}], \"scatterternary\": [{\"marker\": {\"colorbar\": {\"outlinewidth\": 0, \"ticks\": \"\"}}, \"type\": \"scatterternary\"}], \"surface\": [{\"colorbar\": {\"outlinewidth\": 0, \"ticks\": \"\"}, \"colorscale\": [[0.0, \"#0d0887\"], [0.1111111111111111, \"#46039f\"], [0.2222222222222222, \"#7201a8\"], [0.3333333333333333, \"#9c179e\"], [0.4444444444444444, \"#bd3786\"], [0.5555555555555556, \"#d8576b\"], [0.6666666666666666, \"#ed7953\"], [0.7777777777777778, \"#fb9f3a\"], [0.8888888888888888, \"#fdca26\"], [1.0, \"#f0f921\"]], \"type\": \"surface\"}], \"table\": [{\"cells\": {\"fill\": {\"color\": \"#EBF0F8\"}, \"line\": {\"color\": \"white\"}}, \"header\": {\"fill\": {\"color\": \"#C8D4E3\"}, \"line\": {\"color\": \"white\"}}, \"type\": \"table\"}]}, \"layout\": {\"annotationdefaults\": {\"arrowcolor\": \"#2a3f5f\", \"arrowhead\": 0, \"arrowwidth\": 1}, \"coloraxis\": {\"colorbar\": {\"outlinewidth\": 0, \"ticks\": \"\"}}, \"colorscale\": {\"diverging\": [[0, \"#8e0152\"], [0.1, \"#c51b7d\"], [0.2, \"#de77ae\"], [0.3, \"#f1b6da\"], [0.4, \"#fde0ef\"], [0.5, \"#f7f7f7\"], [0.6, \"#e6f5d0\"], [0.7, \"#b8e186\"], [0.8, \"#7fbc41\"], [0.9, \"#4d9221\"], [1, \"#276419\"]], \"sequential\": [[0.0, \"#0d0887\"], [0.1111111111111111, \"#46039f\"], [0.2222222222222222, \"#7201a8\"], [0.3333333333333333, \"#9c179e\"], [0.4444444444444444, \"#bd3786\"], [0.5555555555555556, \"#d8576b\"], [0.6666666666666666, \"#ed7953\"], [0.7777777777777778, \"#fb9f3a\"], [0.8888888888888888, \"#fdca26\"], [1.0, \"#f0f921\"]], \"sequentialminus\": [[0.0, \"#0d0887\"], [0.1111111111111111, \"#46039f\"], [0.2222222222222222, \"#7201a8\"], [0.3333333333333333, \"#9c179e\"], [0.4444444444444444, \"#bd3786\"], [0.5555555555555556, \"#d8576b\"], [0.6666666666666666, \"#ed7953\"], [0.7777777777777778, \"#fb9f3a\"], [0.8888888888888888, \"#fdca26\"], [1.0, \"#f0f921\"]]}, \"colorway\": [\"#636efa\", \"#EF553B\", \"#00cc96\", \"#ab63fa\", \"#FFA15A\", \"#19d3f3\", \"#FF6692\", \"#B6E880\", \"#FF97FF\", \"#FECB52\"], \"font\": {\"color\": \"#2a3f5f\"}, \"geo\": {\"bgcolor\": \"white\", \"lakecolor\": \"white\", \"landcolor\": \"#E5ECF6\", \"showlakes\": true, \"showland\": true, \"subunitcolor\": \"white\"}, \"hoverlabel\": {\"align\": \"left\"}, \"hovermode\": \"closest\", \"mapbox\": {\"style\": \"light\"}, \"paper_bgcolor\": \"white\", \"plot_bgcolor\": \"#E5ECF6\", \"polar\": {\"angularaxis\": {\"gridcolor\": \"white\", \"linecolor\": \"white\", \"ticks\": \"\"}, \"bgcolor\": \"#E5ECF6\", \"radialaxis\": {\"gridcolor\": \"white\", \"linecolor\": \"white\", \"ticks\": \"\"}}, \"scene\": {\"xaxis\": {\"backgroundcolor\": \"#E5ECF6\", \"gridcolor\": \"white\", \"gridwidth\": 2, \"linecolor\": \"white\", \"showbackground\": true, \"ticks\": \"\", \"zerolinecolor\": \"white\"}, \"yaxis\": {\"backgroundcolor\": \"#E5ECF6\", \"gridcolor\": \"white\", \"gridwidth\": 2, \"linecolor\": \"white\", \"showbackground\": true, \"ticks\": \"\", \"zerolinecolor\": \"white\"}, \"zaxis\": {\"backgroundcolor\": \"#E5ECF6\", \"gridcolor\": \"white\", \"gridwidth\": 2, \"linecolor\": \"white\", \"showbackground\": true, \"ticks\": \"\", \"zerolinecolor\": \"white\"}}, \"shapedefaults\": {\"line\": {\"color\": \"#2a3f5f\"}}, \"ternary\": {\"aaxis\": {\"gridcolor\": \"white\", \"linecolor\": \"white\", \"ticks\": \"\"}, \"baxis\": {\"gridcolor\": \"white\", \"linecolor\": \"white\", \"ticks\": \"\"}, \"bgcolor\": \"#E5ECF6\", \"caxis\": {\"gridcolor\": \"white\", \"linecolor\": \"white\", \"ticks\": \"\"}}, \"title\": {\"x\": 0.05}, \"xaxis\": {\"automargin\": true, \"gridcolor\": \"white\", \"linecolor\": \"white\", \"ticks\": \"\", \"title\": {\"standoff\": 15}, \"zerolinecolor\": \"white\", \"zerolinewidth\": 2}, \"yaxis\": {\"automargin\": true, \"gridcolor\": \"white\", \"linecolor\": \"white\", \"ticks\": \"\", \"title\": {\"standoff\": 15}, \"zerolinecolor\": \"white\", \"zerolinewidth\": 2}}}, \"title\": {\"text\": \"Distribution for Dst_value\"}},\n",
              "                        {\"responsive\": true}\n",
              "                    ).then(function(){\n",
              "                            \n",
              "var gd = document.getElementById('b79a3f4c-fc4b-468c-babd-9cafa222d1b6');\n",
              "var x = new MutationObserver(function (mutations, observer) {{\n",
              "        var display = window.getComputedStyle(gd).display;\n",
              "        if (!display || display === 'none') {{\n",
              "            console.log([gd, 'removed!']);\n",
              "            Plotly.purge(gd);\n",
              "            observer.disconnect();\n",
              "        }}\n",
              "}});\n",
              "\n",
              "// Listen for the removal of the full notebook cells\n",
              "var notebookContainer = gd.closest('#notebook-container');\n",
              "if (notebookContainer) {{\n",
              "    x.observe(notebookContainer, {childList: true});\n",
              "}}\n",
              "\n",
              "// Listen for the clearing of the current output cell\n",
              "var outputEl = gd.closest('.output');\n",
              "if (outputEl) {{\n",
              "    x.observe(outputEl, {childList: true});\n",
              "}}\n",
              "\n",
              "                        })\n",
              "                };\n",
              "                \n",
              "            </script>\n",
              "        </div>\n",
              "</body>\n",
              "</html>"
            ]
          },
          "metadata": {}
        }
      ]
    },
    {
      "cell_type": "code",
      "metadata": {
        "id": "psrlLG8MEL_z"
      },
      "source": [
        "Class_A.Device_Src.unique()"
      ],
      "execution_count": null,
      "outputs": []
    },
    {
      "cell_type": "code",
      "metadata": {
        "colab": {
          "base_uri": "https://localhost:8080/"
        },
        "id": "X3Nw02bVJfUy",
        "outputId": "2897c592-063a-48a0-9e31-8193d4c68651"
      },
      "source": [
        "Class_A.sa.nunique()"
      ],
      "execution_count": null,
      "outputs": [
        {
          "output_type": "execute_result",
          "data": {
            "text/plain": [
              "41"
            ]
          },
          "metadata": {},
          "execution_count": 39
        }
      ]
    },
    {
      "cell_type": "code",
      "metadata": {
        "id": "wBwm3ow3mdz4"
      },
      "source": [
        "Class_A.Device_Src.value_counts()"
      ],
      "execution_count": null,
      "outputs": []
    },
    {
      "cell_type": "code",
      "metadata": {
        "id": "UqGxO6fgmd24"
      },
      "source": [
        "Class_A.Device_Dst.value_counts()"
      ],
      "execution_count": null,
      "outputs": []
    },
    {
      "cell_type": "code",
      "metadata": {
        "id": "82s0GEnsmd52"
      },
      "source": [
        "sankey.sankey(left=Class_A['Device_Src'], right=Class_A['Device_Dst'], aspect=20,fontsize=8)"
      ],
      "execution_count": null,
      "outputs": []
    },
    {
      "cell_type": "code",
      "metadata": {
        "colab": {
          "base_uri": "https://localhost:8080/",
          "height": 580
        },
        "id": "YoO4MLBvmd84",
        "outputId": "747ec08d-bb34-4e5b-8f3f-c8e5ab920d84"
      },
      "source": [
        "#Class B - source OR destination (ot both) in 44.149.43.128/26   (Site network of DB0PAS in HAMNETDB)\n",
        "Class_B = netflow[((netflow['sa'] > 4414943128) & (netflow['sa'] < 4414943192)) | ((netflow['da'] > 4414943128) & (netflow['da'] < 4414943192)) ]\n",
        "Class_B"
      ],
      "execution_count": null,
      "outputs": [
        {
          "output_type": "execute_result",
          "data": {
            "text/html": [
              "<div>\n",
              "<style scoped>\n",
              "    .dataframe tbody tr th:only-of-type {\n",
              "        vertical-align: middle;\n",
              "    }\n",
              "\n",
              "    .dataframe tbody tr th {\n",
              "        vertical-align: top;\n",
              "    }\n",
              "\n",
              "    .dataframe thead th {\n",
              "        text-align: right;\n",
              "    }\n",
              "</style>\n",
              "<table border=\"1\" class=\"dataframe\">\n",
              "  <thead>\n",
              "    <tr style=\"text-align: right;\">\n",
              "      <th></th>\n",
              "      <th>td</th>\n",
              "      <th>sa</th>\n",
              "      <th>da</th>\n",
              "      <th>sp</th>\n",
              "      <th>dp</th>\n",
              "      <th>pr</th>\n",
              "      <th>ipkt</th>\n",
              "      <th>ibyt</th>\n",
              "      <th>opkt</th>\n",
              "      <th>obyt</th>\n",
              "      <th>Src_value</th>\n",
              "      <th>Dst_value</th>\n",
              "      <th>Device_Src</th>\n",
              "      <th>Device_Dst</th>\n",
              "    </tr>\n",
              "  </thead>\n",
              "  <tbody>\n",
              "    <tr>\n",
              "      <th>10</th>\n",
              "      <td>4520.0</td>\n",
              "      <td>441322865</td>\n",
              "      <td>4414943132</td>\n",
              "      <td>4520.0</td>\n",
              "      <td>4520.0</td>\n",
              "      <td>UDP</td>\n",
              "      <td>1.0</td>\n",
              "      <td>36.0</td>\n",
              "      <td>0.0</td>\n",
              "      <td>0.0</td>\n",
              "      <td>Microsoft Silverlight Connectable ports under ...</td>\n",
              "      <td>Microsoft Silverlight Connectable ports under ...</td>\n",
              "      <td>Unknown_Device</td>\n",
              "      <td>Linux_Ubuntu/raspi.db0pas</td>\n",
              "    </tr>\n",
              "    <tr>\n",
              "      <th>11</th>\n",
              "      <td>4520.0</td>\n",
              "      <td>4414943132</td>\n",
              "      <td>441322865</td>\n",
              "      <td>4520.0</td>\n",
              "      <td>4520.0</td>\n",
              "      <td>UDP</td>\n",
              "      <td>1.0</td>\n",
              "      <td>36.0</td>\n",
              "      <td>0.0</td>\n",
              "      <td>0.0</td>\n",
              "      <td>Microsoft Silverlight Connectable ports under ...</td>\n",
              "      <td>Microsoft Silverlight Connectable ports under ...</td>\n",
              "      <td>Linux_Ubuntu/raspi.db0pas</td>\n",
              "      <td>Unknown_Device</td>\n",
              "    </tr>\n",
              "    <tr>\n",
              "      <th>18</th>\n",
              "      <td>4520.0</td>\n",
              "      <td>1372267998</td>\n",
              "      <td>4414943132</td>\n",
              "      <td>4520.0</td>\n",
              "      <td>4520.0</td>\n",
              "      <td>UDP</td>\n",
              "      <td>891.0</td>\n",
              "      <td>32076.0</td>\n",
              "      <td>0.0</td>\n",
              "      <td>0.0</td>\n",
              "      <td>Microsoft Silverlight Connectable ports under ...</td>\n",
              "      <td>Microsoft Silverlight Connectable ports under ...</td>\n",
              "      <td>Unknown_Device</td>\n",
              "      <td>Linux_Ubuntu/raspi.db0pas</td>\n",
              "    </tr>\n",
              "    <tr>\n",
              "      <th>19</th>\n",
              "      <td>4520.0</td>\n",
              "      <td>4414943132</td>\n",
              "      <td>1372267998</td>\n",
              "      <td>4520.0</td>\n",
              "      <td>4520.0</td>\n",
              "      <td>UDP</td>\n",
              "      <td>891.0</td>\n",
              "      <td>32076.0</td>\n",
              "      <td>0.0</td>\n",
              "      <td>0.0</td>\n",
              "      <td>Microsoft Silverlight Connectable ports under ...</td>\n",
              "      <td>Microsoft Silverlight Connectable ports under ...</td>\n",
              "      <td>Linux_Ubuntu/raspi.db0pas</td>\n",
              "      <td>Unknown_Device</td>\n",
              "    </tr>\n",
              "    <tr>\n",
              "      <th>20</th>\n",
              "      <td>14580.0</td>\n",
              "      <td>464193202</td>\n",
              "      <td>4414943134</td>\n",
              "      <td>14580.0</td>\n",
              "      <td>54578.0</td>\n",
              "      <td>TCP</td>\n",
              "      <td>26.0</td>\n",
              "      <td>3078.0</td>\n",
              "      <td>0.0</td>\n",
              "      <td>0.0</td>\n",
              "      <td>Unassigned</td>\n",
              "      <td>Unassigned</td>\n",
              "      <td>Unknown_Device</td>\n",
              "      <td>Linux_Raspbian_raspi2.db0pas</td>\n",
              "    </tr>\n",
              "    <tr>\n",
              "      <th>...</th>\n",
              "      <td>...</td>\n",
              "      <td>...</td>\n",
              "      <td>...</td>\n",
              "      <td>...</td>\n",
              "      <td>...</td>\n",
              "      <td>...</td>\n",
              "      <td>...</td>\n",
              "      <td>...</td>\n",
              "      <td>...</td>\n",
              "      <td>...</td>\n",
              "      <td>...</td>\n",
              "      <td>...</td>\n",
              "      <td>...</td>\n",
              "      <td>...</td>\n",
              "    </tr>\n",
              "    <tr>\n",
              "      <th>2839</th>\n",
              "      <td>5062.0</td>\n",
              "      <td>4414943203</td>\n",
              "      <td>4414943132</td>\n",
              "      <td>5062.0</td>\n",
              "      <td>5060.0</td>\n",
              "      <td>UDP</td>\n",
              "      <td>2.0</td>\n",
              "      <td>401.0</td>\n",
              "      <td>0.0</td>\n",
              "      <td>0.0</td>\n",
              "      <td>Localisation access</td>\n",
              "      <td>Session Initiation Protocol (SIP)</td>\n",
              "      <td>VOIP/ipphone-dl0pf.db0tvp</td>\n",
              "      <td>Linux_Ubuntu/raspi.db0pas</td>\n",
              "    </tr>\n",
              "    <tr>\n",
              "      <th>2844</th>\n",
              "      <td>5060.0</td>\n",
              "      <td>44143102147</td>\n",
              "      <td>4414943132</td>\n",
              "      <td>5060.0</td>\n",
              "      <td>5060.0</td>\n",
              "      <td>UDP</td>\n",
              "      <td>4.0</td>\n",
              "      <td>2450.0</td>\n",
              "      <td>0.0</td>\n",
              "      <td>0.0</td>\n",
              "      <td>Session Initiation Protocol (SIP)</td>\n",
              "      <td>Session Initiation Protocol (SIP)</td>\n",
              "      <td>Unknown_Device</td>\n",
              "      <td>Linux_Ubuntu/raspi.db0pas</td>\n",
              "    </tr>\n",
              "    <tr>\n",
              "      <th>2845</th>\n",
              "      <td>5060.0</td>\n",
              "      <td>4414943132</td>\n",
              "      <td>44143102147</td>\n",
              "      <td>5060.0</td>\n",
              "      <td>5060.0</td>\n",
              "      <td>UDP</td>\n",
              "      <td>4.0</td>\n",
              "      <td>2328.0</td>\n",
              "      <td>0.0</td>\n",
              "      <td>0.0</td>\n",
              "      <td>Session Initiation Protocol (SIP)</td>\n",
              "      <td>Session Initiation Protocol (SIP)</td>\n",
              "      <td>Linux_Ubuntu/raspi.db0pas</td>\n",
              "      <td>Unknown_Device</td>\n",
              "    </tr>\n",
              "    <tr>\n",
              "      <th>2846</th>\n",
              "      <td>4520.0</td>\n",
              "      <td>441322865</td>\n",
              "      <td>4414943132</td>\n",
              "      <td>4520.0</td>\n",
              "      <td>4520.0</td>\n",
              "      <td>UDP</td>\n",
              "      <td>1.0</td>\n",
              "      <td>36.0</td>\n",
              "      <td>0.0</td>\n",
              "      <td>0.0</td>\n",
              "      <td>Microsoft Silverlight Connectable ports under ...</td>\n",
              "      <td>Microsoft Silverlight Connectable ports under ...</td>\n",
              "      <td>Unknown_Device</td>\n",
              "      <td>Linux_Ubuntu/raspi.db0pas</td>\n",
              "    </tr>\n",
              "    <tr>\n",
              "      <th>2847</th>\n",
              "      <td>4520.0</td>\n",
              "      <td>4414943132</td>\n",
              "      <td>441322865</td>\n",
              "      <td>4520.0</td>\n",
              "      <td>4520.0</td>\n",
              "      <td>UDP</td>\n",
              "      <td>1.0</td>\n",
              "      <td>36.0</td>\n",
              "      <td>0.0</td>\n",
              "      <td>0.0</td>\n",
              "      <td>Microsoft Silverlight Connectable ports under ...</td>\n",
              "      <td>Microsoft Silverlight Connectable ports under ...</td>\n",
              "      <td>Linux_Ubuntu/raspi.db0pas</td>\n",
              "      <td>Unknown_Device</td>\n",
              "    </tr>\n",
              "  </tbody>\n",
              "</table>\n",
              "<p>443 rows × 14 columns</p>\n",
              "</div>"
            ],
            "text/plain": [
              "           td  ...                    Device_Dst\n",
              "10     4520.0  ...     Linux_Ubuntu/raspi.db0pas\n",
              "11     4520.0  ...                Unknown_Device\n",
              "18     4520.0  ...     Linux_Ubuntu/raspi.db0pas\n",
              "19     4520.0  ...                Unknown_Device\n",
              "20    14580.0  ...  Linux_Raspbian_raspi2.db0pas\n",
              "...       ...  ...                           ...\n",
              "2839   5062.0  ...     Linux_Ubuntu/raspi.db0pas\n",
              "2844   5060.0  ...     Linux_Ubuntu/raspi.db0pas\n",
              "2845   5060.0  ...                Unknown_Device\n",
              "2846   4520.0  ...     Linux_Ubuntu/raspi.db0pas\n",
              "2847   4520.0  ...                Unknown_Device\n",
              "\n",
              "[443 rows x 14 columns]"
            ]
          },
          "metadata": {},
          "execution_count": 43
        }
      ]
    },
    {
      "cell_type": "code",
      "metadata": {
        "colab": {
          "base_uri": "https://localhost:8080/"
        },
        "id": "pXQqeS9wmeAD",
        "outputId": "aad231da-a923-46e1-f8b1-4ccb5e5444c0"
      },
      "source": [
        "Class_B.shape"
      ],
      "execution_count": null,
      "outputs": [
        {
          "output_type": "execute_result",
          "data": {
            "text/plain": [
              "(443, 14)"
            ]
          },
          "metadata": {},
          "execution_count": 44
        }
      ]
    },
    {
      "cell_type": "code",
      "metadata": {
        "colab": {
          "base_uri": "https://localhost:8080/",
          "height": 542
        },
        "id": "TxFc3i0CmeC6",
        "outputId": "67f1ecb2-ccf3-4819-ff39-5261f6458217"
      },
      "source": [
        "plot_distribution(Class_B['Device_Src'])"
      ],
      "execution_count": null,
      "outputs": [
        {
          "output_type": "display_data",
          "data": {
            "text/html": [
              "<html>\n",
              "<head><meta charset=\"utf-8\" /></head>\n",
              "<body>\n",
              "    <div>\n",
              "            <script src=\"https://cdnjs.cloudflare.com/ajax/libs/mathjax/2.7.5/MathJax.js?config=TeX-AMS-MML_SVG\"></script><script type=\"text/javascript\">if (window.MathJax) {MathJax.Hub.Config({SVG: {font: \"STIX-Web\"}});}</script>\n",
              "                <script type=\"text/javascript\">window.PlotlyConfig = {MathJaxConfig: 'local'};</script>\n",
              "        <script src=\"https://cdn.plot.ly/plotly-latest.min.js\"></script>    \n",
              "            <div id=\"8be4ecd0-faa2-47c5-8c39-0d96936054b5\" class=\"plotly-graph-div\" style=\"height:525px; width:100%;\"></div>\n",
              "            <script type=\"text/javascript\">\n",
              "                \n",
              "                    window.PLOTLYENV=window.PLOTLYENV || {};\n",
              "                    \n",
              "                if (document.getElementById(\"8be4ecd0-faa2-47c5-8c39-0d96936054b5\")) {\n",
              "                    Plotly.newPlot(\n",
              "                        '8be4ecd0-faa2-47c5-8c39-0d96936054b5',\n",
              "                        [{\"hole\": 0.3, \"labels\": [\"Linux_Ubuntu/raspi.db0pas\", \"vm3.db0hup\", \"Internal Device\", \"Unknown_Device\", \"Mikrotik_Router_powerbox.db0pas\", \"VOIP/ipphone-dl0pf.db0tvp\", \"Linux_Raspbian_raspi2.db0pas\", \"user5g.db0pas\", \"vm2.db0hup\", \"user.db0pas\", \"Mikrotik_router-user.db0pas\", \"db0oha\", \"yo2tm\", \"Linux_Ubuntu\", \"sip.db0alg\", \"sip.db0luh\", \"web.oe2xzr\", \"db0for\", \"db0zrb\", \"sip.db0ko\", \"router.db0hup\", \"t2ka-aprs.dm8bs\", \"Mikrotik_BGP_router.db0pas\", \"monitoring\", \"hamnetdb\", \"Router_db0pas\"], \"type\": \"pie\", \"values\": [110, 56, 53, 44, 24, 20, 18, 16, 12, 12, 11, 8, 8, 7, 5, 5, 5, 5, 5, 5, 4, 4, 3, 1, 1, 1]}],\n",
              "                        {\"template\": {\"data\": {\"bar\": [{\"error_x\": {\"color\": \"#2a3f5f\"}, \"error_y\": {\"color\": \"#2a3f5f\"}, \"marker\": {\"line\": {\"color\": \"#E5ECF6\", \"width\": 0.5}}, \"type\": \"bar\"}], \"barpolar\": [{\"marker\": {\"line\": {\"color\": \"#E5ECF6\", \"width\": 0.5}}, \"type\": \"barpolar\"}], \"carpet\": [{\"aaxis\": {\"endlinecolor\": \"#2a3f5f\", \"gridcolor\": \"white\", \"linecolor\": \"white\", \"minorgridcolor\": \"white\", \"startlinecolor\": \"#2a3f5f\"}, \"baxis\": {\"endlinecolor\": \"#2a3f5f\", \"gridcolor\": \"white\", \"linecolor\": \"white\", \"minorgridcolor\": \"white\", \"startlinecolor\": \"#2a3f5f\"}, \"type\": \"carpet\"}], \"choropleth\": [{\"colorbar\": {\"outlinewidth\": 0, \"ticks\": \"\"}, \"type\": \"choropleth\"}], \"contour\": [{\"colorbar\": {\"outlinewidth\": 0, \"ticks\": \"\"}, \"colorscale\": [[0.0, \"#0d0887\"], [0.1111111111111111, \"#46039f\"], [0.2222222222222222, \"#7201a8\"], [0.3333333333333333, \"#9c179e\"], [0.4444444444444444, \"#bd3786\"], [0.5555555555555556, \"#d8576b\"], [0.6666666666666666, \"#ed7953\"], [0.7777777777777778, \"#fb9f3a\"], [0.8888888888888888, \"#fdca26\"], [1.0, \"#f0f921\"]], \"type\": \"contour\"}], \"contourcarpet\": [{\"colorbar\": {\"outlinewidth\": 0, \"ticks\": \"\"}, \"type\": \"contourcarpet\"}], \"heatmap\": [{\"colorbar\": {\"outlinewidth\": 0, \"ticks\": \"\"}, \"colorscale\": [[0.0, \"#0d0887\"], [0.1111111111111111, \"#46039f\"], [0.2222222222222222, \"#7201a8\"], [0.3333333333333333, \"#9c179e\"], [0.4444444444444444, \"#bd3786\"], [0.5555555555555556, \"#d8576b\"], [0.6666666666666666, \"#ed7953\"], [0.7777777777777778, \"#fb9f3a\"], [0.8888888888888888, \"#fdca26\"], [1.0, \"#f0f921\"]], \"type\": \"heatmap\"}], \"heatmapgl\": [{\"colorbar\": {\"outlinewidth\": 0, \"ticks\": \"\"}, \"colorscale\": [[0.0, \"#0d0887\"], [0.1111111111111111, \"#46039f\"], [0.2222222222222222, \"#7201a8\"], [0.3333333333333333, \"#9c179e\"], [0.4444444444444444, \"#bd3786\"], [0.5555555555555556, \"#d8576b\"], [0.6666666666666666, \"#ed7953\"], [0.7777777777777778, \"#fb9f3a\"], [0.8888888888888888, \"#fdca26\"], [1.0, \"#f0f921\"]], \"type\": \"heatmapgl\"}], \"histogram\": [{\"marker\": {\"colorbar\": {\"outlinewidth\": 0, \"ticks\": \"\"}}, \"type\": \"histogram\"}], \"histogram2d\": [{\"colorbar\": {\"outlinewidth\": 0, \"ticks\": \"\"}, \"colorscale\": [[0.0, \"#0d0887\"], [0.1111111111111111, \"#46039f\"], [0.2222222222222222, \"#7201a8\"], [0.3333333333333333, \"#9c179e\"], [0.4444444444444444, \"#bd3786\"], [0.5555555555555556, \"#d8576b\"], [0.6666666666666666, \"#ed7953\"], [0.7777777777777778, \"#fb9f3a\"], [0.8888888888888888, \"#fdca26\"], [1.0, \"#f0f921\"]], \"type\": \"histogram2d\"}], \"histogram2dcontour\": [{\"colorbar\": {\"outlinewidth\": 0, \"ticks\": \"\"}, \"colorscale\": [[0.0, \"#0d0887\"], [0.1111111111111111, \"#46039f\"], [0.2222222222222222, \"#7201a8\"], [0.3333333333333333, \"#9c179e\"], [0.4444444444444444, \"#bd3786\"], [0.5555555555555556, \"#d8576b\"], [0.6666666666666666, \"#ed7953\"], [0.7777777777777778, \"#fb9f3a\"], [0.8888888888888888, \"#fdca26\"], [1.0, \"#f0f921\"]], \"type\": \"histogram2dcontour\"}], \"mesh3d\": [{\"colorbar\": {\"outlinewidth\": 0, \"ticks\": \"\"}, \"type\": \"mesh3d\"}], \"parcoords\": [{\"line\": {\"colorbar\": {\"outlinewidth\": 0, \"ticks\": \"\"}}, \"type\": \"parcoords\"}], \"pie\": [{\"automargin\": true, \"type\": \"pie\"}], \"scatter\": [{\"marker\": {\"colorbar\": {\"outlinewidth\": 0, \"ticks\": \"\"}}, \"type\": \"scatter\"}], \"scatter3d\": [{\"line\": {\"colorbar\": {\"outlinewidth\": 0, \"ticks\": \"\"}}, \"marker\": {\"colorbar\": {\"outlinewidth\": 0, \"ticks\": \"\"}}, \"type\": \"scatter3d\"}], \"scattercarpet\": [{\"marker\": {\"colorbar\": {\"outlinewidth\": 0, \"ticks\": \"\"}}, \"type\": \"scattercarpet\"}], \"scattergeo\": [{\"marker\": {\"colorbar\": {\"outlinewidth\": 0, \"ticks\": \"\"}}, \"type\": \"scattergeo\"}], \"scattergl\": [{\"marker\": {\"colorbar\": {\"outlinewidth\": 0, \"ticks\": \"\"}}, \"type\": \"scattergl\"}], \"scattermapbox\": [{\"marker\": {\"colorbar\": {\"outlinewidth\": 0, \"ticks\": \"\"}}, \"type\": \"scattermapbox\"}], \"scatterpolar\": [{\"marker\": {\"colorbar\": {\"outlinewidth\": 0, \"ticks\": \"\"}}, \"type\": \"scatterpolar\"}], \"scatterpolargl\": [{\"marker\": {\"colorbar\": {\"outlinewidth\": 0, \"ticks\": \"\"}}, \"type\": \"scatterpolargl\"}], \"scatterternary\": [{\"marker\": {\"colorbar\": {\"outlinewidth\": 0, \"ticks\": \"\"}}, \"type\": \"scatterternary\"}], \"surface\": [{\"colorbar\": {\"outlinewidth\": 0, \"ticks\": \"\"}, \"colorscale\": [[0.0, \"#0d0887\"], [0.1111111111111111, \"#46039f\"], [0.2222222222222222, \"#7201a8\"], [0.3333333333333333, \"#9c179e\"], [0.4444444444444444, \"#bd3786\"], [0.5555555555555556, \"#d8576b\"], [0.6666666666666666, \"#ed7953\"], [0.7777777777777778, \"#fb9f3a\"], [0.8888888888888888, \"#fdca26\"], [1.0, \"#f0f921\"]], \"type\": \"surface\"}], \"table\": [{\"cells\": {\"fill\": {\"color\": \"#EBF0F8\"}, \"line\": {\"color\": \"white\"}}, \"header\": {\"fill\": {\"color\": \"#C8D4E3\"}, \"line\": {\"color\": \"white\"}}, \"type\": \"table\"}]}, \"layout\": {\"annotationdefaults\": {\"arrowcolor\": \"#2a3f5f\", \"arrowhead\": 0, \"arrowwidth\": 1}, \"coloraxis\": {\"colorbar\": {\"outlinewidth\": 0, \"ticks\": \"\"}}, \"colorscale\": {\"diverging\": [[0, \"#8e0152\"], [0.1, \"#c51b7d\"], [0.2, \"#de77ae\"], [0.3, \"#f1b6da\"], [0.4, \"#fde0ef\"], [0.5, \"#f7f7f7\"], [0.6, \"#e6f5d0\"], [0.7, \"#b8e186\"], [0.8, \"#7fbc41\"], [0.9, \"#4d9221\"], [1, \"#276419\"]], \"sequential\": [[0.0, \"#0d0887\"], [0.1111111111111111, \"#46039f\"], [0.2222222222222222, \"#7201a8\"], [0.3333333333333333, \"#9c179e\"], [0.4444444444444444, \"#bd3786\"], [0.5555555555555556, \"#d8576b\"], [0.6666666666666666, \"#ed7953\"], [0.7777777777777778, \"#fb9f3a\"], [0.8888888888888888, \"#fdca26\"], [1.0, \"#f0f921\"]], \"sequentialminus\": [[0.0, \"#0d0887\"], [0.1111111111111111, \"#46039f\"], [0.2222222222222222, \"#7201a8\"], [0.3333333333333333, \"#9c179e\"], [0.4444444444444444, \"#bd3786\"], [0.5555555555555556, \"#d8576b\"], [0.6666666666666666, \"#ed7953\"], [0.7777777777777778, \"#fb9f3a\"], [0.8888888888888888, \"#fdca26\"], [1.0, \"#f0f921\"]]}, \"colorway\": [\"#636efa\", \"#EF553B\", \"#00cc96\", \"#ab63fa\", \"#FFA15A\", \"#19d3f3\", \"#FF6692\", \"#B6E880\", \"#FF97FF\", \"#FECB52\"], \"font\": {\"color\": \"#2a3f5f\"}, \"geo\": {\"bgcolor\": \"white\", \"lakecolor\": \"white\", \"landcolor\": \"#E5ECF6\", \"showlakes\": true, \"showland\": true, \"subunitcolor\": \"white\"}, \"hoverlabel\": {\"align\": \"left\"}, \"hovermode\": \"closest\", \"mapbox\": {\"style\": \"light\"}, \"paper_bgcolor\": \"white\", \"plot_bgcolor\": \"#E5ECF6\", \"polar\": {\"angularaxis\": {\"gridcolor\": \"white\", \"linecolor\": \"white\", \"ticks\": \"\"}, \"bgcolor\": \"#E5ECF6\", \"radialaxis\": {\"gridcolor\": \"white\", \"linecolor\": \"white\", \"ticks\": \"\"}}, \"scene\": {\"xaxis\": {\"backgroundcolor\": \"#E5ECF6\", \"gridcolor\": \"white\", \"gridwidth\": 2, \"linecolor\": \"white\", \"showbackground\": true, \"ticks\": \"\", \"zerolinecolor\": \"white\"}, \"yaxis\": {\"backgroundcolor\": \"#E5ECF6\", \"gridcolor\": \"white\", \"gridwidth\": 2, \"linecolor\": \"white\", \"showbackground\": true, \"ticks\": \"\", \"zerolinecolor\": \"white\"}, \"zaxis\": {\"backgroundcolor\": \"#E5ECF6\", \"gridcolor\": \"white\", \"gridwidth\": 2, \"linecolor\": \"white\", \"showbackground\": true, \"ticks\": \"\", \"zerolinecolor\": \"white\"}}, \"shapedefaults\": {\"line\": {\"color\": \"#2a3f5f\"}}, \"ternary\": {\"aaxis\": {\"gridcolor\": \"white\", \"linecolor\": \"white\", \"ticks\": \"\"}, \"baxis\": {\"gridcolor\": \"white\", \"linecolor\": \"white\", \"ticks\": \"\"}, \"bgcolor\": \"#E5ECF6\", \"caxis\": {\"gridcolor\": \"white\", \"linecolor\": \"white\", \"ticks\": \"\"}}, \"title\": {\"x\": 0.05}, \"xaxis\": {\"automargin\": true, \"gridcolor\": \"white\", \"linecolor\": \"white\", \"ticks\": \"\", \"title\": {\"standoff\": 15}, \"zerolinecolor\": \"white\", \"zerolinewidth\": 2}, \"yaxis\": {\"automargin\": true, \"gridcolor\": \"white\", \"linecolor\": \"white\", \"ticks\": \"\", \"title\": {\"standoff\": 15}, \"zerolinecolor\": \"white\", \"zerolinewidth\": 2}}}, \"title\": {\"text\": \"Distribution for Device_Src\"}},\n",
              "                        {\"responsive\": true}\n",
              "                    ).then(function(){\n",
              "                            \n",
              "var gd = document.getElementById('8be4ecd0-faa2-47c5-8c39-0d96936054b5');\n",
              "var x = new MutationObserver(function (mutations, observer) {{\n",
              "        var display = window.getComputedStyle(gd).display;\n",
              "        if (!display || display === 'none') {{\n",
              "            console.log([gd, 'removed!']);\n",
              "            Plotly.purge(gd);\n",
              "            observer.disconnect();\n",
              "        }}\n",
              "}});\n",
              "\n",
              "// Listen for the removal of the full notebook cells\n",
              "var notebookContainer = gd.closest('#notebook-container');\n",
              "if (notebookContainer) {{\n",
              "    x.observe(notebookContainer, {childList: true});\n",
              "}}\n",
              "\n",
              "// Listen for the clearing of the current output cell\n",
              "var outputEl = gd.closest('.output');\n",
              "if (outputEl) {{\n",
              "    x.observe(outputEl, {childList: true});\n",
              "}}\n",
              "\n",
              "                        })\n",
              "                };\n",
              "                \n",
              "            </script>\n",
              "        </div>\n",
              "</body>\n",
              "</html>"
            ]
          },
          "metadata": {}
        }
      ]
    },
    {
      "cell_type": "code",
      "metadata": {
        "colab": {
          "base_uri": "https://localhost:8080/",
          "height": 542
        },
        "id": "8oGzkcqvmeGA",
        "outputId": "874692fc-1cb6-4ccf-fec5-5b756842e4cd"
      },
      "source": [
        "plot_distribution(Class_B['Device_Dst'])"
      ],
      "execution_count": null,
      "outputs": [
        {
          "output_type": "display_data",
          "data": {
            "text/html": [
              "<html>\n",
              "<head><meta charset=\"utf-8\" /></head>\n",
              "<body>\n",
              "    <div>\n",
              "            <script src=\"https://cdnjs.cloudflare.com/ajax/libs/mathjax/2.7.5/MathJax.js?config=TeX-AMS-MML_SVG\"></script><script type=\"text/javascript\">if (window.MathJax) {MathJax.Hub.Config({SVG: {font: \"STIX-Web\"}});}</script>\n",
              "                <script type=\"text/javascript\">window.PlotlyConfig = {MathJaxConfig: 'local'};</script>\n",
              "        <script src=\"https://cdn.plot.ly/plotly-latest.min.js\"></script>    \n",
              "            <div id=\"fcda991e-5d62-49bc-ade7-56a88e61fdaf\" class=\"plotly-graph-div\" style=\"height:525px; width:100%;\"></div>\n",
              "            <script type=\"text/javascript\">\n",
              "                \n",
              "                    window.PLOTLYENV=window.PLOTLYENV || {};\n",
              "                    \n",
              "                if (document.getElementById(\"fcda991e-5d62-49bc-ade7-56a88e61fdaf\")) {\n",
              "                    Plotly.newPlot(\n",
              "                        'fcda991e-5d62-49bc-ade7-56a88e61fdaf',\n",
              "                        [{\"hole\": 0.3, \"labels\": [\"Linux_Ubuntu/raspi.db0pas\", \"Unknown_Device\", \"vm3.db0hup\", \"Broadcast\", \"Internal Device\", \"vm2.db0hup\", \"VOIP/ipphone-dl0pf.db0tvp\", \"Linux_Raspbian_raspi2.db0pas\", \"yo2tm\", \"Mikrotik_Router_powerbox.db0pas\", \"user5g.db0pas\", \"t2ka-aprs.dm8bs\", \"user.db0pas\", \"db0oha\", \"Mikrotik_BGP_router.db0pas\", \"Mikrotik_router-user.db0pas\", \"Linux_Ubuntu\", \"sip.db0luh\", \"sip.db0alg\", \"db0for\", \"web.oe2xzr\", \"db0zrb\", \"sip.db0ko\", \"router.db0hup\", \"Router_db0pas\", \"monitoring\", \"hamnetdb\"], \"type\": \"pie\", \"values\": [109, 66, 56, 35, 28, 14, 12, 11, 10, 10, 9, 8, 7, 7, 7, 7, 7, 5, 5, 5, 5, 5, 5, 4, 4, 1, 1]}],\n",
              "                        {\"template\": {\"data\": {\"bar\": [{\"error_x\": {\"color\": \"#2a3f5f\"}, \"error_y\": {\"color\": \"#2a3f5f\"}, \"marker\": {\"line\": {\"color\": \"#E5ECF6\", \"width\": 0.5}}, \"type\": \"bar\"}], \"barpolar\": [{\"marker\": {\"line\": {\"color\": \"#E5ECF6\", \"width\": 0.5}}, \"type\": \"barpolar\"}], \"carpet\": [{\"aaxis\": {\"endlinecolor\": \"#2a3f5f\", \"gridcolor\": \"white\", \"linecolor\": \"white\", \"minorgridcolor\": \"white\", \"startlinecolor\": \"#2a3f5f\"}, \"baxis\": {\"endlinecolor\": \"#2a3f5f\", \"gridcolor\": \"white\", \"linecolor\": \"white\", \"minorgridcolor\": \"white\", \"startlinecolor\": \"#2a3f5f\"}, \"type\": \"carpet\"}], \"choropleth\": [{\"colorbar\": {\"outlinewidth\": 0, \"ticks\": \"\"}, \"type\": \"choropleth\"}], \"contour\": [{\"colorbar\": {\"outlinewidth\": 0, \"ticks\": \"\"}, \"colorscale\": [[0.0, \"#0d0887\"], [0.1111111111111111, \"#46039f\"], [0.2222222222222222, \"#7201a8\"], [0.3333333333333333, \"#9c179e\"], [0.4444444444444444, \"#bd3786\"], [0.5555555555555556, \"#d8576b\"], [0.6666666666666666, \"#ed7953\"], [0.7777777777777778, \"#fb9f3a\"], [0.8888888888888888, \"#fdca26\"], [1.0, \"#f0f921\"]], \"type\": \"contour\"}], \"contourcarpet\": [{\"colorbar\": {\"outlinewidth\": 0, \"ticks\": \"\"}, \"type\": \"contourcarpet\"}], \"heatmap\": [{\"colorbar\": {\"outlinewidth\": 0, \"ticks\": \"\"}, \"colorscale\": [[0.0, \"#0d0887\"], [0.1111111111111111, \"#46039f\"], [0.2222222222222222, \"#7201a8\"], [0.3333333333333333, \"#9c179e\"], [0.4444444444444444, \"#bd3786\"], [0.5555555555555556, \"#d8576b\"], [0.6666666666666666, \"#ed7953\"], [0.7777777777777778, \"#fb9f3a\"], [0.8888888888888888, \"#fdca26\"], [1.0, \"#f0f921\"]], \"type\": \"heatmap\"}], \"heatmapgl\": [{\"colorbar\": {\"outlinewidth\": 0, \"ticks\": \"\"}, \"colorscale\": [[0.0, \"#0d0887\"], [0.1111111111111111, \"#46039f\"], [0.2222222222222222, \"#7201a8\"], [0.3333333333333333, \"#9c179e\"], [0.4444444444444444, \"#bd3786\"], [0.5555555555555556, \"#d8576b\"], [0.6666666666666666, \"#ed7953\"], [0.7777777777777778, \"#fb9f3a\"], [0.8888888888888888, \"#fdca26\"], [1.0, \"#f0f921\"]], \"type\": \"heatmapgl\"}], \"histogram\": [{\"marker\": {\"colorbar\": {\"outlinewidth\": 0, \"ticks\": \"\"}}, \"type\": \"histogram\"}], \"histogram2d\": [{\"colorbar\": {\"outlinewidth\": 0, \"ticks\": \"\"}, \"colorscale\": [[0.0, \"#0d0887\"], [0.1111111111111111, \"#46039f\"], [0.2222222222222222, \"#7201a8\"], [0.3333333333333333, \"#9c179e\"], [0.4444444444444444, \"#bd3786\"], [0.5555555555555556, \"#d8576b\"], [0.6666666666666666, \"#ed7953\"], [0.7777777777777778, \"#fb9f3a\"], [0.8888888888888888, \"#fdca26\"], [1.0, \"#f0f921\"]], \"type\": \"histogram2d\"}], \"histogram2dcontour\": [{\"colorbar\": {\"outlinewidth\": 0, \"ticks\": \"\"}, \"colorscale\": [[0.0, \"#0d0887\"], [0.1111111111111111, \"#46039f\"], [0.2222222222222222, \"#7201a8\"], [0.3333333333333333, \"#9c179e\"], [0.4444444444444444, \"#bd3786\"], [0.5555555555555556, \"#d8576b\"], [0.6666666666666666, \"#ed7953\"], [0.7777777777777778, \"#fb9f3a\"], [0.8888888888888888, \"#fdca26\"], [1.0, \"#f0f921\"]], \"type\": \"histogram2dcontour\"}], \"mesh3d\": [{\"colorbar\": {\"outlinewidth\": 0, \"ticks\": \"\"}, \"type\": \"mesh3d\"}], \"parcoords\": [{\"line\": {\"colorbar\": {\"outlinewidth\": 0, \"ticks\": \"\"}}, \"type\": \"parcoords\"}], \"pie\": [{\"automargin\": true, \"type\": \"pie\"}], \"scatter\": [{\"marker\": {\"colorbar\": {\"outlinewidth\": 0, \"ticks\": \"\"}}, \"type\": \"scatter\"}], \"scatter3d\": [{\"line\": {\"colorbar\": {\"outlinewidth\": 0, \"ticks\": \"\"}}, \"marker\": {\"colorbar\": {\"outlinewidth\": 0, \"ticks\": \"\"}}, \"type\": \"scatter3d\"}], \"scattercarpet\": [{\"marker\": {\"colorbar\": {\"outlinewidth\": 0, \"ticks\": \"\"}}, \"type\": \"scattercarpet\"}], \"scattergeo\": [{\"marker\": {\"colorbar\": {\"outlinewidth\": 0, \"ticks\": \"\"}}, \"type\": \"scattergeo\"}], \"scattergl\": [{\"marker\": {\"colorbar\": {\"outlinewidth\": 0, \"ticks\": \"\"}}, \"type\": \"scattergl\"}], \"scattermapbox\": [{\"marker\": {\"colorbar\": {\"outlinewidth\": 0, \"ticks\": \"\"}}, \"type\": \"scattermapbox\"}], \"scatterpolar\": [{\"marker\": {\"colorbar\": {\"outlinewidth\": 0, \"ticks\": \"\"}}, \"type\": \"scatterpolar\"}], \"scatterpolargl\": [{\"marker\": {\"colorbar\": {\"outlinewidth\": 0, \"ticks\": \"\"}}, \"type\": \"scatterpolargl\"}], \"scatterternary\": [{\"marker\": {\"colorbar\": {\"outlinewidth\": 0, \"ticks\": \"\"}}, \"type\": \"scatterternary\"}], \"surface\": [{\"colorbar\": {\"outlinewidth\": 0, \"ticks\": \"\"}, \"colorscale\": [[0.0, \"#0d0887\"], [0.1111111111111111, \"#46039f\"], [0.2222222222222222, \"#7201a8\"], [0.3333333333333333, \"#9c179e\"], [0.4444444444444444, \"#bd3786\"], [0.5555555555555556, \"#d8576b\"], [0.6666666666666666, \"#ed7953\"], [0.7777777777777778, \"#fb9f3a\"], [0.8888888888888888, \"#fdca26\"], [1.0, \"#f0f921\"]], \"type\": \"surface\"}], \"table\": [{\"cells\": {\"fill\": {\"color\": \"#EBF0F8\"}, \"line\": {\"color\": \"white\"}}, \"header\": {\"fill\": {\"color\": \"#C8D4E3\"}, \"line\": {\"color\": \"white\"}}, \"type\": \"table\"}]}, \"layout\": {\"annotationdefaults\": {\"arrowcolor\": \"#2a3f5f\", \"arrowhead\": 0, \"arrowwidth\": 1}, \"coloraxis\": {\"colorbar\": {\"outlinewidth\": 0, \"ticks\": \"\"}}, \"colorscale\": {\"diverging\": [[0, \"#8e0152\"], [0.1, \"#c51b7d\"], [0.2, \"#de77ae\"], [0.3, \"#f1b6da\"], [0.4, \"#fde0ef\"], [0.5, \"#f7f7f7\"], [0.6, \"#e6f5d0\"], [0.7, \"#b8e186\"], [0.8, \"#7fbc41\"], [0.9, \"#4d9221\"], [1, \"#276419\"]], \"sequential\": [[0.0, \"#0d0887\"], [0.1111111111111111, \"#46039f\"], [0.2222222222222222, \"#7201a8\"], [0.3333333333333333, \"#9c179e\"], [0.4444444444444444, \"#bd3786\"], [0.5555555555555556, \"#d8576b\"], [0.6666666666666666, \"#ed7953\"], [0.7777777777777778, \"#fb9f3a\"], [0.8888888888888888, \"#fdca26\"], [1.0, \"#f0f921\"]], \"sequentialminus\": [[0.0, \"#0d0887\"], [0.1111111111111111, \"#46039f\"], [0.2222222222222222, \"#7201a8\"], [0.3333333333333333, \"#9c179e\"], [0.4444444444444444, \"#bd3786\"], [0.5555555555555556, \"#d8576b\"], [0.6666666666666666, \"#ed7953\"], [0.7777777777777778, \"#fb9f3a\"], [0.8888888888888888, \"#fdca26\"], [1.0, \"#f0f921\"]]}, \"colorway\": [\"#636efa\", \"#EF553B\", \"#00cc96\", \"#ab63fa\", \"#FFA15A\", \"#19d3f3\", \"#FF6692\", \"#B6E880\", \"#FF97FF\", \"#FECB52\"], \"font\": {\"color\": \"#2a3f5f\"}, \"geo\": {\"bgcolor\": \"white\", \"lakecolor\": \"white\", \"landcolor\": \"#E5ECF6\", \"showlakes\": true, \"showland\": true, \"subunitcolor\": \"white\"}, \"hoverlabel\": {\"align\": \"left\"}, \"hovermode\": \"closest\", \"mapbox\": {\"style\": \"light\"}, \"paper_bgcolor\": \"white\", \"plot_bgcolor\": \"#E5ECF6\", \"polar\": {\"angularaxis\": {\"gridcolor\": \"white\", \"linecolor\": \"white\", \"ticks\": \"\"}, \"bgcolor\": \"#E5ECF6\", \"radialaxis\": {\"gridcolor\": \"white\", \"linecolor\": \"white\", \"ticks\": \"\"}}, \"scene\": {\"xaxis\": {\"backgroundcolor\": \"#E5ECF6\", \"gridcolor\": \"white\", \"gridwidth\": 2, \"linecolor\": \"white\", \"showbackground\": true, \"ticks\": \"\", \"zerolinecolor\": \"white\"}, \"yaxis\": {\"backgroundcolor\": \"#E5ECF6\", \"gridcolor\": \"white\", \"gridwidth\": 2, \"linecolor\": \"white\", \"showbackground\": true, \"ticks\": \"\", \"zerolinecolor\": \"white\"}, \"zaxis\": {\"backgroundcolor\": \"#E5ECF6\", \"gridcolor\": \"white\", \"gridwidth\": 2, \"linecolor\": \"white\", \"showbackground\": true, \"ticks\": \"\", \"zerolinecolor\": \"white\"}}, \"shapedefaults\": {\"line\": {\"color\": \"#2a3f5f\"}}, \"ternary\": {\"aaxis\": {\"gridcolor\": \"white\", \"linecolor\": \"white\", \"ticks\": \"\"}, \"baxis\": {\"gridcolor\": \"white\", \"linecolor\": \"white\", \"ticks\": \"\"}, \"bgcolor\": \"#E5ECF6\", \"caxis\": {\"gridcolor\": \"white\", \"linecolor\": \"white\", \"ticks\": \"\"}}, \"title\": {\"x\": 0.05}, \"xaxis\": {\"automargin\": true, \"gridcolor\": \"white\", \"linecolor\": \"white\", \"ticks\": \"\", \"title\": {\"standoff\": 15}, \"zerolinecolor\": \"white\", \"zerolinewidth\": 2}, \"yaxis\": {\"automargin\": true, \"gridcolor\": \"white\", \"linecolor\": \"white\", \"ticks\": \"\", \"title\": {\"standoff\": 15}, \"zerolinecolor\": \"white\", \"zerolinewidth\": 2}}}, \"title\": {\"text\": \"Distribution for Device_Dst\"}},\n",
              "                        {\"responsive\": true}\n",
              "                    ).then(function(){\n",
              "                            \n",
              "var gd = document.getElementById('fcda991e-5d62-49bc-ade7-56a88e61fdaf');\n",
              "var x = new MutationObserver(function (mutations, observer) {{\n",
              "        var display = window.getComputedStyle(gd).display;\n",
              "        if (!display || display === 'none') {{\n",
              "            console.log([gd, 'removed!']);\n",
              "            Plotly.purge(gd);\n",
              "            observer.disconnect();\n",
              "        }}\n",
              "}});\n",
              "\n",
              "// Listen for the removal of the full notebook cells\n",
              "var notebookContainer = gd.closest('#notebook-container');\n",
              "if (notebookContainer) {{\n",
              "    x.observe(notebookContainer, {childList: true});\n",
              "}}\n",
              "\n",
              "// Listen for the clearing of the current output cell\n",
              "var outputEl = gd.closest('.output');\n",
              "if (outputEl) {{\n",
              "    x.observe(outputEl, {childList: true});\n",
              "}}\n",
              "\n",
              "                        })\n",
              "                };\n",
              "                \n",
              "            </script>\n",
              "        </div>\n",
              "</body>\n",
              "</html>"
            ]
          },
          "metadata": {}
        }
      ]
    },
    {
      "cell_type": "code",
      "metadata": {
        "id": "Nuq7T0SEmeJH"
      },
      "source": [
        "sankey.sankey(left=Class_B['Device_Src'], right=Class_B['Device_Dst'], aspect=20,fontsize=8)"
      ],
      "execution_count": null,
      "outputs": []
    },
    {
      "cell_type": "code",
      "metadata": {
        "id": "qj1CP26ZmeMF"
      },
      "source": [
        "#Class C - Anything Else\n",
        "Class_C = netflow[(~((netflow['sa'] > 4414943128) & (netflow['sa'] < 4414943255))) & (~((netflow['da'] > 4414943128) & (netflow['da'] < 4414943255))) ]\n",
        "Class_C"
      ],
      "execution_count": null,
      "outputs": []
    },
    {
      "cell_type": "code",
      "metadata": {
        "colab": {
          "base_uri": "https://localhost:8080/"
        },
        "id": "9fuMdPdHmePn",
        "outputId": "3f2a7eb5-899c-46a9-f146-a3438f9752a8"
      },
      "source": [
        "Class_C.shape"
      ],
      "execution_count": null,
      "outputs": [
        {
          "output_type": "execute_result",
          "data": {
            "text/plain": [
              "(1580, 14)"
            ]
          },
          "metadata": {},
          "execution_count": 49
        }
      ]
    },
    {
      "cell_type": "code",
      "metadata": {
        "id": "JmSBy2TemeSQ"
      },
      "source": [
        "sankey.sankey(left=Class_C['Device_Src'], right=Class_C['Device_Dst'], aspect=20,fontsize=8)"
      ],
      "execution_count": null,
      "outputs": []
    },
    {
      "cell_type": "code",
      "metadata": {
        "colab": {
          "base_uri": "https://localhost:8080/",
          "height": 542
        },
        "id": "y3fpda3GmeVN",
        "outputId": "c482fa12-0ab2-4b25-e5bd-511f393b3245"
      },
      "source": [
        "plot_distribution(Class_C['Device_Src'])"
      ],
      "execution_count": null,
      "outputs": [
        {
          "output_type": "display_data",
          "data": {
            "text/html": [
              "<html>\n",
              "<head><meta charset=\"utf-8\" /></head>\n",
              "<body>\n",
              "    <div>\n",
              "            <script src=\"https://cdnjs.cloudflare.com/ajax/libs/mathjax/2.7.5/MathJax.js?config=TeX-AMS-MML_SVG\"></script><script type=\"text/javascript\">if (window.MathJax) {MathJax.Hub.Config({SVG: {font: \"STIX-Web\"}});}</script>\n",
              "                <script type=\"text/javascript\">window.PlotlyConfig = {MathJaxConfig: 'local'};</script>\n",
              "        <script src=\"https://cdn.plot.ly/plotly-latest.min.js\"></script>    \n",
              "            <div id=\"fc1f24a6-faa7-4e5f-ba72-39d283e3e0da\" class=\"plotly-graph-div\" style=\"height:525px; width:100%;\"></div>\n",
              "            <script type=\"text/javascript\">\n",
              "                \n",
              "                    window.PLOTLYENV=window.PLOTLYENV || {};\n",
              "                    \n",
              "                if (document.getElementById(\"fc1f24a6-faa7-4e5f-ba72-39d283e3e0da\")) {\n",
              "                    Plotly.newPlot(\n",
              "                        'fc1f24a6-faa7-4e5f-ba72-39d283e3e0da',\n",
              "                        [{\"hole\": 0.3, \"labels\": [\"Unknown_Device\", \"haproxy.dl4ste\", \"vm3.db0hup\", \"Internal Device\", \"bb-db0pas.db0sl\", \"bb-db0hup.db0tvp\", \"ntp1.db0hsr\", \"lnk-db0hup.db0pas\", \"monitoring\", \"router.db0hup\", \"bb-oe3xda.oe3xia-2\", \"bb-db0hup.db0pas\", \"aprs.oe2xzr\", \"lnk-db0hup.db0tvp\", \"t2ffl.dl4ste\", \"lnk-oe5xdo.db0pas\", \"lnk-db0pas.db0hup\", \"usereinstieg.db0sl\", \"lnk-db0pas.db0sl\", \"lnk-db0tvp.db0hup\", \"aprs.db0luh\", \"dj0abr.db0sl\", \"debian2.dl4ste\", \"lnk-db0pas.oe5xdo\", \"bb-db0pas.db0hup\", \"ism.fim.itz.db0hup\", \"aprs.oe5xdo\", \"bb-db0pas.oe5xdo\", \"bb-db0tvp.db0hup\", \"pr.db0ffl\", \"vm2.db0hup\", \"lnk-db0sl.db0pas\", \"lnk-oe5xhr.db0pas\", \"lnk-oe5xul.db0sl\", \"ism.itz.fim.db0hup\", \"db0fhn\", \"old.lnk-db0sl.db0pas\", \"trx-db0ffl.db0sl\", \"hamnetdb\", \"nvr.db0kk\", \"bb-db0pas.oe5xhr\", \"old-bb-dl0pf-db0tvp.db0tvp\", \"bb-db0sl.db0pas\", \"web.oe2xzr\", \"sip.db0alg\", \"old-bb-dl0pf.db0tvp\", \"data.db0hsr\", \"yo2tm\", \"dapnet.db0sda\", \"db0oha\", \"sip.db0ko\", \"db0zrb\", \"bb-db0ffl.db0sl\", \"aprs.oe5xul\", \"ntp\", \"aprs.oe5xhr\", \"transfer-oe5xdo.db0pas\", \"dmr-rptr.db0myk\", \"bb-oe5xhr.db0pas\", \"satsdr.db0hup\", \"old.bb-db0sl.db0pas\", \"router.db0sl\", \"bb-db0hbg.db0mpq\", \"linkwest.oe5xbl\", \"dk0wue-d.dk0wue\", \"user1.oe5xdo\", \"dl1nbu\", \"switch.oe5xbl\", \"old.router.db0pas\", \"old-switch-dl0pf.db0tvp\", \"lnk-xbl.oe5xgr\", \"user.oe5xhr\", \"switch.oe5xhr\", \"router.oe9ghv\", \"vpn.db0hup\", \"vdrcfunk01.ir3uhf\", \"lab-gateway.db0hup\"], \"type\": \"pie\", \"values\": [422, 275, 201, 34, 33, 27, 24, 24, 19, 19, 18, 18, 17, 16, 16, 16, 16, 15, 15, 15, 15, 15, 15, 15, 13, 13, 13, 12, 12, 12, 11, 11, 11, 11, 10, 10, 10, 10, 10, 6, 6, 6, 6, 6, 5, 5, 5, 5, 5, 5, 5, 5, 5, 5, 3, 2, 2, 2, 2, 2, 2, 1, 1, 1, 1, 1, 1, 1, 1, 1, 1, 1, 1, 1, 1, 1, 1]}],\n",
              "                        {\"template\": {\"data\": {\"bar\": [{\"error_x\": {\"color\": \"#2a3f5f\"}, \"error_y\": {\"color\": \"#2a3f5f\"}, \"marker\": {\"line\": {\"color\": \"#E5ECF6\", \"width\": 0.5}}, \"type\": \"bar\"}], \"barpolar\": [{\"marker\": {\"line\": {\"color\": \"#E5ECF6\", \"width\": 0.5}}, \"type\": \"barpolar\"}], \"carpet\": [{\"aaxis\": {\"endlinecolor\": \"#2a3f5f\", \"gridcolor\": \"white\", \"linecolor\": \"white\", \"minorgridcolor\": \"white\", \"startlinecolor\": \"#2a3f5f\"}, \"baxis\": {\"endlinecolor\": \"#2a3f5f\", \"gridcolor\": \"white\", \"linecolor\": \"white\", \"minorgridcolor\": \"white\", \"startlinecolor\": \"#2a3f5f\"}, \"type\": \"carpet\"}], \"choropleth\": [{\"colorbar\": {\"outlinewidth\": 0, \"ticks\": \"\"}, \"type\": \"choropleth\"}], \"contour\": [{\"colorbar\": {\"outlinewidth\": 0, \"ticks\": \"\"}, \"colorscale\": [[0.0, \"#0d0887\"], [0.1111111111111111, \"#46039f\"], [0.2222222222222222, \"#7201a8\"], [0.3333333333333333, \"#9c179e\"], [0.4444444444444444, \"#bd3786\"], [0.5555555555555556, \"#d8576b\"], [0.6666666666666666, \"#ed7953\"], [0.7777777777777778, \"#fb9f3a\"], [0.8888888888888888, \"#fdca26\"], [1.0, \"#f0f921\"]], \"type\": \"contour\"}], \"contourcarpet\": [{\"colorbar\": {\"outlinewidth\": 0, \"ticks\": \"\"}, \"type\": \"contourcarpet\"}], \"heatmap\": [{\"colorbar\": {\"outlinewidth\": 0, \"ticks\": \"\"}, \"colorscale\": [[0.0, \"#0d0887\"], [0.1111111111111111, \"#46039f\"], [0.2222222222222222, \"#7201a8\"], [0.3333333333333333, \"#9c179e\"], [0.4444444444444444, \"#bd3786\"], [0.5555555555555556, \"#d8576b\"], [0.6666666666666666, \"#ed7953\"], [0.7777777777777778, \"#fb9f3a\"], [0.8888888888888888, \"#fdca26\"], [1.0, \"#f0f921\"]], \"type\": \"heatmap\"}], \"heatmapgl\": [{\"colorbar\": {\"outlinewidth\": 0, \"ticks\": \"\"}, \"colorscale\": [[0.0, \"#0d0887\"], [0.1111111111111111, \"#46039f\"], [0.2222222222222222, \"#7201a8\"], [0.3333333333333333, \"#9c179e\"], [0.4444444444444444, \"#bd3786\"], [0.5555555555555556, \"#d8576b\"], [0.6666666666666666, \"#ed7953\"], [0.7777777777777778, \"#fb9f3a\"], [0.8888888888888888, \"#fdca26\"], [1.0, \"#f0f921\"]], \"type\": \"heatmapgl\"}], \"histogram\": [{\"marker\": {\"colorbar\": {\"outlinewidth\": 0, \"ticks\": \"\"}}, \"type\": \"histogram\"}], \"histogram2d\": [{\"colorbar\": {\"outlinewidth\": 0, \"ticks\": \"\"}, \"colorscale\": [[0.0, \"#0d0887\"], [0.1111111111111111, \"#46039f\"], [0.2222222222222222, \"#7201a8\"], [0.3333333333333333, \"#9c179e\"], [0.4444444444444444, \"#bd3786\"], [0.5555555555555556, \"#d8576b\"], [0.6666666666666666, \"#ed7953\"], [0.7777777777777778, \"#fb9f3a\"], [0.8888888888888888, \"#fdca26\"], [1.0, \"#f0f921\"]], \"type\": \"histogram2d\"}], \"histogram2dcontour\": [{\"colorbar\": {\"outlinewidth\": 0, \"ticks\": \"\"}, \"colorscale\": [[0.0, \"#0d0887\"], [0.1111111111111111, \"#46039f\"], [0.2222222222222222, \"#7201a8\"], [0.3333333333333333, \"#9c179e\"], [0.4444444444444444, \"#bd3786\"], [0.5555555555555556, \"#d8576b\"], [0.6666666666666666, \"#ed7953\"], [0.7777777777777778, \"#fb9f3a\"], [0.8888888888888888, \"#fdca26\"], [1.0, \"#f0f921\"]], \"type\": \"histogram2dcontour\"}], \"mesh3d\": [{\"colorbar\": {\"outlinewidth\": 0, \"ticks\": \"\"}, \"type\": \"mesh3d\"}], \"parcoords\": [{\"line\": {\"colorbar\": {\"outlinewidth\": 0, \"ticks\": \"\"}}, \"type\": \"parcoords\"}], \"pie\": [{\"automargin\": true, \"type\": \"pie\"}], \"scatter\": [{\"marker\": {\"colorbar\": {\"outlinewidth\": 0, \"ticks\": \"\"}}, \"type\": \"scatter\"}], \"scatter3d\": [{\"line\": {\"colorbar\": {\"outlinewidth\": 0, \"ticks\": \"\"}}, \"marker\": {\"colorbar\": {\"outlinewidth\": 0, \"ticks\": \"\"}}, \"type\": \"scatter3d\"}], \"scattercarpet\": [{\"marker\": {\"colorbar\": {\"outlinewidth\": 0, \"ticks\": \"\"}}, \"type\": \"scattercarpet\"}], \"scattergeo\": [{\"marker\": {\"colorbar\": {\"outlinewidth\": 0, \"ticks\": \"\"}}, \"type\": \"scattergeo\"}], \"scattergl\": [{\"marker\": {\"colorbar\": {\"outlinewidth\": 0, \"ticks\": \"\"}}, \"type\": \"scattergl\"}], \"scattermapbox\": [{\"marker\": {\"colorbar\": {\"outlinewidth\": 0, \"ticks\": \"\"}}, \"type\": \"scattermapbox\"}], \"scatterpolar\": [{\"marker\": {\"colorbar\": {\"outlinewidth\": 0, \"ticks\": \"\"}}, \"type\": \"scatterpolar\"}], \"scatterpolargl\": [{\"marker\": {\"colorbar\": {\"outlinewidth\": 0, \"ticks\": \"\"}}, \"type\": \"scatterpolargl\"}], \"scatterternary\": [{\"marker\": {\"colorbar\": {\"outlinewidth\": 0, \"ticks\": \"\"}}, \"type\": \"scatterternary\"}], \"surface\": [{\"colorbar\": {\"outlinewidth\": 0, \"ticks\": \"\"}, \"colorscale\": [[0.0, \"#0d0887\"], [0.1111111111111111, \"#46039f\"], [0.2222222222222222, \"#7201a8\"], [0.3333333333333333, \"#9c179e\"], [0.4444444444444444, \"#bd3786\"], [0.5555555555555556, \"#d8576b\"], [0.6666666666666666, \"#ed7953\"], [0.7777777777777778, \"#fb9f3a\"], [0.8888888888888888, \"#fdca26\"], [1.0, \"#f0f921\"]], \"type\": \"surface\"}], \"table\": [{\"cells\": {\"fill\": {\"color\": \"#EBF0F8\"}, \"line\": {\"color\": \"white\"}}, \"header\": {\"fill\": {\"color\": \"#C8D4E3\"}, \"line\": {\"color\": \"white\"}}, \"type\": \"table\"}]}, \"layout\": {\"annotationdefaults\": {\"arrowcolor\": \"#2a3f5f\", \"arrowhead\": 0, \"arrowwidth\": 1}, \"coloraxis\": {\"colorbar\": {\"outlinewidth\": 0, \"ticks\": \"\"}}, \"colorscale\": {\"diverging\": [[0, \"#8e0152\"], [0.1, \"#c51b7d\"], [0.2, \"#de77ae\"], [0.3, \"#f1b6da\"], [0.4, \"#fde0ef\"], [0.5, \"#f7f7f7\"], [0.6, \"#e6f5d0\"], [0.7, \"#b8e186\"], [0.8, \"#7fbc41\"], [0.9, \"#4d9221\"], [1, \"#276419\"]], \"sequential\": [[0.0, \"#0d0887\"], [0.1111111111111111, \"#46039f\"], [0.2222222222222222, \"#7201a8\"], [0.3333333333333333, \"#9c179e\"], [0.4444444444444444, \"#bd3786\"], [0.5555555555555556, \"#d8576b\"], [0.6666666666666666, \"#ed7953\"], [0.7777777777777778, \"#fb9f3a\"], [0.8888888888888888, \"#fdca26\"], [1.0, \"#f0f921\"]], \"sequentialminus\": [[0.0, \"#0d0887\"], [0.1111111111111111, \"#46039f\"], [0.2222222222222222, \"#7201a8\"], [0.3333333333333333, \"#9c179e\"], [0.4444444444444444, \"#bd3786\"], [0.5555555555555556, \"#d8576b\"], [0.6666666666666666, \"#ed7953\"], [0.7777777777777778, \"#fb9f3a\"], [0.8888888888888888, \"#fdca26\"], [1.0, \"#f0f921\"]]}, \"colorway\": [\"#636efa\", \"#EF553B\", \"#00cc96\", \"#ab63fa\", \"#FFA15A\", \"#19d3f3\", \"#FF6692\", \"#B6E880\", \"#FF97FF\", \"#FECB52\"], \"font\": {\"color\": \"#2a3f5f\"}, \"geo\": {\"bgcolor\": \"white\", \"lakecolor\": \"white\", \"landcolor\": \"#E5ECF6\", \"showlakes\": true, \"showland\": true, \"subunitcolor\": \"white\"}, \"hoverlabel\": {\"align\": \"left\"}, \"hovermode\": \"closest\", \"mapbox\": {\"style\": \"light\"}, \"paper_bgcolor\": \"white\", \"plot_bgcolor\": \"#E5ECF6\", \"polar\": {\"angularaxis\": {\"gridcolor\": \"white\", \"linecolor\": \"white\", \"ticks\": \"\"}, \"bgcolor\": \"#E5ECF6\", \"radialaxis\": {\"gridcolor\": \"white\", \"linecolor\": \"white\", \"ticks\": \"\"}}, \"scene\": {\"xaxis\": {\"backgroundcolor\": \"#E5ECF6\", \"gridcolor\": \"white\", \"gridwidth\": 2, \"linecolor\": \"white\", \"showbackground\": true, \"ticks\": \"\", \"zerolinecolor\": \"white\"}, \"yaxis\": {\"backgroundcolor\": \"#E5ECF6\", \"gridcolor\": \"white\", \"gridwidth\": 2, \"linecolor\": \"white\", \"showbackground\": true, \"ticks\": \"\", \"zerolinecolor\": \"white\"}, \"zaxis\": {\"backgroundcolor\": \"#E5ECF6\", \"gridcolor\": \"white\", \"gridwidth\": 2, \"linecolor\": \"white\", \"showbackground\": true, \"ticks\": \"\", \"zerolinecolor\": \"white\"}}, \"shapedefaults\": {\"line\": {\"color\": \"#2a3f5f\"}}, \"ternary\": {\"aaxis\": {\"gridcolor\": \"white\", \"linecolor\": \"white\", \"ticks\": \"\"}, \"baxis\": {\"gridcolor\": \"white\", \"linecolor\": \"white\", \"ticks\": \"\"}, \"bgcolor\": \"#E5ECF6\", \"caxis\": {\"gridcolor\": \"white\", \"linecolor\": \"white\", \"ticks\": \"\"}}, \"title\": {\"x\": 0.05}, \"xaxis\": {\"automargin\": true, \"gridcolor\": \"white\", \"linecolor\": \"white\", \"ticks\": \"\", \"title\": {\"standoff\": 15}, \"zerolinecolor\": \"white\", \"zerolinewidth\": 2}, \"yaxis\": {\"automargin\": true, \"gridcolor\": \"white\", \"linecolor\": \"white\", \"ticks\": \"\", \"title\": {\"standoff\": 15}, \"zerolinecolor\": \"white\", \"zerolinewidth\": 2}}}, \"title\": {\"text\": \"Distribution for Device_Src\"}},\n",
              "                        {\"responsive\": true}\n",
              "                    ).then(function(){\n",
              "                            \n",
              "var gd = document.getElementById('fc1f24a6-faa7-4e5f-ba72-39d283e3e0da');\n",
              "var x = new MutationObserver(function (mutations, observer) {{\n",
              "        var display = window.getComputedStyle(gd).display;\n",
              "        if (!display || display === 'none') {{\n",
              "            console.log([gd, 'removed!']);\n",
              "            Plotly.purge(gd);\n",
              "            observer.disconnect();\n",
              "        }}\n",
              "}});\n",
              "\n",
              "// Listen for the removal of the full notebook cells\n",
              "var notebookContainer = gd.closest('#notebook-container');\n",
              "if (notebookContainer) {{\n",
              "    x.observe(notebookContainer, {childList: true});\n",
              "}}\n",
              "\n",
              "// Listen for the clearing of the current output cell\n",
              "var outputEl = gd.closest('.output');\n",
              "if (outputEl) {{\n",
              "    x.observe(outputEl, {childList: true});\n",
              "}}\n",
              "\n",
              "                        })\n",
              "                };\n",
              "                \n",
              "            </script>\n",
              "        </div>\n",
              "</body>\n",
              "</html>"
            ]
          },
          "metadata": {}
        }
      ]
    },
    {
      "cell_type": "code",
      "metadata": {
        "colab": {
          "base_uri": "https://localhost:8080/"
        },
        "id": "UKLPhZVumeYY",
        "outputId": "12095d94-c6d8-4d94-81ce-ba5860e09716"
      },
      "source": [
        "#Union of Class A and Class B\n",
        "Class_A1 = pd.concat([Class_A,Class_B], ignore_index=True)\n",
        "Class_A1.shape"
      ],
      "execution_count": null,
      "outputs": [
        {
          "output_type": "execute_result",
          "data": {
            "text/plain": [
              "(1302, 14)"
            ]
          },
          "metadata": {},
          "execution_count": 52
        }
      ]
    },
    {
      "cell_type": "code",
      "metadata": {
        "colab": {
          "base_uri": "https://localhost:8080/"
        },
        "id": "NJO2Sg-gsyPH",
        "outputId": "70e8efbc-0841-4f21-f274-5c6d73a6cb10"
      },
      "source": [
        "#Sorting Source IP with reference to Destination IP\n",
        "Src_Ip_Sorted = Class_A1.sort_values(by=['sa','da'])\n",
        "Src_Ip_Sorted.to_csv('Src_Ip_Sorted.csv', index=False)\n",
        "Src_Ip_Sorted.shape"
      ],
      "execution_count": null,
      "outputs": [
        {
          "output_type": "execute_result",
          "data": {
            "text/plain": [
              "(1302, 14)"
            ]
          },
          "metadata": {},
          "execution_count": 53
        }
      ]
    },
    {
      "cell_type": "code",
      "metadata": {
        "id": "Dvv3M_OGKaf3"
      },
      "source": [
        "def Device_type():\n",
        "    Device_type= sorted(Src_Ip_Sorted['Device_Src'].unique())\n",
        "    return Device_type\n",
        "Device_type=Device_type()\n",
        "Device_type"
      ],
      "execution_count": null,
      "outputs": []
    },
    {
      "cell_type": "code",
      "metadata": {
        "colab": {
          "base_uri": "https://localhost:8080/"
        },
        "id": "bcQnVz7xFedT",
        "outputId": "ec1d8438-713d-4ae3-b3fe-9d35a019074b"
      },
      "source": [
        "Src_Ip_Sorted.Device_Src.nunique()"
      ],
      "execution_count": null,
      "outputs": [
        {
          "output_type": "execute_result",
          "data": {
            "text/plain": [
              "40"
            ]
          },
          "metadata": {},
          "execution_count": 55
        }
      ]
    },
    {
      "cell_type": "code",
      "metadata": {
        "colab": {
          "base_uri": "https://localhost:8080/"
        },
        "id": "ygFgFm7jJxPQ",
        "outputId": "a630a30c-0bb4-4a4a-a5a5-aadcf9b5bc80"
      },
      "source": [
        "Src_Ip_Sorted.sa.nunique()"
      ],
      "execution_count": null,
      "outputs": [
        {
          "output_type": "execute_result",
          "data": {
            "text/plain": [
              "73"
            ]
          },
          "metadata": {},
          "execution_count": 56
        }
      ]
    },
    {
      "cell_type": "code",
      "metadata": {
        "id": "GqtIMPWgFmcm"
      },
      "source": [
        "Src_Ip_Sorted.Device_Src.value_counts()"
      ],
      "execution_count": null,
      "outputs": []
    },
    {
      "cell_type": "code",
      "metadata": {
        "id": "v2Q5EKfJsyR2"
      },
      "source": [
        "sankey.sankey(left=Src_Ip_Sorted['Device_Src'], right=Src_Ip_Sorted['Device_Dst'],aspect=75,fontsize=8,)"
      ],
      "execution_count": null,
      "outputs": []
    },
    {
      "cell_type": "code",
      "metadata": {
        "id": "U9nRse6CATaE"
      },
      "source": [
        "# Src_Ip_Sorted['td'] = Src_Ip_Sorted['td'].astype(float)"
      ],
      "execution_count": null,
      "outputs": []
    },
    {
      "cell_type": "code",
      "source": [
        "Src_Ip_Sorted.head(10)"
      ],
      "metadata": {
        "id": "YRsSu-830_yC"
      },
      "execution_count": null,
      "outputs": []
    },
    {
      "cell_type": "code",
      "source": [
        "Src_Ip_Sorted.shape"
      ],
      "metadata": {
        "colab": {
          "base_uri": "https://localhost:8080/"
        },
        "id": "nBupxhip5ZxO",
        "outputId": "b1d0b802-8768-48b1-e736-759f908186bb"
      },
      "execution_count": null,
      "outputs": [
        {
          "output_type": "execute_result",
          "data": {
            "text/plain": [
              "(1302, 14)"
            ]
          },
          "metadata": {},
          "execution_count": 61
        }
      ]
    },
    {
      "cell_type": "code",
      "source": [
        "Src_Ip_Sorted.Dst_value.nunique()"
      ],
      "metadata": {
        "colab": {
          "base_uri": "https://localhost:8080/"
        },
        "id": "7b7N8Uo02aZQ",
        "outputId": "7d14a351-f1d8-4b18-e13d-ccfe39772656"
      },
      "execution_count": null,
      "outputs": [
        {
          "output_type": "execute_result",
          "data": {
            "text/plain": [
              "23"
            ]
          },
          "metadata": {},
          "execution_count": 62
        }
      ]
    },
    {
      "cell_type": "code",
      "source": [
        "Src_Ip_Sorted = pd.get_dummies(data=Src_Ip_Sorted, columns=['sp', 'dp', 'pr','Src_value', 'Dst_value'])"
      ],
      "metadata": {
        "id": "jfBf4fAj3L2O"
      },
      "execution_count": null,
      "outputs": []
    },
    {
      "cell_type": "code",
      "source": [
        "Src_Ip_Sorted.head(10)"
      ],
      "metadata": {
        "id": "7xcN_lKA3tcT"
      },
      "execution_count": null,
      "outputs": []
    },
    {
      "cell_type": "code",
      "source": [
        "Src_Ip_Sorted.shape"
      ],
      "metadata": {
        "colab": {
          "base_uri": "https://localhost:8080/"
        },
        "id": "6Zo1jIPd54qP",
        "outputId": "716120d4-c1ba-4e79-c83c-b3514f3fd076"
      },
      "execution_count": null,
      "outputs": [
        {
          "output_type": "execute_result",
          "data": {
            "text/plain": [
              "(1302, 685)"
            ]
          },
          "metadata": {},
          "execution_count": 65
        }
      ]
    },
    {
      "cell_type": "code",
      "metadata": {
        "id": "WwzFqgI4syas"
      },
      "source": [
        "from sklearn.ensemble import AdaBoostClassifier\n",
        "from sklearn import metrics"
      ],
      "execution_count": null,
      "outputs": []
    },
    {
      "cell_type": "code",
      "metadata": {
        "id": "4fH7nkoesygG"
      },
      "source": [
        "#Standardization\n",
        "le = LabelEncoder()\n",
        "# Src_Ip_Sorted.pr = le.fit_transform(Src_Ip_Sorted.pr)\n",
        "# Src_Ip_Sorted['Src_value'] = le.fit_transform(Src_Ip_Sorted['Src_value'])\n",
        "# Src_Ip_Sorted['Dst_value'] = le.fit_transform(Src_Ip_Sorted['Dst_value'])\n",
        "Src_Ip_Sorted['Device_Src'] = le.fit_transform(Src_Ip_Sorted['Device_Src'])\n",
        "Src_Ip_Sorted['Device_Dst'] = le.fit_transform(Src_Ip_Sorted['Device_Dst'])\n",
        "x1 = Src_Ip_Sorted.drop(['Device_Src','Device_Dst'],axis=1)\n",
        "y1 = Src_Ip_Sorted['Device_Src']"
      ],
      "execution_count": null,
      "outputs": []
    },
    {
      "cell_type": "code",
      "metadata": {
        "id": "S44op46GTfJz"
      },
      "source": [
        "x1.head()"
      ],
      "execution_count": null,
      "outputs": []
    },
    {
      "cell_type": "code",
      "metadata": {
        "id": "d1gmXG2Nsyiv"
      },
      "source": [
        "#Splitting the dataset into Train and testing dataset\n",
        "x1_train,x1_test, y1_train, y1_test = train_test_split(x1, y1, test_size=0.30)"
      ],
      "execution_count": null,
      "outputs": []
    },
    {
      "cell_type": "code",
      "metadata": {
        "id": "m947vI1msyoh"
      },
      "source": [
        "# Logistic Regression\n",
        "model1 = LogisticRegression()\n",
        "model1.fit(x1_train, y1_train)"
      ],
      "execution_count": null,
      "outputs": []
    },
    {
      "cell_type": "code",
      "metadata": {
        "colab": {
          "base_uri": "https://localhost:8080/"
        },
        "id": "5QOOXDKAsyrs",
        "outputId": "393e2469-bb07-448e-f62f-bd640f08219d"
      },
      "source": [
        "print(\"Accuracy:\",model1.score(x1_test, y1_test)*100)"
      ],
      "execution_count": null,
      "outputs": [
        {
          "output_type": "stream",
          "name": "stdout",
          "text": [
            "Accuracy: 19.948849104859335\n"
          ]
        }
      ]
    },
    {
      "cell_type": "code",
      "metadata": {
        "colab": {
          "base_uri": "https://localhost:8080/"
        },
        "id": "YChOEIlZsyug",
        "outputId": "05ab2b89-669c-422c-f7bc-06e3973c5095"
      },
      "source": [
        "#Decision tree\n",
        "model2 = DecisionTreeClassifier()\n",
        "model2.fit(x1_train,y1_train)"
      ],
      "execution_count": null,
      "outputs": [
        {
          "output_type": "execute_result",
          "data": {
            "text/plain": [
              "DecisionTreeClassifier()"
            ]
          },
          "metadata": {},
          "execution_count": 72
        }
      ]
    },
    {
      "cell_type": "code",
      "metadata": {
        "colab": {
          "base_uri": "https://localhost:8080/"
        },
        "id": "r9b0GeeSsyxo",
        "outputId": "e4af2d87-505f-46ef-84b9-94c6cd6218ef"
      },
      "source": [
        "print(\"Accuracy:\",model2.score(x1_test, y1_test)*100)"
      ],
      "execution_count": null,
      "outputs": [
        {
          "output_type": "stream",
          "name": "stdout",
          "text": [
            "Accuracy: 86.44501278772378\n"
          ]
        }
      ]
    },
    {
      "cell_type": "code",
      "metadata": {
        "colab": {
          "base_uri": "https://localhost:8080/"
        },
        "id": "ntB-qZhMsy0j",
        "outputId": "7e919b67-1632-4667-be82-fb298c50dba0"
      },
      "source": [
        "#KNN\n",
        "model3 = KNeighborsClassifier()\n",
        "model3.fit(x1_train, y1_train)"
      ],
      "execution_count": null,
      "outputs": [
        {
          "output_type": "execute_result",
          "data": {
            "text/plain": [
              "KNeighborsClassifier()"
            ]
          },
          "metadata": {},
          "execution_count": 74
        }
      ]
    },
    {
      "cell_type": "code",
      "metadata": {
        "colab": {
          "base_uri": "https://localhost:8080/"
        },
        "id": "d3-N-V5ssy3J",
        "outputId": "36dcf99d-618e-4788-b0bb-56c401f89d02"
      },
      "source": [
        "print(\"Accuracy:\",model3.score(x1_test, y1_test)*100)"
      ],
      "execution_count": null,
      "outputs": [
        {
          "output_type": "stream",
          "name": "stdout",
          "text": [
            "Accuracy: 73.65728900255755\n"
          ]
        }
      ]
    },
    {
      "cell_type": "code",
      "metadata": {
        "id": "WK1xYZaysy6b"
      },
      "source": [
        "abc = AdaBoostClassifier(n_estimators=50,\n",
        "                         learning_rate=1)"
      ],
      "execution_count": null,
      "outputs": []
    },
    {
      "cell_type": "code",
      "metadata": {
        "colab": {
          "base_uri": "https://localhost:8080/"
        },
        "id": "fQFXHKWJsy9N",
        "outputId": "6310b53d-1762-4624-a340-8962a30ed50f"
      },
      "source": [
        "model4 = abc.fit(x1_train, y1_train)\n",
        "y_pred = model4.predict(x1_test)\n",
        "print(\"Accuracy:\",metrics.accuracy_score(y1_test, y_pred))"
      ],
      "execution_count": null,
      "outputs": [
        {
          "output_type": "stream",
          "name": "stdout",
          "text": [
            "Accuracy: 0.18925831202046037\n"
          ]
        }
      ]
    },
    {
      "cell_type": "code",
      "metadata": {
        "id": "L4YyjhlnszDQ"
      },
      "source": [
        "# svc=SVC(probability=True, kernel='linear')"
      ],
      "execution_count": null,
      "outputs": []
    },
    {
      "cell_type": "code",
      "metadata": {
        "id": "ldI9WS-nszJb"
      },
      "source": [
        "# abc =AdaBoostClassifier(n_estimators=50, base_estimator=svc,learning_rate=1)"
      ],
      "execution_count": null,
      "outputs": []
    },
    {
      "cell_type": "code",
      "metadata": {
        "id": "vFC_L5lrszMy",
        "colab": {
          "base_uri": "https://localhost:8080/"
        },
        "outputId": "2353f1aa-ebc8-4183-fa63-d33abd08e4e4"
      },
      "source": [
        "model5 = abc.fit(x1_train, y1_train)\n",
        "y_pred = model5.predict(x1_test)\n",
        "print(\"Accuracy:\",metrics.accuracy_score(y1_test, y_pred))"
      ],
      "execution_count": null,
      "outputs": [
        {
          "output_type": "stream",
          "name": "stdout",
          "text": [
            "Accuracy: 0.18925831202046037\n"
          ]
        }
      ]
    },
    {
      "cell_type": "code",
      "metadata": {
        "id": "SbEWwuI_szPp"
      },
      "source": [
        "from xgboost import XGBClassifier\n",
        "from sklearn.model_selection import cross_val_score, KFold\n",
        "from sklearn.metrics import confusion_matrix"
      ],
      "execution_count": null,
      "outputs": []
    },
    {
      "cell_type": "code",
      "metadata": {
        "colab": {
          "base_uri": "https://localhost:8080/"
        },
        "id": "fCDbCNy1szS7",
        "outputId": "0df52176-c8a1-4040-a5ef-656884cf4f66"
      },
      "source": [
        "xgbc = XGBClassifier()\n",
        "print(xgbc)"
      ],
      "execution_count": null,
      "outputs": [
        {
          "output_type": "stream",
          "name": "stdout",
          "text": [
            "XGBClassifier()\n"
          ]
        }
      ]
    },
    {
      "cell_type": "code",
      "metadata": {
        "colab": {
          "base_uri": "https://localhost:8080/"
        },
        "id": "LUOJ7mjrAIFL",
        "outputId": "4890a799-0351-4165-9f91-9348a3273f5a"
      },
      "source": [
        "Src_Ip_Sorted.dtypes"
      ],
      "execution_count": null,
      "outputs": [
        {
          "output_type": "execute_result",
          "data": {
            "text/plain": [
              "td                                                         float64\n",
              "sa                                                           int64\n",
              "da                                                           int64\n",
              "ipkt                                                       float64\n",
              "ibyt                                                       float64\n",
              "                                                            ...   \n",
              "Dst_value_Simple Network Management Protocol (SNMP)[75]      uint8\n",
              "Dst_value_Squid caching web proxy                            uint8\n",
              "Dst_value_Unassigned                                         uint8\n",
              "Dst_value_[THREAT]-PC Invader(SANS)                          uint8\n",
              "Dst_value_mps-raft, [Threat]-NetHasp, Udps(Bekkoame)         uint8\n",
              "Length: 685, dtype: object"
            ]
          },
          "metadata": {},
          "execution_count": 83
        }
      ]
    },
    {
      "cell_type": "code",
      "metadata": {
        "id": "8QieHxAUszZG"
      },
      "source": [
        "# xgbc.fit(x1_train, y1_train)"
      ],
      "execution_count": null,
      "outputs": []
    },
    {
      "cell_type": "code",
      "metadata": {
        "id": "xv5s0ouVszcG"
      },
      "source": [
        "# scores = cross_val_score(xgbc, x1_train, y1_train, cv=5)\n",
        "# print(\"Mean cross-validation score: %.2f\" % scores.mean())\n"
      ],
      "execution_count": null,
      "outputs": []
    },
    {
      "cell_type": "code",
      "metadata": {
        "id": "6bOp1FNGszfm"
      },
      "source": [
        "# kfold = KFold(n_splits=20, shuffle=True)\n",
        "# kf_cv_scores = cross_val_score(xgbc, x1_train, y1_train, cv=kfold )\n",
        "# print(\"K-fold CV average score: %.2f\" % kf_cv_scores.mean())"
      ],
      "execution_count": null,
      "outputs": []
    },
    {
      "cell_type": "code",
      "metadata": {
        "id": "pHz-Pz-4szis"
      },
      "source": [
        "# ypred = xgbc.predict(x1_test)\n",
        "# cm = confusion_matrix(y1_test,ypred) \n",
        "# print(cm)\n"
      ],
      "execution_count": null,
      "outputs": []
    },
    {
      "cell_type": "code",
      "metadata": {
        "id": "LzuDqH2pszlp"
      },
      "source": [
        "# print(\"Accuracy:\",xgbc.score(x1_test, y1_test)*100)"
      ],
      "execution_count": null,
      "outputs": []
    },
    {
      "cell_type": "code",
      "metadata": {
        "id": "46qwlfzPBQDC"
      },
      "source": [
        "#NN_Model_Building\n",
        "import tensorflow as tf\n",
        "from tensorflow import keras\n",
        "from tensorflow.keras import layers\n",
        "from keras.layers import Dense, Input, Activation\n",
        "from keras.models import Sequential\n",
        "from keras.layers import Dense\n",
        "from keras.layers import BatchNormalization,Add\n",
        "from tensorflow.keras.optimizers import Adam\n",
        "from keras.layers import Dropout\n",
        "from keras import regularizers\n",
        "from keras.models import Model, load_model\n",
        "from sklearn.metrics import mean_squared_error\n",
        "from keras import callbacks\n",
        "from keras import backend as K\n",
        "import warnings\n",
        "warnings.filterwarnings(\"ignore\")\n",
        "warnings.filterwarnings(action=\"ignore\",category=DeprecationWarning)\n",
        "warnings.filterwarnings(action=\"ignore\",category=FutureWarning)\n"
      ],
      "execution_count": null,
      "outputs": []
    },
    {
      "cell_type": "code",
      "metadata": {
        "colab": {
          "base_uri": "https://localhost:8080/"
        },
        "id": "5lTuiwFBBkNq",
        "outputId": "96d29c6c-254f-4ec7-e1ec-17437e8a2194"
      },
      "source": [
        "x1_train.shape"
      ],
      "execution_count": null,
      "outputs": [
        {
          "output_type": "execute_result",
          "data": {
            "text/plain": [
              "(911, 683)"
            ]
          },
          "metadata": {},
          "execution_count": 90
        }
      ]
    },
    {
      "cell_type": "code",
      "metadata": {
        "colab": {
          "base_uri": "https://localhost:8080/"
        },
        "id": "4KaepoyiBQGX",
        "outputId": "d181091b-d7c6-416d-d888-7fcc240d43c8"
      },
      "source": [
        "#NN Model 2\n",
        "def create_model():\n",
        "    # create model\n",
        "    model = Sequential()\n",
        "    model.add(Dense(1024, input_dim=683, kernel_initializer='he_uniform', activation='relu'))\n",
        "    # model.add(Dropout(0.5))\n",
        "    model.add(Dense(1024, kernel_initializer='he_uniform', activation='relu'))\n",
        "    # model.add(Dropout(0.5))\n",
        "    model.add(Dense(512, kernel_initializer='he_uniform', activation='relu'))\n",
        "    # model.add(Dropout(0.5))\n",
        "    model.add(Dense(1, activation='sigmoid'))\n",
        "    \n",
        "    # compile model\n",
        "    # adam = Adam(lr=0.001)\n",
        "    model.compile(loss='binary_crossentropy', optimizer='adam', metrics=['accuracy'])\n",
        "    return model\n",
        "\n",
        "model = create_model()\n",
        "\n",
        "print(model.summary())"
      ],
      "execution_count": null,
      "outputs": [
        {
          "output_type": "stream",
          "name": "stdout",
          "text": [
            "Model: \"sequential\"\n",
            "_________________________________________________________________\n",
            " Layer (type)                Output Shape              Param #   \n",
            "=================================================================\n",
            " dense (Dense)               (None, 1024)              700416    \n",
            "                                                                 \n",
            " dense_1 (Dense)             (None, 1024)              1049600   \n",
            "                                                                 \n",
            " dense_2 (Dense)             (None, 512)               524800    \n",
            "                                                                 \n",
            " dense_3 (Dense)             (None, 1)                 513       \n",
            "                                                                 \n",
            "=================================================================\n",
            "Total params: 2,275,329\n",
            "Trainable params: 2,275,329\n",
            "Non-trainable params: 0\n",
            "_________________________________________________________________\n",
            "None\n"
          ]
        }
      ]
    },
    {
      "cell_type": "code",
      "metadata": {
        "colab": {
          "base_uri": "https://localhost:8080/"
        },
        "id": "8J0qcKoSBQJu",
        "outputId": "5cba2337-d6b5-4558-cc85-ce7754e5b890"
      },
      "source": [
        "model.fit(x1_train, y1_train, validation_data=(x1_test, y1_test),epochs=50)"
      ],
      "execution_count": null,
      "outputs": [
        {
          "output_type": "stream",
          "name": "stdout",
          "text": [
            "Epoch 1/50\n",
            "29/29 [==============================] - 2s 43ms/step - loss: -13832970829824.0000 - accuracy: 0.0637 - val_loss: -62242741551104.0000 - val_accuracy: 0.0870\n",
            "Epoch 2/50\n",
            "29/29 [==============================] - 1s 33ms/step - loss: -319417523109888.0000 - accuracy: 0.0637 - val_loss: -822672397172736.0000 - val_accuracy: 0.0870\n",
            "Epoch 3/50\n",
            "29/29 [==============================] - 1s 33ms/step - loss: -2297180438134784.0000 - accuracy: 0.0637 - val_loss: -5395896799854592.0000 - val_accuracy: 0.0870\n",
            "Epoch 4/50\n",
            "29/29 [==============================] - 1s 35ms/step - loss: -11418981231493120.0000 - accuracy: 0.0637 - val_loss: -22104306886901760.0000 - val_accuracy: 0.0870\n",
            "Epoch 5/50\n",
            "29/29 [==============================] - 1s 34ms/step - loss: -37670956289753088.0000 - accuracy: 0.0637 - val_loss: -65249430923640832.0000 - val_accuracy: 0.0870\n",
            "Epoch 6/50\n",
            "29/29 [==============================] - 1s 34ms/step - loss: -102135920026714112.0000 - accuracy: 0.0637 - val_loss: -159239090774999040.0000 - val_accuracy: 0.0870\n",
            "Epoch 7/50\n",
            "29/29 [==============================] - 1s 34ms/step - loss: -232022259408044032.0000 - accuracy: 0.0637 - val_loss: -334051011410788352.0000 - val_accuracy: 0.0870\n",
            "Epoch 8/50\n",
            "29/29 [==============================] - 1s 35ms/step - loss: -460793434731446272.0000 - accuracy: 0.0637 - val_loss: -637130910570905600.0000 - val_accuracy: 0.0870\n",
            "Epoch 9/50\n",
            "29/29 [==============================] - 1s 35ms/step - loss: -842210513713627136.0000 - accuracy: 0.0637 - val_loss: -1120284700959571968.0000 - val_accuracy: 0.0870\n",
            "Epoch 10/50\n",
            "29/29 [==============================] - 1s 33ms/step - loss: -1427910599664205824.0000 - accuracy: 0.0637 - val_loss: -1832314962089869312.0000 - val_accuracy: 0.0870\n",
            "Epoch 11/50\n",
            "29/29 [==============================] - 1s 35ms/step - loss: -2276220791571873792.0000 - accuracy: 0.0637 - val_loss: -2816669789286563840.0000 - val_accuracy: 0.0870\n",
            "Epoch 12/50\n",
            "29/29 [==============================] - 1s 35ms/step - loss: -3422932254505041920.0000 - accuracy: 0.0637 - val_loss: -4242661053965533184.0000 - val_accuracy: 0.0870\n",
            "Epoch 13/50\n",
            "29/29 [==============================] - 1s 34ms/step - loss: -5023210680715575296.0000 - accuracy: 0.0637 - val_loss: -5958664178511118336.0000 - val_accuracy: 0.0870\n",
            "Epoch 14/50\n",
            "29/29 [==============================] - 1s 33ms/step - loss: -7019880366047494144.0000 - accuracy: 0.0637 - val_loss: -8183810181071634432.0000 - val_accuracy: 0.0870\n",
            "Epoch 15/50\n",
            "29/29 [==============================] - 1s 33ms/step - loss: -9572452685022494720.0000 - accuracy: 0.0637 - val_loss: -10825069107943047168.0000 - val_accuracy: 0.0870\n",
            "Epoch 16/50\n",
            "29/29 [==============================] - 1s 33ms/step - loss: -12513837604346527744.0000 - accuracy: 0.0637 - val_loss: -14392594013448306688.0000 - val_accuracy: 0.0870\n",
            "Epoch 17/50\n",
            "29/29 [==============================] - 1s 34ms/step - loss: -16311428720894148608.0000 - accuracy: 0.0637 - val_loss: -18406340319923666944.0000 - val_accuracy: 0.0870\n",
            "Epoch 18/50\n",
            "29/29 [==============================] - 1s 34ms/step - loss: -20761059919526887424.0000 - accuracy: 0.0637 - val_loss: -23305771829874917376.0000 - val_accuracy: 0.0870\n",
            "Epoch 19/50\n",
            "29/29 [==============================] - 1s 33ms/step - loss: -26221722846225235968.0000 - accuracy: 0.0637 - val_loss: -29254294662887243776.0000 - val_accuracy: 0.0870\n",
            "Epoch 20/50\n",
            "29/29 [==============================] - 1s 34ms/step - loss: -32622694714067386368.0000 - accuracy: 0.0637 - val_loss: -36302773326373191680.0000 - val_accuracy: 0.0870\n",
            "Epoch 21/50\n",
            "29/29 [==============================] - 1s 34ms/step - loss: -40093788263875084288.0000 - accuracy: 0.0637 - val_loss: -44132611132045131776.0000 - val_accuracy: 0.0870\n",
            "Epoch 22/50\n",
            "29/29 [==============================] - 1s 34ms/step - loss: -48584608479700844544.0000 - accuracy: 0.0637 - val_loss: -53322729539229450240.0000 - val_accuracy: 0.0870\n",
            "Epoch 23/50\n",
            "29/29 [==============================] - 1s 33ms/step - loss: -58487219217777033216.0000 - accuracy: 0.0637 - val_loss: -63409134641004675072.0000 - val_accuracy: 0.0870\n",
            "Epoch 24/50\n",
            "29/29 [==============================] - 1s 33ms/step - loss: -69277250188677742592.0000 - accuracy: 0.0637 - val_loss: -75802609806970191872.0000 - val_accuracy: 0.0870\n",
            "Epoch 25/50\n",
            "29/29 [==============================] - 1s 34ms/step - loss: -81954306995632734208.0000 - accuracy: 0.0637 - val_loss: -89601304813698547712.0000 - val_accuracy: 0.0870\n",
            "Epoch 26/50\n",
            "29/29 [==============================] - 1s 34ms/step - loss: -96159759731987054592.0000 - accuracy: 0.0637 - val_loss: -104945860392521826304.0000 - val_accuracy: 0.0870\n",
            "Epoch 27/50\n",
            "29/29 [==============================] - 1s 34ms/step - loss: -112543424167802830848.0000 - accuracy: 0.0637 - val_loss: -121868443855622242304.0000 - val_accuracy: 0.0870\n",
            "Epoch 28/50\n",
            "29/29 [==============================] - 1s 34ms/step - loss: -130636319011414999040.0000 - accuracy: 0.0637 - val_loss: -140817585578388226048.0000 - val_accuracy: 0.0870\n",
            "Epoch 29/50\n",
            "29/29 [==============================] - 1s 33ms/step - loss: -150848087110960807936.0000 - accuracy: 0.0637 - val_loss: -161935404035779592192.0000 - val_accuracy: 0.0870\n",
            "Epoch 30/50\n",
            "29/29 [==============================] - 1s 33ms/step - loss: -173084575086730543104.0000 - accuracy: 0.0637 - val_loss: -185560918245058281472.0000 - val_accuracy: 0.0870\n",
            "Epoch 31/50\n",
            "29/29 [==============================] - 1s 34ms/step - loss: -198305507056191275008.0000 - accuracy: 0.0637 - val_loss: -210882055306228006912.0000 - val_accuracy: 0.0870\n",
            "Epoch 32/50\n",
            "29/29 [==============================] - 1s 34ms/step - loss: -225488671457046167552.0000 - accuracy: 0.0637 - val_loss: -240808967411314196480.0000 - val_accuracy: 0.0870\n",
            "Epoch 33/50\n",
            "29/29 [==============================] - 1s 35ms/step - loss: -255439737633571340288.0000 - accuracy: 0.0637 - val_loss: -272213887026921996288.0000 - val_accuracy: 0.0870\n",
            "Epoch 34/50\n",
            "29/29 [==============================] - 1s 34ms/step - loss: -288229672464269967360.0000 - accuracy: 0.0637 - val_loss: -305591119396527407104.0000 - val_accuracy: 0.0870\n",
            "Epoch 35/50\n",
            "29/29 [==============================] - 1s 34ms/step - loss: -323934315863179526144.0000 - accuracy: 0.0637 - val_loss: -342554378153798664192.0000 - val_accuracy: 0.0870\n",
            "Epoch 36/50\n",
            "29/29 [==============================] - 1s 35ms/step - loss: -361734857123048718336.0000 - accuracy: 0.0637 - val_loss: -382428756673327792128.0000 - val_accuracy: 0.0870\n",
            "Epoch 37/50\n",
            "29/29 [==============================] - 1s 34ms/step - loss: -403130748629187297280.0000 - accuracy: 0.0637 - val_loss: -425997494262184280064.0000 - val_accuracy: 0.0870\n",
            "Epoch 38/50\n",
            "29/29 [==============================] - 1s 34ms/step - loss: -448316067378037260288.0000 - accuracy: 0.0637 - val_loss: -471247094858840539136.0000 - val_accuracy: 0.0870\n",
            "Epoch 39/50\n",
            "29/29 [==============================] - 1s 34ms/step - loss: -496431364712584708096.0000 - accuracy: 0.0637 - val_loss: -521659333556463206400.0000 - val_accuracy: 0.0870\n",
            "Epoch 40/50\n",
            "29/29 [==============================] - 1s 33ms/step - loss: -547889494054919995392.0000 - accuracy: 0.0637 - val_loss: -573338139280539648000.0000 - val_accuracy: 0.0870\n",
            "Epoch 41/50\n",
            "29/29 [==============================] - 1s 32ms/step - loss: -600749861362483593216.0000 - accuracy: 0.0637 - val_loss: -630129445375355912192.0000 - val_accuracy: 0.0870\n",
            "Epoch 42/50\n",
            "29/29 [==============================] - 1s 33ms/step - loss: -658740250858087251968.0000 - accuracy: 0.0637 - val_loss: -690100996494537523200.0000 - val_accuracy: 0.0870\n",
            "Epoch 43/50\n",
            "29/29 [==============================] - 1s 33ms/step - loss: -719675501928781971456.0000 - accuracy: 0.0637 - val_loss: -754471649655985799168.0000 - val_accuracy: 0.0870\n",
            "Epoch 44/50\n",
            "29/29 [==============================] - 1s 33ms/step - loss: -786023516801622605824.0000 - accuracy: 0.0637 - val_loss: -818672714143965904896.0000 - val_accuracy: 0.0870\n",
            "Epoch 45/50\n",
            "29/29 [==============================] - 1s 34ms/step - loss: -855002337544289386496.0000 - accuracy: 0.0637 - val_loss: -889935633953895481344.0000 - val_accuracy: 0.0870\n",
            "Epoch 46/50\n",
            "29/29 [==============================] - 1s 33ms/step - loss: -928873756332140789760.0000 - accuracy: 0.0637 - val_loss: -968009122300316090368.0000 - val_accuracy: 0.0870\n",
            "Epoch 47/50\n",
            "29/29 [==============================] - 1s 33ms/step - loss: -1010526550851158278144.0000 - accuracy: 0.0637 - val_loss: -1048734175296095256576.0000 - val_accuracy: 0.0870\n",
            "Epoch 48/50\n",
            "29/29 [==============================] - 1s 34ms/step - loss: -1091025931284359675904.0000 - accuracy: 0.0637 - val_loss: -1135651466673276321792.0000 - val_accuracy: 0.0870\n",
            "Epoch 49/50\n",
            "29/29 [==============================] - 1s 34ms/step - loss: -1179250040609664139264.0000 - accuracy: 0.0637 - val_loss: -1224674964932439048192.0000 - val_accuracy: 0.0870\n",
            "Epoch 50/50\n",
            "29/29 [==============================] - 1s 34ms/step - loss: -1271136913438160191488.0000 - accuracy: 0.0637 - val_loss: -1317298668881219420160.0000 - val_accuracy: 0.0870\n"
          ]
        },
        {
          "output_type": "execute_result",
          "data": {
            "text/plain": [
              "<keras.callbacks.History at 0x7f7a12148f50>"
            ]
          },
          "metadata": {},
          "execution_count": 92
        }
      ]
    },
    {
      "cell_type": "code",
      "metadata": {
        "colab": {
          "base_uri": "https://localhost:8080/"
        },
        "id": "6otAu2wQBQX2",
        "outputId": "25709cdd-fc47-4b1c-fb96-afd1abad9a53"
      },
      "source": [
        "score = model.evaluate(x1_test, y1_test)"
      ],
      "execution_count": null,
      "outputs": [
        {
          "output_type": "stream",
          "name": "stdout",
          "text": [
            "13/13 [==============================] - 0s 7ms/step - loss: -1317298668881219420160.0000 - accuracy: 0.0870\n"
          ]
        }
      ]
    },
    {
      "cell_type": "code",
      "metadata": {
        "colab": {
          "base_uri": "https://localhost:8080/"
        },
        "id": "0H9bYI5OBQaT",
        "outputId": "9cc5ffd4-1a3e-45cc-9568-11b6b2fe55be"
      },
      "source": [
        "y1_test"
      ],
      "execution_count": null,
      "outputs": [
        {
          "output_type": "execute_result",
          "data": {
            "text/plain": [
              "1172    19\n",
              "633     21\n",
              "1158    37\n",
              "5       21\n",
              "767     16\n",
              "        ..\n",
              "327      9\n",
              "589     19\n",
              "979      0\n",
              "751      1\n",
              "812      1\n",
              "Name: Device_Src, Length: 391, dtype: int64"
            ]
          },
          "metadata": {},
          "execution_count": 94
        }
      ]
    },
    {
      "cell_type": "code",
      "metadata": {
        "colab": {
          "base_uri": "https://localhost:8080/"
        },
        "id": "jEfb0g85BQfD",
        "outputId": "7a50982e-c46c-4b96-c8fa-1c118c85de88"
      },
      "source": [
        "#RandomForest classifier\n",
        "from sklearn.ensemble import BaggingClassifier\n",
        "from sklearn.tree import DecisionTreeClassifier\n",
        "bag_clf = BaggingClassifier(\n",
        "    DecisionTreeClassifier(splitter=\"random\", max_leaf_nodes=16, random_state=42),\n",
        "    n_estimators=500, max_samples=1.0, bootstrap=True, random_state=42)\n",
        "bag_clf.fit(x1_train, y1_train)\n",
        "y_pred = bag_clf.predict(x1_test)\n",
        "from sklearn.ensemble import RandomForestClassifier\n",
        "\n",
        "rnd_clf = RandomForestClassifier(n_estimators=500, max_leaf_nodes=16, random_state=42)\n",
        "rnd_clf.fit(x1_train, y1_train)\n",
        "\n",
        "y_pred_rf = rnd_clf.predict(x1_test)\n",
        "np.sum(y_pred == y_pred_rf) / len(y_pred)"
      ],
      "execution_count": null,
      "outputs": [
        {
          "output_type": "execute_result",
          "data": {
            "text/plain": [
              "0.7749360613810742"
            ]
          },
          "metadata": {},
          "execution_count": 95
        }
      ]
    },
    {
      "cell_type": "code",
      "metadata": {
        "colab": {
          "base_uri": "https://localhost:8080/"
        },
        "id": "XUc05-61BQiJ",
        "outputId": "51bfe9c5-26e0-4382-be53-928a50787610"
      },
      "source": [
        "#Neural Network Model 1\n",
        "model6 = keras.Sequential()\n",
        "model6.add(Dense(1024, input_dim=683,kernel_initializer='uniform', kernel_regularizer=regularizers.l2(0.001), activation= \"relu\"))\n",
        "model6.add(Dense(512, kernel_initializer='uniform', kernel_regularizer=regularizers.l2(0.001), activation= \"relu\"))\n",
        "model6.add(Dense(256, kernel_initializer='uniform', kernel_regularizer=regularizers.l2(0.001), activation= \"relu\"))\n",
        "model6.add(Dense(1, kernel_initializer='uniform', kernel_regularizer=regularizers.l2(0.001),activation= \"sigmoid\"))\n",
        "model6.summary()"
      ],
      "execution_count": null,
      "outputs": [
        {
          "output_type": "stream",
          "name": "stdout",
          "text": [
            "Model: \"sequential_1\"\n",
            "_________________________________________________________________\n",
            " Layer (type)                Output Shape              Param #   \n",
            "=================================================================\n",
            " dense_4 (Dense)             (None, 1024)              700416    \n",
            "                                                                 \n",
            " dense_5 (Dense)             (None, 512)               524800    \n",
            "                                                                 \n",
            " dense_6 (Dense)             (None, 256)               131328    \n",
            "                                                                 \n",
            " dense_7 (Dense)             (None, 1)                 257       \n",
            "                                                                 \n",
            "=================================================================\n",
            "Total params: 1,356,801\n",
            "Trainable params: 1,356,801\n",
            "Non-trainable params: 0\n",
            "_________________________________________________________________\n"
          ]
        }
      ]
    },
    {
      "cell_type": "code",
      "metadata": {
        "id": "JL3bA3F-BQoe"
      },
      "source": [
        "#Model compilation\n",
        "model6.compile(optimizer='adam',\n",
        "              loss='categorical_crossentropy',\n",
        "              metrics=['accuracy'])"
      ],
      "execution_count": null,
      "outputs": []
    },
    {
      "cell_type": "code",
      "metadata": {
        "colab": {
          "base_uri": "https://localhost:8080/"
        },
        "id": "9ZlXwdpdBQsU",
        "outputId": "d78d698c-2996-4453-ab3a-669d95ab2156"
      },
      "source": [
        "#Model Fit\n",
        "hist = model6.fit(x1_train, y1_train,\n",
        "          batch_size=32, epochs=100,\n",
        "          validation_data=(x1_test, y1_test))"
      ],
      "execution_count": null,
      "outputs": [
        {
          "output_type": "stream",
          "name": "stdout",
          "text": [
            "Epoch 1/100\n",
            "29/29 [==============================] - 2s 35ms/step - loss: 0.7413 - accuracy: 0.0637 - val_loss: 0.6036 - val_accuracy: 0.0870\n",
            "Epoch 2/100\n",
            "29/29 [==============================] - 1s 24ms/step - loss: 0.8613 - accuracy: 0.0637 - val_loss: 1.3498 - val_accuracy: 0.0870\n",
            "Epoch 3/100\n",
            "29/29 [==============================] - 1s 25ms/step - loss: 2.1640 - accuracy: 0.0637 - val_loss: 3.3632 - val_accuracy: 0.0870\n",
            "Epoch 4/100\n",
            "29/29 [==============================] - 1s 25ms/step - loss: 5.0348 - accuracy: 0.0637 - val_loss: 7.3115 - val_accuracy: 0.0870\n",
            "Epoch 5/100\n",
            "29/29 [==============================] - 1s 25ms/step - loss: 10.0764 - accuracy: 0.0637 - val_loss: 13.6953 - val_accuracy: 0.0870\n",
            "Epoch 6/100\n",
            "29/29 [==============================] - 1s 25ms/step - loss: 17.8573 - accuracy: 0.0637 - val_loss: 22.8588 - val_accuracy: 0.0870\n",
            "Epoch 7/100\n",
            "29/29 [==============================] - 1s 25ms/step - loss: 28.1547 - accuracy: 0.0637 - val_loss: 34.3439 - val_accuracy: 0.0870\n",
            "Epoch 8/100\n",
            "29/29 [==============================] - 1s 24ms/step - loss: 41.0588 - accuracy: 0.0637 - val_loss: 48.6620 - val_accuracy: 0.0870\n",
            "Epoch 9/100\n",
            "29/29 [==============================] - 1s 25ms/step - loss: 56.5017 - accuracy: 0.0637 - val_loss: 65.3447 - val_accuracy: 0.0870\n",
            "Epoch 10/100\n",
            "29/29 [==============================] - 1s 25ms/step - loss: 73.9409 - accuracy: 0.0637 - val_loss: 84.3033 - val_accuracy: 0.0870\n",
            "Epoch 11/100\n",
            "29/29 [==============================] - 1s 25ms/step - loss: 94.5047 - accuracy: 0.0637 - val_loss: 106.2402 - val_accuracy: 0.0870\n",
            "Epoch 12/100\n",
            "29/29 [==============================] - 1s 24ms/step - loss: 117.2432 - accuracy: 0.0637 - val_loss: 129.4475 - val_accuracy: 0.0870\n",
            "Epoch 13/100\n",
            "29/29 [==============================] - 1s 25ms/step - loss: 141.3430 - accuracy: 0.0637 - val_loss: 155.4121 - val_accuracy: 0.0870\n",
            "Epoch 14/100\n",
            "29/29 [==============================] - 1s 26ms/step - loss: 168.3022 - accuracy: 0.0637 - val_loss: 183.6750 - val_accuracy: 0.0870\n",
            "Epoch 15/100\n",
            "29/29 [==============================] - 1s 25ms/step - loss: 199.2280 - accuracy: 0.0637 - val_loss: 215.1064 - val_accuracy: 0.0870\n",
            "Epoch 16/100\n",
            "29/29 [==============================] - 1s 24ms/step - loss: 230.7700 - accuracy: 0.0637 - val_loss: 247.7088 - val_accuracy: 0.0870\n",
            "Epoch 17/100\n",
            "29/29 [==============================] - 1s 25ms/step - loss: 262.3575 - accuracy: 0.0637 - val_loss: 280.4329 - val_accuracy: 0.0870\n",
            "Epoch 18/100\n",
            "29/29 [==============================] - 1s 25ms/step - loss: 297.6519 - accuracy: 0.0637 - val_loss: 316.8469 - val_accuracy: 0.0870\n",
            "Epoch 19/100\n",
            "29/29 [==============================] - 1s 25ms/step - loss: 334.7924 - accuracy: 0.0637 - val_loss: 355.6573 - val_accuracy: 0.0870\n",
            "Epoch 20/100\n",
            "29/29 [==============================] - 1s 25ms/step - loss: 374.8946 - accuracy: 0.0637 - val_loss: 396.2040 - val_accuracy: 0.0870\n",
            "Epoch 21/100\n",
            "29/29 [==============================] - 1s 25ms/step - loss: 417.0697 - accuracy: 0.0637 - val_loss: 439.5887 - val_accuracy: 0.0870\n",
            "Epoch 22/100\n",
            "29/29 [==============================] - 1s 26ms/step - loss: 459.0172 - accuracy: 0.0637 - val_loss: 482.1445 - val_accuracy: 0.0870\n",
            "Epoch 23/100\n",
            "29/29 [==============================] - 1s 25ms/step - loss: 503.5392 - accuracy: 0.0637 - val_loss: 527.9531 - val_accuracy: 0.0870\n",
            "Epoch 24/100\n",
            "29/29 [==============================] - 1s 24ms/step - loss: 549.1304 - accuracy: 0.0637 - val_loss: 574.1503 - val_accuracy: 0.0870\n",
            "Epoch 25/100\n",
            "29/29 [==============================] - 1s 25ms/step - loss: 598.9208 - accuracy: 0.0637 - val_loss: 625.5609 - val_accuracy: 0.0870\n",
            "Epoch 26/100\n",
            "29/29 [==============================] - 1s 25ms/step - loss: 650.1616 - accuracy: 0.0637 - val_loss: 676.0166 - val_accuracy: 0.0870\n",
            "Epoch 27/100\n",
            "29/29 [==============================] - 1s 25ms/step - loss: 698.1062 - accuracy: 0.0637 - val_loss: 725.3876 - val_accuracy: 0.0870\n",
            "Epoch 28/100\n",
            "29/29 [==============================] - 1s 25ms/step - loss: 752.3300 - accuracy: 0.0637 - val_loss: 781.1527 - val_accuracy: 0.0870\n",
            "Epoch 29/100\n",
            "29/29 [==============================] - 1s 24ms/step - loss: 807.2624 - accuracy: 0.0637 - val_loss: 836.3895 - val_accuracy: 0.0870\n",
            "Epoch 30/100\n",
            "29/29 [==============================] - 1s 25ms/step - loss: 864.9714 - accuracy: 0.0637 - val_loss: 896.6981 - val_accuracy: 0.0870\n",
            "Epoch 31/100\n",
            "29/29 [==============================] - 1s 26ms/step - loss: 926.6830 - accuracy: 0.0637 - val_loss: 958.0449 - val_accuracy: 0.0870\n",
            "Epoch 32/100\n",
            "29/29 [==============================] - 1s 25ms/step - loss: 987.8724 - accuracy: 0.0637 - val_loss: 1021.8057 - val_accuracy: 0.0870\n",
            "Epoch 33/100\n",
            "29/29 [==============================] - 1s 25ms/step - loss: 1050.9954 - accuracy: 0.0637 - val_loss: 1084.8171 - val_accuracy: 0.0870\n",
            "Epoch 34/100\n",
            "29/29 [==============================] - 1s 25ms/step - loss: 1115.8082 - accuracy: 0.0637 - val_loss: 1151.7979 - val_accuracy: 0.0870\n",
            "Epoch 35/100\n",
            "29/29 [==============================] - 1s 25ms/step - loss: 1184.7380 - accuracy: 0.0637 - val_loss: 1222.4893 - val_accuracy: 0.0870\n",
            "Epoch 36/100\n",
            "29/29 [==============================] - 1s 25ms/step - loss: 1252.8914 - accuracy: 0.0637 - val_loss: 1289.2836 - val_accuracy: 0.0870\n",
            "Epoch 37/100\n",
            "29/29 [==============================] - 1s 24ms/step - loss: 1323.9424 - accuracy: 0.0637 - val_loss: 1362.7393 - val_accuracy: 0.0870\n",
            "Epoch 38/100\n",
            "29/29 [==============================] - 1s 24ms/step - loss: 1398.6165 - accuracy: 0.0637 - val_loss: 1438.5256 - val_accuracy: 0.0870\n",
            "Epoch 39/100\n",
            "29/29 [==============================] - 1s 25ms/step - loss: 1474.6541 - accuracy: 0.0637 - val_loss: 1513.7042 - val_accuracy: 0.0870\n",
            "Epoch 40/100\n",
            "29/29 [==============================] - 1s 24ms/step - loss: 1549.1140 - accuracy: 0.0637 - val_loss: 1589.3724 - val_accuracy: 0.0870\n",
            "Epoch 41/100\n",
            "29/29 [==============================] - 1s 24ms/step - loss: 1627.5471 - accuracy: 0.0637 - val_loss: 1669.7039 - val_accuracy: 0.0870\n",
            "Epoch 42/100\n",
            "29/29 [==============================] - 1s 25ms/step - loss: 1706.4679 - accuracy: 0.0637 - val_loss: 1747.2166 - val_accuracy: 0.0870\n",
            "Epoch 43/100\n",
            "29/29 [==============================] - 1s 25ms/step - loss: 1788.5308 - accuracy: 0.0637 - val_loss: 1829.6570 - val_accuracy: 0.0870\n",
            "Epoch 44/100\n",
            "29/29 [==============================] - 1s 25ms/step - loss: 1866.4775 - accuracy: 0.0637 - val_loss: 1910.3362 - val_accuracy: 0.0870\n",
            "Epoch 45/100\n",
            "29/29 [==============================] - 1s 24ms/step - loss: 1951.6460 - accuracy: 0.0637 - val_loss: 1996.4995 - val_accuracy: 0.0870\n",
            "Epoch 46/100\n",
            "29/29 [==============================] - 1s 24ms/step - loss: 2039.3226 - accuracy: 0.0637 - val_loss: 2084.7615 - val_accuracy: 0.0870\n",
            "Epoch 47/100\n",
            "29/29 [==============================] - 1s 25ms/step - loss: 2126.8965 - accuracy: 0.0637 - val_loss: 2172.3691 - val_accuracy: 0.0870\n",
            "Epoch 48/100\n",
            "29/29 [==============================] - 1s 25ms/step - loss: 2213.0862 - accuracy: 0.0637 - val_loss: 2259.9646 - val_accuracy: 0.0870\n",
            "Epoch 49/100\n",
            "29/29 [==============================] - 1s 25ms/step - loss: 2301.1663 - accuracy: 0.0637 - val_loss: 2347.1582 - val_accuracy: 0.0870\n",
            "Epoch 50/100\n",
            "29/29 [==============================] - 1s 25ms/step - loss: 2389.5776 - accuracy: 0.0637 - val_loss: 2435.6743 - val_accuracy: 0.0870\n",
            "Epoch 51/100\n",
            "29/29 [==============================] - 1s 25ms/step - loss: 2482.0222 - accuracy: 0.0637 - val_loss: 2532.5974 - val_accuracy: 0.0870\n",
            "Epoch 52/100\n",
            "29/29 [==============================] - 1s 25ms/step - loss: 2575.6233 - accuracy: 0.0637 - val_loss: 2625.3381 - val_accuracy: 0.0870\n",
            "Epoch 53/100\n",
            "29/29 [==============================] - 1s 25ms/step - loss: 2669.6099 - accuracy: 0.0637 - val_loss: 2720.1521 - val_accuracy: 0.0870\n",
            "Epoch 54/100\n",
            "29/29 [==============================] - 1s 25ms/step - loss: 2766.2305 - accuracy: 0.0637 - val_loss: 2816.5876 - val_accuracy: 0.0870\n",
            "Epoch 55/100\n",
            "29/29 [==============================] - 1s 25ms/step - loss: 2862.6389 - accuracy: 0.0637 - val_loss: 2914.8398 - val_accuracy: 0.0870\n",
            "Epoch 56/100\n",
            "29/29 [==============================] - 1s 25ms/step - loss: 2956.6428 - accuracy: 0.0637 - val_loss: 3007.2302 - val_accuracy: 0.0870\n",
            "Epoch 57/100\n",
            "29/29 [==============================] - 1s 25ms/step - loss: 3057.3799 - accuracy: 0.0637 - val_loss: 3112.0547 - val_accuracy: 0.0870\n",
            "Epoch 58/100\n",
            "29/29 [==============================] - 1s 25ms/step - loss: 3158.9802 - accuracy: 0.0637 - val_loss: 3211.8376 - val_accuracy: 0.0870\n",
            "Epoch 59/100\n",
            "29/29 [==============================] - 1s 24ms/step - loss: 3260.0400 - accuracy: 0.0637 - val_loss: 3315.2058 - val_accuracy: 0.0870\n",
            "Epoch 60/100\n",
            "29/29 [==============================] - 1s 24ms/step - loss: 3362.5205 - accuracy: 0.0637 - val_loss: 3418.8005 - val_accuracy: 0.0870\n",
            "Epoch 61/100\n",
            "29/29 [==============================] - 1s 24ms/step - loss: 3466.0000 - accuracy: 0.0637 - val_loss: 3521.1567 - val_accuracy: 0.0870\n",
            "Epoch 62/100\n",
            "29/29 [==============================] - 1s 24ms/step - loss: 3571.2961 - accuracy: 0.0637 - val_loss: 3629.3792 - val_accuracy: 0.0870\n",
            "Epoch 63/100\n",
            "29/29 [==============================] - 1s 25ms/step - loss: 3674.5723 - accuracy: 0.0637 - val_loss: 3732.5425 - val_accuracy: 0.0870\n",
            "Epoch 64/100\n",
            "29/29 [==============================] - 1s 25ms/step - loss: 3785.1387 - accuracy: 0.0637 - val_loss: 3842.8657 - val_accuracy: 0.0870\n",
            "Epoch 65/100\n",
            "29/29 [==============================] - 1s 25ms/step - loss: 3893.0972 - accuracy: 0.0637 - val_loss: 3949.9060 - val_accuracy: 0.0870\n",
            "Epoch 66/100\n",
            "29/29 [==============================] - 1s 25ms/step - loss: 4008.5310 - accuracy: 0.0637 - val_loss: 4067.4919 - val_accuracy: 0.0870\n",
            "Epoch 67/100\n",
            "29/29 [==============================] - 1s 24ms/step - loss: 4121.1191 - accuracy: 0.0637 - val_loss: 4177.9419 - val_accuracy: 0.0870\n",
            "Epoch 68/100\n",
            "29/29 [==============================] - 1s 24ms/step - loss: 4226.7461 - accuracy: 0.0637 - val_loss: 4282.2886 - val_accuracy: 0.0870\n",
            "Epoch 69/100\n",
            "29/29 [==============================] - 1s 25ms/step - loss: 4336.1274 - accuracy: 0.0637 - val_loss: 4397.4253 - val_accuracy: 0.0870\n",
            "Epoch 70/100\n",
            "29/29 [==============================] - 1s 24ms/step - loss: 4452.6587 - accuracy: 0.0637 - val_loss: 4512.2188 - val_accuracy: 0.0870\n",
            "Epoch 71/100\n",
            "29/29 [==============================] - 1s 25ms/step - loss: 4567.2847 - accuracy: 0.0637 - val_loss: 4625.5044 - val_accuracy: 0.0870\n",
            "Epoch 72/100\n",
            "29/29 [==============================] - 1s 25ms/step - loss: 4678.5010 - accuracy: 0.0637 - val_loss: 4741.1626 - val_accuracy: 0.0870\n",
            "Epoch 73/100\n",
            "29/29 [==============================] - 1s 25ms/step - loss: 4795.5215 - accuracy: 0.0637 - val_loss: 4855.3677 - val_accuracy: 0.0870\n",
            "Epoch 74/100\n",
            "29/29 [==============================] - 1s 26ms/step - loss: 4914.8198 - accuracy: 0.0637 - val_loss: 4976.4014 - val_accuracy: 0.0870\n",
            "Epoch 75/100\n",
            "29/29 [==============================] - 1s 25ms/step - loss: 5031.7563 - accuracy: 0.0637 - val_loss: 5092.0068 - val_accuracy: 0.0870\n",
            "Epoch 76/100\n",
            "29/29 [==============================] - 1s 25ms/step - loss: 5145.7217 - accuracy: 0.0637 - val_loss: 5208.1675 - val_accuracy: 0.0870\n",
            "Epoch 77/100\n",
            "29/29 [==============================] - 1s 24ms/step - loss: 5265.9619 - accuracy: 0.0637 - val_loss: 5329.8560 - val_accuracy: 0.0870\n",
            "Epoch 78/100\n",
            "29/29 [==============================] - 1s 25ms/step - loss: 5383.6138 - accuracy: 0.0637 - val_loss: 5448.0430 - val_accuracy: 0.0870\n",
            "Epoch 79/100\n",
            "29/29 [==============================] - 1s 24ms/step - loss: 5503.3071 - accuracy: 0.0637 - val_loss: 5566.4448 - val_accuracy: 0.0870\n",
            "Epoch 80/100\n",
            "29/29 [==============================] - 1s 24ms/step - loss: 5630.8066 - accuracy: 0.0637 - val_loss: 5697.5542 - val_accuracy: 0.0870\n",
            "Epoch 81/100\n",
            "29/29 [==============================] - 1s 24ms/step - loss: 5753.0811 - accuracy: 0.0637 - val_loss: 5818.6343 - val_accuracy: 0.0870\n",
            "Epoch 82/100\n",
            "29/29 [==============================] - 1s 25ms/step - loss: 5874.8501 - accuracy: 0.0637 - val_loss: 5941.5972 - val_accuracy: 0.0870\n",
            "Epoch 83/100\n",
            "29/29 [==============================] - 1s 25ms/step - loss: 6000.6045 - accuracy: 0.0637 - val_loss: 6064.0718 - val_accuracy: 0.0870\n",
            "Epoch 84/100\n",
            "29/29 [==============================] - 1s 25ms/step - loss: 6127.2476 - accuracy: 0.0637 - val_loss: 6195.3550 - val_accuracy: 0.0870\n",
            "Epoch 85/100\n",
            "29/29 [==============================] - 1s 25ms/step - loss: nan - accuracy: 0.0538 - val_loss: nan - val_accuracy: 0.0537\n",
            "Epoch 86/100\n",
            "29/29 [==============================] - 1s 25ms/step - loss: nan - accuracy: 0.0538 - val_loss: nan - val_accuracy: 0.0537\n",
            "Epoch 87/100\n",
            "29/29 [==============================] - 1s 25ms/step - loss: nan - accuracy: 0.0538 - val_loss: nan - val_accuracy: 0.0537\n",
            "Epoch 88/100\n",
            "29/29 [==============================] - 1s 25ms/step - loss: nan - accuracy: 0.0538 - val_loss: nan - val_accuracy: 0.0537\n",
            "Epoch 89/100\n",
            "29/29 [==============================] - 1s 25ms/step - loss: nan - accuracy: 0.0538 - val_loss: nan - val_accuracy: 0.0537\n",
            "Epoch 90/100\n",
            "29/29 [==============================] - 1s 26ms/step - loss: nan - accuracy: 0.0538 - val_loss: nan - val_accuracy: 0.0537\n",
            "Epoch 91/100\n",
            "29/29 [==============================] - 1s 26ms/step - loss: nan - accuracy: 0.0538 - val_loss: nan - val_accuracy: 0.0537\n",
            "Epoch 92/100\n",
            "29/29 [==============================] - 1s 27ms/step - loss: nan - accuracy: 0.0538 - val_loss: nan - val_accuracy: 0.0537\n",
            "Epoch 93/100\n",
            "29/29 [==============================] - 1s 27ms/step - loss: nan - accuracy: 0.0538 - val_loss: nan - val_accuracy: 0.0537\n",
            "Epoch 94/100\n",
            "29/29 [==============================] - 1s 27ms/step - loss: nan - accuracy: 0.0538 - val_loss: nan - val_accuracy: 0.0537\n",
            "Epoch 95/100\n",
            "29/29 [==============================] - 1s 26ms/step - loss: nan - accuracy: 0.0538 - val_loss: nan - val_accuracy: 0.0537\n",
            "Epoch 96/100\n",
            "29/29 [==============================] - 1s 25ms/step - loss: nan - accuracy: 0.0538 - val_loss: nan - val_accuracy: 0.0537\n",
            "Epoch 97/100\n",
            "29/29 [==============================] - 1s 25ms/step - loss: nan - accuracy: 0.0538 - val_loss: nan - val_accuracy: 0.0537\n",
            "Epoch 98/100\n",
            "29/29 [==============================] - 1s 26ms/step - loss: nan - accuracy: 0.0538 - val_loss: nan - val_accuracy: 0.0537\n",
            "Epoch 99/100\n",
            "29/29 [==============================] - 1s 26ms/step - loss: nan - accuracy: 0.0538 - val_loss: nan - val_accuracy: 0.0537\n",
            "Epoch 100/100\n",
            "29/29 [==============================] - 1s 26ms/step - loss: nan - accuracy: 0.0538 - val_loss: nan - val_accuracy: 0.0537\n"
          ]
        }
      ]
    },
    {
      "cell_type": "code",
      "metadata": {
        "colab": {
          "base_uri": "https://localhost:8080/"
        },
        "id": "yrsYWgOnBQul",
        "outputId": "3a893dd2-3763-4cab-cc1d-2a690738be38"
      },
      "source": [
        "model6.evaluate(x1_test, y1_test)"
      ],
      "execution_count": null,
      "outputs": [
        {
          "output_type": "stream",
          "name": "stdout",
          "text": [
            "13/13 [==============================] - 0s 7ms/step - loss: nan - accuracy: 0.0537\n"
          ]
        },
        {
          "output_type": "execute_result",
          "data": {
            "text/plain": [
              "[nan, 0.05370844155550003]"
            ]
          },
          "metadata": {},
          "execution_count": 99
        }
      ]
    },
    {
      "cell_type": "code",
      "metadata": {
        "id": "opL8cGwfBQw3"
      },
      "source": [
        "from sklearn.cluster import DBSCAN\n",
        "db=DBSCAN(eps=10,min_samples=10,metric='euclidean')"
      ],
      "execution_count": null,
      "outputs": []
    },
    {
      "cell_type": "code",
      "metadata": {
        "id": "6wVBG4BHBQz7"
      },
      "source": [
        "model7=db.fit(x1)"
      ],
      "execution_count": null,
      "outputs": []
    },
    {
      "cell_type": "code",
      "metadata": {
        "id": "fdVDAi3eBQ3X"
      },
      "source": [
        "label=model7.labels_"
      ],
      "execution_count": null,
      "outputs": []
    },
    {
      "cell_type": "code",
      "metadata": {
        "id": "NZFEAuXxBQ6P",
        "colab": {
          "base_uri": "https://localhost:8080/"
        },
        "outputId": "8ac58e69-0598-4b2d-c5ed-84bef6c833b2"
      },
      "source": [
        "label"
      ],
      "execution_count": null,
      "outputs": [
        {
          "output_type": "execute_result",
          "data": {
            "text/plain": [
              "array([-1, -1, -1, ..., -1, -1, -1])"
            ]
          },
          "metadata": {},
          "execution_count": 103
        }
      ]
    },
    {
      "cell_type": "code",
      "metadata": {
        "colab": {
          "base_uri": "https://localhost:8080/"
        },
        "id": "iYrP9Nefe_YT",
        "outputId": "5cf17df2-01df-405e-9608-0c5d25f9e92c"
      },
      "source": [
        "from sklearn import metrics\n",
        "\n",
        "#identifying the points which makes up our core points\n",
        "sample_cores=np.zeros_like(label,dtype=bool)\n",
        "\n",
        "sample_cores[db.core_sample_indices_]=True\n",
        "\n",
        "#Calculating the number of clusters\n",
        "\n",
        "n_clusters=len(set(label))- (1 if -1 in label else 0)\n",
        "print('No of clusters:',n_clusters)"
      ],
      "execution_count": null,
      "outputs": [
        {
          "output_type": "stream",
          "name": "stdout",
          "text": [
            "No of clusters: 17\n"
          ]
        }
      ]
    },
    {
      "cell_type": "code",
      "metadata": {
        "id": "AtLF2XVsgQ-h"
      },
      "source": [
        "X = StandardScaler().fit_transform(x1)\n",
        "core_samples_mask = np.zeros_like(model7.labels_, dtype=bool)\n",
        "core_samples_mask[model7.core_sample_indices_] = True"
      ],
      "execution_count": null,
      "outputs": []
    },
    {
      "cell_type": "code",
      "metadata": {
        "colab": {
          "base_uri": "https://localhost:8080/",
          "height": 280
        },
        "id": "OfygK4X5flw5",
        "outputId": "e1b35bad-f47e-4d14-a262-d39ba11f74a6"
      },
      "source": [
        "unique_labels = set(label)\n",
        "colors = [plt.cm.Spectral(each) for each in np.linspace(0, 1, len(unique_labels))]\n",
        "for k, col in zip(unique_labels, colors):\n",
        "    if k == -1:\n",
        "        # Black used for noise.\n",
        "        col = [0, 0, 0, 1]\n",
        "\n",
        "    class_member_mask = label == k\n",
        "\n",
        "\n",
        "    xy = X[class_member_mask & core_samples_mask]\n",
        "    plt.plot(\n",
        "        xy[:, 0],\n",
        "        xy[:, 1],\n",
        "        \"o\",\n",
        "        markerfacecolor=tuple(col),\n",
        "        markeredgecolor=\"k\",\n",
        "        markersize=14,\n",
        "    )\n",
        "\n",
        "    xy = X[class_member_mask & ~core_samples_mask]\n",
        "    plt.plot(\n",
        "        xy[:, 0],\n",
        "        xy[:, 1],\n",
        "        \"o\",\n",
        "        markerfacecolor=tuple(col),\n",
        "        markeredgecolor=\"k\",\n",
        "        markersize=6,\n",
        "    )\n",
        "\n",
        "plt.title(\"Estimated number of clusters\")\n",
        "plt.show()"
      ],
      "execution_count": null,
      "outputs": [
        {
          "output_type": "display_data",
          "data": {
            "image/png": "[encoded data removed]",
            "text/plain": [
              "<Figure size 432x288 with 1 Axes>"
            ]
          },
          "metadata": {
            "needs_background": "light"
          }
        }
      ]
    }
  ]
}